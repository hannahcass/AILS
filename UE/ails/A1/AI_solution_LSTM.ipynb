{
 "cells": [
  {
   "cell_type": "code",
   "execution_count": 17,
   "metadata": {},
   "outputs": [],
   "source": [
    "import torch\n",
    "import torch.nn as nn\n",
    "import torch.optim as optim\n",
    "from torch.utils.data import DataLoader, TensorDataset\n",
    "from sklearn.model_selection import train_test_split\n",
    "from sklearn.metrics import log_loss\n",
    "from sklearn.preprocessing import MinMaxScaler\n",
    "from sklearn.model_selection import KFold\n",
    "from sklearn.ensemble import RandomForestClassifier\n",
    "\n",
    "from tqdm import tqdm\n",
    "\n",
    "import pandas as pd\n",
    "import numpy as np\n",
    "\n",
    "import optuna\n",
    "\n",
    "\n",
    "import rdkit\n",
    "from rdkit import Chem\n",
    "from rdkit.Chem import AllChem, DataStructs\n",
    "from sklearn.metrics import roc_auc_score\n",
    "from sklearn.model_selection import GridSearchCV, train_test_split\n",
    "\n",
    "from torch.utils.data import Dataset\n",
    "from sklearn.ensemble import RandomForestRegressor\n",
    "from sklearn.metrics import mean_squared_error\n",
    "import warnings\n",
    "warnings.filterwarnings(\"ignore\", category=FutureWarning)\n"
   ]
  },
  {
   "cell_type": "code",
   "execution_count": 2,
   "metadata": {},
   "outputs": [
    {
     "data": {
      "text/html": [
       "<div>\n",
       "<style scoped>\n",
       "    .dataframe tbody tr th:only-of-type {\n",
       "        vertical-align: middle;\n",
       "    }\n",
       "\n",
       "    .dataframe tbody tr th {\n",
       "        vertical-align: top;\n",
       "    }\n",
       "\n",
       "    .dataframe thead th {\n",
       "        text-align: right;\n",
       "    }\n",
       "</style>\n",
       "<table border=\"1\" class=\"dataframe\">\n",
       "  <thead>\n",
       "    <tr style=\"text-align: right;\">\n",
       "      <th></th>\n",
       "      <th>smiles</th>\n",
       "      <th>task1</th>\n",
       "      <th>task2</th>\n",
       "      <th>task3</th>\n",
       "      <th>task4</th>\n",
       "      <th>task5</th>\n",
       "      <th>task6</th>\n",
       "      <th>task7</th>\n",
       "      <th>task8</th>\n",
       "      <th>task9</th>\n",
       "      <th>task10</th>\n",
       "      <th>task11</th>\n",
       "    </tr>\n",
       "  </thead>\n",
       "  <tbody>\n",
       "    <tr>\n",
       "      <th>0</th>\n",
       "      <td>CC(=O)N(C)c1cccc(-c2ccnc3c(C(=O)c4cccs4)cnn23)c1</td>\n",
       "      <td>0</td>\n",
       "      <td>0</td>\n",
       "      <td>0</td>\n",
       "      <td>0</td>\n",
       "      <td>0</td>\n",
       "      <td>0</td>\n",
       "      <td>0</td>\n",
       "      <td>-1</td>\n",
       "      <td>0</td>\n",
       "      <td>0</td>\n",
       "      <td>0</td>\n",
       "    </tr>\n",
       "    <tr>\n",
       "      <th>1</th>\n",
       "      <td>COc1cc(N)c(Cl)cc1C(=O)OCCCN1CCCCC1.Cl</td>\n",
       "      <td>0</td>\n",
       "      <td>0</td>\n",
       "      <td>0</td>\n",
       "      <td>0</td>\n",
       "      <td>0</td>\n",
       "      <td>0</td>\n",
       "      <td>0</td>\n",
       "      <td>-1</td>\n",
       "      <td>0</td>\n",
       "      <td>0</td>\n",
       "      <td>0</td>\n",
       "    </tr>\n",
       "    <tr>\n",
       "      <th>2</th>\n",
       "      <td>CCCCNc1c(C(=O)OCC)cnc2c1cnn2CC</td>\n",
       "      <td>0</td>\n",
       "      <td>0</td>\n",
       "      <td>0</td>\n",
       "      <td>0</td>\n",
       "      <td>0</td>\n",
       "      <td>0</td>\n",
       "      <td>0</td>\n",
       "      <td>0</td>\n",
       "      <td>0</td>\n",
       "      <td>1</td>\n",
       "      <td>0</td>\n",
       "    </tr>\n",
       "    <tr>\n",
       "      <th>3</th>\n",
       "      <td>C#Cc1cccc(Nc2ncnc3cc(OCCOC)c(OCCOC)cc23)c1.Cl</td>\n",
       "      <td>0</td>\n",
       "      <td>0</td>\n",
       "      <td>0</td>\n",
       "      <td>0</td>\n",
       "      <td>0</td>\n",
       "      <td>0</td>\n",
       "      <td>0</td>\n",
       "      <td>-1</td>\n",
       "      <td>0</td>\n",
       "      <td>0</td>\n",
       "      <td>1</td>\n",
       "    </tr>\n",
       "    <tr>\n",
       "      <th>4</th>\n",
       "      <td>CC1OC2(CCCCC2Oc2cccc(Cl)c2)N=C1O</td>\n",
       "      <td>0</td>\n",
       "      <td>0</td>\n",
       "      <td>0</td>\n",
       "      <td>0</td>\n",
       "      <td>0</td>\n",
       "      <td>0</td>\n",
       "      <td>0</td>\n",
       "      <td>0</td>\n",
       "      <td>0</td>\n",
       "      <td>1</td>\n",
       "      <td>0</td>\n",
       "    </tr>\n",
       "    <tr>\n",
       "      <th>...</th>\n",
       "      <td>...</td>\n",
       "      <td>...</td>\n",
       "      <td>...</td>\n",
       "      <td>...</td>\n",
       "      <td>...</td>\n",
       "      <td>...</td>\n",
       "      <td>...</td>\n",
       "      <td>...</td>\n",
       "      <td>...</td>\n",
       "      <td>...</td>\n",
       "      <td>...</td>\n",
       "      <td>...</td>\n",
       "    </tr>\n",
       "    <tr>\n",
       "      <th>11995</th>\n",
       "      <td>CC(C)(C)NC[C@@H](O)COc1nsnc1N1CCOCC1</td>\n",
       "      <td>0</td>\n",
       "      <td>0</td>\n",
       "      <td>0</td>\n",
       "      <td>0</td>\n",
       "      <td>0</td>\n",
       "      <td>0</td>\n",
       "      <td>0</td>\n",
       "      <td>-1</td>\n",
       "      <td>0</td>\n",
       "      <td>0</td>\n",
       "      <td>0</td>\n",
       "    </tr>\n",
       "    <tr>\n",
       "      <th>11996</th>\n",
       "      <td>CCC[C@@]1(CCc2ccccc2)CC(O)=C([C@H](CC)c2cccc(N...</td>\n",
       "      <td>0</td>\n",
       "      <td>0</td>\n",
       "      <td>0</td>\n",
       "      <td>0</td>\n",
       "      <td>0</td>\n",
       "      <td>0</td>\n",
       "      <td>0</td>\n",
       "      <td>-1</td>\n",
       "      <td>0</td>\n",
       "      <td>0</td>\n",
       "      <td>0</td>\n",
       "    </tr>\n",
       "    <tr>\n",
       "      <th>11997</th>\n",
       "      <td>N=C(O)c1cnc(C2CC2)[nH]1</td>\n",
       "      <td>0</td>\n",
       "      <td>0</td>\n",
       "      <td>0</td>\n",
       "      <td>-1</td>\n",
       "      <td>0</td>\n",
       "      <td>0</td>\n",
       "      <td>0</td>\n",
       "      <td>0</td>\n",
       "      <td>0</td>\n",
       "      <td>0</td>\n",
       "      <td>0</td>\n",
       "    </tr>\n",
       "    <tr>\n",
       "      <th>11998</th>\n",
       "      <td>CN=C=O</td>\n",
       "      <td>0</td>\n",
       "      <td>0</td>\n",
       "      <td>0</td>\n",
       "      <td>0</td>\n",
       "      <td>0</td>\n",
       "      <td>0</td>\n",
       "      <td>-1</td>\n",
       "      <td>0</td>\n",
       "      <td>0</td>\n",
       "      <td>0</td>\n",
       "      <td>0</td>\n",
       "    </tr>\n",
       "    <tr>\n",
       "      <th>11999</th>\n",
       "      <td>Cc1ccc2c(c1N)C(=O)c1ccccc1C2=O</td>\n",
       "      <td>0</td>\n",
       "      <td>0</td>\n",
       "      <td>0</td>\n",
       "      <td>0</td>\n",
       "      <td>0</td>\n",
       "      <td>0</td>\n",
       "      <td>-1</td>\n",
       "      <td>0</td>\n",
       "      <td>1</td>\n",
       "      <td>0</td>\n",
       "      <td>0</td>\n",
       "    </tr>\n",
       "  </tbody>\n",
       "</table>\n",
       "<p>12000 rows × 12 columns</p>\n",
       "</div>"
      ],
      "text/plain": [
       "                                                  smiles  task1  task2  task3  \\\n",
       "0       CC(=O)N(C)c1cccc(-c2ccnc3c(C(=O)c4cccs4)cnn23)c1      0      0      0   \n",
       "1                  COc1cc(N)c(Cl)cc1C(=O)OCCCN1CCCCC1.Cl      0      0      0   \n",
       "2                         CCCCNc1c(C(=O)OCC)cnc2c1cnn2CC      0      0      0   \n",
       "3          C#Cc1cccc(Nc2ncnc3cc(OCCOC)c(OCCOC)cc23)c1.Cl      0      0      0   \n",
       "4                       CC1OC2(CCCCC2Oc2cccc(Cl)c2)N=C1O      0      0      0   \n",
       "...                                                  ...    ...    ...    ...   \n",
       "11995               CC(C)(C)NC[C@@H](O)COc1nsnc1N1CCOCC1      0      0      0   \n",
       "11996  CCC[C@@]1(CCc2ccccc2)CC(O)=C([C@H](CC)c2cccc(N...      0      0      0   \n",
       "11997                            N=C(O)c1cnc(C2CC2)[nH]1      0      0      0   \n",
       "11998                                             CN=C=O      0      0      0   \n",
       "11999                     Cc1ccc2c(c1N)C(=O)c1ccccc1C2=O      0      0      0   \n",
       "\n",
       "       task4  task5  task6  task7  task8  task9  task10  task11  \n",
       "0          0      0      0      0     -1      0       0       0  \n",
       "1          0      0      0      0     -1      0       0       0  \n",
       "2          0      0      0      0      0      0       1       0  \n",
       "3          0      0      0      0     -1      0       0       1  \n",
       "4          0      0      0      0      0      0       1       0  \n",
       "...      ...    ...    ...    ...    ...    ...     ...     ...  \n",
       "11995      0      0      0      0     -1      0       0       0  \n",
       "11996      0      0      0      0     -1      0       0       0  \n",
       "11997     -1      0      0      0      0      0       0       0  \n",
       "11998      0      0      0     -1      0      0       0       0  \n",
       "11999      0      0      0     -1      0      1       0       0  \n",
       "\n",
       "[12000 rows x 12 columns]"
      ]
     },
     "execution_count": 2,
     "metadata": {},
     "output_type": "execute_result"
    }
   ],
   "source": [
    "data = pd.read_csv(\"data_train.csv\", index_col=0).reset_index(drop=True)\n",
    "data\n"
   ]
  },
  {
   "cell_type": "code",
   "execution_count": 25,
   "metadata": {},
   "outputs": [
    {
     "data": {
      "text/plain": [
       "array([[0, 0, 0, ..., 0, 0, 0],\n",
       "       [0, 0, 0, ..., 0, 0, 0],\n",
       "       [0, 0, 0, ..., 0, 1, 0],\n",
       "       ...,\n",
       "       [0, 0, 0, ..., 0, 0, 0],\n",
       "       [0, 0, 0, ..., 0, 0, 0],\n",
       "       [0, 0, 0, ..., 1, 0, 0]], dtype=int64)"
      ]
     },
     "execution_count": 25,
     "metadata": {},
     "output_type": "execute_result"
    }
   ],
   "source": [
    "\n",
    "y = data[data.columns[1:]].to_numpy()\n",
    "y\n"
   ]
  },
  {
   "cell_type": "code",
   "execution_count": 4,
   "metadata": {},
   "outputs": [
    {
     "name": "stderr",
     "output_type": "stream",
     "text": [
      " 18%|█▊        | 2152/12000 [00:01<00:05, 1861.74it/s][09:10:52] WARNING: not removing hydrogen atom without neighbors\n",
      "[09:10:52] WARNING: not removing hydrogen atom without neighbors\n",
      " 19%|█▉        | 2339/12000 [00:01<00:05, 1810.70it/s][09:10:52] WARNING: not removing hydrogen atom without neighbors\n",
      "[09:10:52] WARNING: not removing hydrogen atom without neighbors\n",
      "100%|██████████| 12000/12000 [00:06<00:00, 1790.61it/s]\n"
     ]
    }
   ],
   "source": [
    "fp_length = 1024\n",
    "fps = np.zeros((len(data), fp_length))\n",
    "\n",
    "# Calculate Morgan fingerprints and convert to numpy array\n",
    "for i, smiles in enumerate(tqdm(data['smiles'])):\n",
    "    mol = Chem.MolFromSmiles(smiles)\n",
    "    fp_vec = AllChem.GetMorganFingerprintAsBitVect(\n",
    "        mol, radius=3, nBits=fp_length)\n",
    "    arr = np.zeros((1,))\n",
    "    DataStructs.ConvertToNumpyArray(fp_vec, arr)\n",
    "    fps[i] = arr\n"
   ]
  },
  {
   "cell_type": "code",
   "execution_count": 5,
   "metadata": {},
   "outputs": [
    {
     "name": "stdout",
     "output_type": "stream",
     "text": [
      "fps shape: (12000, 1024)\n",
      "y shape: (12000, 11)\n"
     ]
    }
   ],
   "source": [
    "print(\"fps shape:\", fps.shape)\n",
    "print(\"y shape:\", y.shape)\n"
   ]
  },
  {
   "cell_type": "code",
   "execution_count": 6,
   "metadata": {},
   "outputs": [],
   "source": [
    "X_train, X_val, Y_train, Y_val = train_test_split(\n",
    "    fps, y, test_size=1/6, random_state=42)"
   ]
  },
  {
   "cell_type": "code",
   "execution_count": 165,
   "metadata": {},
   "outputs": [],
   "source": [
    "def train_rf(X_train, y_train, X_test):\n",
    "    seed = 1234\n",
    "    n_tasks = y_train.shape[1]\n",
    "    y_hats_proba = np.empty((X_test.shape[0], n_tasks))\n",
    "    y_hats_class = np.empty_like(y_hats_proba)\n",
    "\n",
    "    # Train RF per task\n",
    "    for j in tqdm(range(n_tasks)):\n",
    "        rf_model = RandomForestClassifier(n_estimators=1000,min_samples_split=5, random_state=seed)\n",
    "        # Mask out unknown samples\n",
    "        # True where label is 0 or 1, False for unknowns\n",
    "        idx = (y_train[:, j] != (0))\n",
    "        # Train model\n",
    "        rf_model.fit(X_train[idx], y_train[idx, j])\n",
    "        # Predict class probabilities (select only values for positiv class with index 1)\n",
    "        y_hats_proba[:, j] = rf_model.predict_proba(X_test)[:, 1]\n",
    "        # Predict class\n",
    "        y_hats_class[:, j] = rf_model.predict(X_test)\n",
    "    return y_hats_proba, y_hats_class\n"
   ]
  },
  {
   "cell_type": "code",
   "execution_count": 33,
   "metadata": {},
   "outputs": [],
   "source": [
    "def calc_masked_AUC_per_task(prediction, target):\n",
    "    auc_per_task = []\n",
    "    for j in range(target.shape[1]):\n",
    "                y_score = prediction[:, j]\n",
    "                y_true = target[:, j]\n",
    "                # Mask out unknown samples\n",
    "                idx = (y_true != (0))\n",
    "                # Calculate AUC per task\n",
    "                auc_per_task.append(roc_auc_score(y_true[idx], y_score[idx]))\n",
    "    return auc_per_task\n"
   ]
  },
  {
   "cell_type": "code",
   "execution_count": 34,
   "metadata": {},
   "outputs": [
    {
     "name": "stderr",
     "output_type": "stream",
     "text": [
      "  9%|▉         | 1/11 [02:36<26:01, 156.15s/it]"
     ]
    },
    {
     "name": "stdout",
     "output_type": "stream",
     "text": [
      "Task 0 - Best parameters: {'max_depth': 30, 'min_samples_leaf': 2, 'min_samples_split': 5, 'n_estimators': 1000}\n"
     ]
    },
    {
     "name": "stderr",
     "output_type": "stream",
     "text": [
      " 18%|█▊        | 2/11 [04:19<18:43, 124.85s/it]"
     ]
    },
    {
     "name": "stdout",
     "output_type": "stream",
     "text": [
      "Task 1 - Best parameters: {'max_depth': 50, 'min_samples_leaf': 1, 'min_samples_split': 2, 'n_estimators': 1000}\n"
     ]
    },
    {
     "name": "stderr",
     "output_type": "stream",
     "text": [
      " 27%|██▋       | 3/11 [06:51<18:20, 137.60s/it]"
     ]
    },
    {
     "name": "stdout",
     "output_type": "stream",
     "text": [
      "Task 2 - Best parameters: {'max_depth': 30, 'min_samples_leaf': 10, 'min_samples_split': 2, 'n_estimators': 1000}\n"
     ]
    },
    {
     "name": "stderr",
     "output_type": "stream",
     "text": [
      " 36%|███▋      | 4/11 [08:16<13:37, 116.79s/it]"
     ]
    },
    {
     "name": "stdout",
     "output_type": "stream",
     "text": [
      "Task 3 - Best parameters: {'max_depth': 20, 'min_samples_leaf': 8, 'min_samples_split': 20, 'n_estimators': 1000}\n"
     ]
    },
    {
     "name": "stderr",
     "output_type": "stream",
     "text": [
      " 45%|████▌     | 5/11 [09:53<10:56, 109.41s/it]"
     ]
    },
    {
     "name": "stdout",
     "output_type": "stream",
     "text": [
      "Task 4 - Best parameters: {'max_depth': 20, 'min_samples_leaf': 8, 'min_samples_split': 2, 'n_estimators': 1000}\n"
     ]
    },
    {
     "name": "stderr",
     "output_type": "stream",
     "text": [
      " 55%|█████▍    | 6/11 [12:16<10:04, 120.92s/it]"
     ]
    },
    {
     "name": "stdout",
     "output_type": "stream",
     "text": [
      "Task 5 - Best parameters: {'max_depth': 20, 'min_samples_leaf': 10, 'min_samples_split': 2, 'n_estimators': 1000}\n"
     ]
    },
    {
     "name": "stderr",
     "output_type": "stream",
     "text": [
      " 64%|██████▎   | 7/11 [52:41<58:17, 874.26s/it]"
     ]
    },
    {
     "name": "stdout",
     "output_type": "stream",
     "text": [
      "Task 6 - Best parameters: {'max_depth': 40, 'min_samples_leaf': 2, 'min_samples_split': 2, 'n_estimators': 1000}\n"
     ]
    },
    {
     "name": "stderr",
     "output_type": "stream",
     "text": [
      " 73%|███████▎  | 8/11 [1:16:24<52:27, 1049.05s/it]"
     ]
    },
    {
     "name": "stdout",
     "output_type": "stream",
     "text": [
      "Task 7 - Best parameters: {'max_depth': 30, 'min_samples_leaf': 6, 'min_samples_split': 2, 'n_estimators': 1000}\n"
     ]
    },
    {
     "name": "stderr",
     "output_type": "stream",
     "text": [
      " 82%|████████▏ | 9/11 [1:40:47<39:16, 1178.34s/it]"
     ]
    },
    {
     "name": "stdout",
     "output_type": "stream",
     "text": [
      "Task 8 - Best parameters: {'max_depth': 40, 'min_samples_leaf': 1, 'min_samples_split': 2, 'n_estimators': 1000}\n"
     ]
    },
    {
     "name": "stderr",
     "output_type": "stream",
     "text": [
      " 91%|█████████ | 10/11 [1:44:26<14:42, 882.15s/it]"
     ]
    },
    {
     "name": "stdout",
     "output_type": "stream",
     "text": [
      "Task 9 - Best parameters: {'max_depth': 30, 'min_samples_leaf': 8, 'min_samples_split': 2, 'n_estimators': 1000}\n"
     ]
    },
    {
     "name": "stderr",
     "output_type": "stream",
     "text": [
      "100%|██████████| 11/11 [1:46:36<00:00, 581.49s/it]"
     ]
    },
    {
     "name": "stdout",
     "output_type": "stream",
     "text": [
      "Task 10 - Best parameters: {'max_depth': 10, 'min_samples_leaf': 10, 'min_samples_split': 2, 'n_estimators': 1000}\n",
      "Mean AUC: 0.7454036210982008\n"
     ]
    },
    {
     "name": "stderr",
     "output_type": "stream",
     "text": [
      "\n"
     ]
    }
   ],
   "source": [
    "def train_rf_with_grid_search(X_train, y_train):\n",
    "    seed = 1234\n",
    "    n_tasks = y_train.shape[1]\n",
    "    y_hats_proba = np.empty((X_val.shape[0], n_tasks))\n",
    "    y_hats_class = np.empty_like(y_hats_proba)\n",
    "\n",
    "    best_params_list = []\n",
    "\n",
    "    for j in tqdm(range(n_tasks)):\n",
    "        # Define the classifier with the search space\n",
    "        rf_model = RandomForestClassifier(random_state=seed)\n",
    "        param_grid = {\n",
    "            'n_estimators': [1000],\n",
    "            'max_depth': [10, 20, 30, 40, 50, None],\n",
    "            'min_samples_split': [2, 5, 10, 15, 20],\n",
    "            'min_samples_leaf': [1, 2, 4, 6, 8, 10],\n",
    "        }\n",
    "\n",
    "        # Mask out unknown samples\n",
    "        idx = (y_train[:, j] != (0))\n",
    "\n",
    "        # Perform grid search with cross-validation\n",
    "        grid_search = GridSearchCV(\n",
    "            rf_model, param_grid, cv=5, scoring='roc_auc', n_jobs=-1)\n",
    "        grid_search.fit(X_train[idx], y_train[idx, j])\n",
    "\n",
    "        # Train the model with the best parameters\n",
    "        best_rf_model = grid_search.best_estimator_\n",
    "        best_rf_model.fit(X_train[idx], y_train[idx, j])\n",
    "\n",
    "        # Predict class probabilities (select only values for positive class with index 1)\n",
    "        y_hats_proba[:, j] = best_rf_model.predict_proba(X_val)[:, 1]\n",
    "        # Predict class\n",
    "        y_hats_class[:, j] = best_rf_model.predict(X_val)\n",
    "\n",
    "        print(f\"Task {j} - Best parameters: {grid_search.best_params_}\")\n",
    "        best_params_list.append(grid_search.best_params_)\n",
    "\n",
    "    return y_hats_proba, y_hats_class, best_params_list\n",
    "\n",
    "\n",
    "y_hats_proba, y_hats_class, best_params_list = train_rf_with_grid_search(\n",
    "    X_train, Y_train)\n",
    "\n",
    "auc_per_task = calc_masked_AUC_per_task(y_hats_proba, Y_val)\n",
    "print(\"Mean AUC:\", np.mean(auc_per_task))\n"
   ]
  },
  {
   "cell_type": "code",
   "execution_count": 166,
   "metadata": {},
   "outputs": [
    {
     "name": "stderr",
     "output_type": "stream",
     "text": [
      "100%|██████████| 11/11 [01:40<00:00,  9.16s/it]\n"
     ]
    }
   ],
   "source": [
    "y_hats_proba, y_hats_class = train_rf(X_train, Y_train, X_val)\n"
   ]
  },
  {
   "cell_type": "code",
   "execution_count": 167,
   "metadata": {},
   "outputs": [
    {
     "data": {
      "text/plain": [
       "0.744468769502772"
      ]
     },
     "execution_count": 167,
     "metadata": {},
     "output_type": "execute_result"
    }
   ],
   "source": [
    "def calc_masked_AUC_per_task(prediction, target):\n",
    "    auc_per_task = []\n",
    "    for j in range(target.shape[1]):\n",
    "        y_score = prediction[:, j]\n",
    "        y_true = target[:, j]\n",
    "        # Mask out unknown samples\n",
    "        idx = (y_true != (0))\n",
    "        # Calculate AUC per task\n",
    "        auc_per_task.append(roc_auc_score(y_true[idx], y_score[idx]))\n",
    "    return auc_per_task\n",
    "\n",
    "auc_per_task = calc_masked_AUC_per_task(y_hats_proba, Y_val)\n",
    "\n",
    "np.mean(auc_per_task)\n"
   ]
  },
  {
   "cell_type": "code",
   "execution_count": null,
   "metadata": {},
   "outputs": [],
   "source": [
    "1000: 0.741506020607747 \n",
    "\n"
   ]
  },
  {
   "cell_type": "code",
   "execution_count": 36,
   "metadata": {},
   "outputs": [
    {
     "data": {
      "text/html": [
       "<div>\n",
       "<style scoped>\n",
       "    .dataframe tbody tr th:only-of-type {\n",
       "        vertical-align: middle;\n",
       "    }\n",
       "\n",
       "    .dataframe tbody tr th {\n",
       "        vertical-align: top;\n",
       "    }\n",
       "\n",
       "    .dataframe thead th {\n",
       "        text-align: right;\n",
       "    }\n",
       "</style>\n",
       "<table border=\"1\" class=\"dataframe\">\n",
       "  <thead>\n",
       "    <tr style=\"text-align: right;\">\n",
       "      <th></th>\n",
       "      <th>smiles</th>\n",
       "    </tr>\n",
       "  </thead>\n",
       "  <tbody>\n",
       "    <tr>\n",
       "      <th>0</th>\n",
       "      <td>OC(COc1ccc(Cl)cc1)=N[C@H]1CC[C@H](N=C(O)COc2cc...</td>\n",
       "    </tr>\n",
       "    <tr>\n",
       "      <th>1</th>\n",
       "      <td>CCCO/N=C(/C)c1cc(C(O)=NC(Cc2cc(F)cc(F)c2)[C@@H...</td>\n",
       "    </tr>\n",
       "    <tr>\n",
       "      <th>2</th>\n",
       "      <td>COc1cc(Cl)ccc1Cl</td>\n",
       "    </tr>\n",
       "    <tr>\n",
       "      <th>3</th>\n",
       "      <td>COc1cc(C(O)=NCc2ccc(OCCN(C)C)cc2)cc(OC)c1OC</td>\n",
       "    </tr>\n",
       "    <tr>\n",
       "      <th>4</th>\n",
       "      <td>CCC(=O)O[C@@]1(C(=O)CCl)[C@@H](C)C[C@H]2[C@@H]...</td>\n",
       "    </tr>\n",
       "    <tr>\n",
       "      <th>...</th>\n",
       "      <td>...</td>\n",
       "    </tr>\n",
       "    <tr>\n",
       "      <th>5891</th>\n",
       "      <td>N#Cc1cc(NC(=O)C(=O)O)c(Cl)c(NC(=O)C(=O)O)c1.NC...</td>\n",
       "    </tr>\n",
       "    <tr>\n",
       "      <th>5892</th>\n",
       "      <td>O=c1cccc2n1C[C@@H]1CNC[C@H]2C1</td>\n",
       "    </tr>\n",
       "    <tr>\n",
       "      <th>5893</th>\n",
       "      <td>CSCC[C@H](N=C(O)[C@H](Cc1ccccc1)N=C(O)CN=C(O)C...</td>\n",
       "    </tr>\n",
       "    <tr>\n",
       "      <th>5894</th>\n",
       "      <td>CCn1cc2c3c(cc(C(O)=NC(Cc4ccccc4)[C@H](O)C[NH2+...</td>\n",
       "    </tr>\n",
       "    <tr>\n",
       "      <th>5895</th>\n",
       "      <td>C[C@H]1CCCN(S(C)(=O)=O)[C@@H]1CO</td>\n",
       "    </tr>\n",
       "  </tbody>\n",
       "</table>\n",
       "<p>5896 rows × 1 columns</p>\n",
       "</div>"
      ],
      "text/plain": [
       "                                                 smiles\n",
       "0     OC(COc1ccc(Cl)cc1)=N[C@H]1CC[C@H](N=C(O)COc2cc...\n",
       "1     CCCO/N=C(/C)c1cc(C(O)=NC(Cc2cc(F)cc(F)c2)[C@@H...\n",
       "2                                      COc1cc(Cl)ccc1Cl\n",
       "3           COc1cc(C(O)=NCc2ccc(OCCN(C)C)cc2)cc(OC)c1OC\n",
       "4     CCC(=O)O[C@@]1(C(=O)CCl)[C@@H](C)C[C@H]2[C@@H]...\n",
       "...                                                 ...\n",
       "5891  N#Cc1cc(NC(=O)C(=O)O)c(Cl)c(NC(=O)C(=O)O)c1.NC...\n",
       "5892                     O=c1cccc2n1C[C@@H]1CNC[C@H]2C1\n",
       "5893  CSCC[C@H](N=C(O)[C@H](Cc1ccccc1)N=C(O)CN=C(O)C...\n",
       "5894  CCn1cc2c3c(cc(C(O)=NC(Cc4ccccc4)[C@H](O)C[NH2+...\n",
       "5895                   C[C@H]1CCCN(S(C)(=O)=O)[C@@H]1CO\n",
       "\n",
       "[5896 rows x 1 columns]"
      ]
     },
     "execution_count": 36,
     "metadata": {},
     "output_type": "execute_result"
    }
   ],
   "source": [
    "test_data = pd.read_csv(\"smiles_test.csv\", index_col=0).reset_index(drop=True)\n",
    "test_data\n"
   ]
  },
  {
   "cell_type": "code",
   "execution_count": 37,
   "metadata": {},
   "outputs": [
    {
     "name": "stderr",
     "output_type": "stream",
     "text": [
      "[14:13:03] WARNING: not removing hydrogen atom without neighbors\n",
      "[14:13:03] WARNING: not removing hydrogen atom without neighbors\n",
      "[14:13:04] WARNING: not removing hydrogen atom without neighbors\n",
      "[14:13:04] WARNING: not removing hydrogen atom without neighbors\n"
     ]
    }
   ],
   "source": [
    "fp_length = 1024\n",
    "\n",
    "test_fps = np.zeros((len(test_data), fp_length))\n",
    "for i, smiles in enumerate(test_data['smiles']):\n",
    "    mol = Chem.MolFromSmiles(smiles)\n",
    "    fp_vec = AllChem.GetMorganFingerprintAsBitVect(\n",
    "        mol, radius=3, nBits=fp_length)\n",
    "    arr = np.zeros((1,))\n",
    "    Chem.DataStructs.ConvertToNumpyArray(fp_vec, arr)\n",
    "    test_fps[i] = arr\n"
   ]
  },
  {
   "cell_type": "code",
   "execution_count": 38,
   "metadata": {},
   "outputs": [],
   "source": [
    "y_hats_proba, y_hats_class = train_rf_with_best_params(\n",
    "    X_train, Y_train, test_fps, best_params_list)\n"
   ]
  },
  {
   "cell_type": "code",
   "execution_count": 142,
   "metadata": {},
   "outputs": [
    {
     "name": "stderr",
     "output_type": "stream",
     "text": [
      "100%|██████████| 11/11 [02:03<00:00, 11.24s/it]\n"
     ]
    }
   ],
   "source": [
    "y_hats_proba, y_hats_class = train_rf(X_train, Y_train, test_fps)"
   ]
  },
  {
   "cell_type": "code",
   "execution_count": 39,
   "metadata": {},
   "outputs": [],
   "source": [
    "predictions = pd.DataFrame(y_hats_proba, columns=data.columns[1:])\n",
    "predictions.index.name = 'ID'\n",
    "predictions.reset_index(inplace=True)\n"
   ]
  },
  {
   "cell_type": "code",
   "execution_count": 40,
   "metadata": {},
   "outputs": [],
   "source": [
    "predictions.to_csv('predictions_rf_search_2.csv', index=False)\n"
   ]
  },
  {
   "cell_type": "code",
   "execution_count": null,
   "metadata": {},
   "outputs": [],
   "source": []
  },
  {
   "cell_type": "code",
   "execution_count": 146,
   "metadata": {},
   "outputs": [
    {
     "ename": "IndexError",
     "evalue": "boolean index did not match indexed array along dimension 0; dimension is 5896 but corresponding boolean dimension is 2000",
     "output_type": "error",
     "traceback": [
      "\u001b[1;31m---------------------------------------------------------------------------\u001b[0m",
      "\u001b[1;31mIndexError\u001b[0m                                Traceback (most recent call last)",
      "Cell \u001b[1;32mIn[146], line 13\u001b[0m\n\u001b[0;32m      9\u001b[0m         auc_per_task\u001b[39m.\u001b[39mappend(roc_auc_score(y_true[idx], y_score[idx]))\n\u001b[0;32m     10\u001b[0m     \u001b[39mreturn\u001b[39;00m auc_per_task\n\u001b[1;32m---> 13\u001b[0m auc_per_task \u001b[39m=\u001b[39m calc_masked_AUC_per_task(y_hats_proba, Y_val)\n\u001b[0;32m     14\u001b[0m auc_per_task\n\u001b[0;32m     16\u001b[0m np\u001b[39m.\u001b[39mmean(auc_per_task)\n",
      "Cell \u001b[1;32mIn[146], line 9\u001b[0m, in \u001b[0;36mcalc_masked_AUC_per_task\u001b[1;34m(prediction, target)\u001b[0m\n\u001b[0;32m      7\u001b[0m     idx \u001b[39m=\u001b[39m (y_true \u001b[39m!=\u001b[39m (\u001b[39m0\u001b[39m))\n\u001b[0;32m      8\u001b[0m     \u001b[39m# Calculate AUC per task\u001b[39;00m\n\u001b[1;32m----> 9\u001b[0m     auc_per_task\u001b[39m.\u001b[39mappend(roc_auc_score(y_true[idx], y_score[idx]))\n\u001b[0;32m     10\u001b[0m \u001b[39mreturn\u001b[39;00m auc_per_task\n",
      "\u001b[1;31mIndexError\u001b[0m: boolean index did not match indexed array along dimension 0; dimension is 5896 but corresponding boolean dimension is 2000"
     ]
    }
   ],
   "source": [
    "def calc_masked_AUC_per_task(prediction, target):\n",
    "    auc_per_task = []\n",
    "    for j in range(target.shape[1]):\n",
    "        y_score = prediction[:, j]\n",
    "        y_true = target[:, j]\n",
    "        # Mask out unknown samples\n",
    "        idx = (y_true != (0))\n",
    "        # Calculate AUC per task\n",
    "        auc_per_task.append(roc_auc_score(y_true[idx], y_score[idx]))\n",
    "    return auc_per_task\n",
    "\n",
    "\n",
    "auc_per_task = calc_masked_AUC_per_task(y_hats_proba, Y_val)\n",
    "auc_per_task\n",
    "\n",
    "np.mean(auc_per_task)\n"
   ]
  },
  {
   "cell_type": "code",
   "execution_count": null,
   "metadata": {},
   "outputs": [],
   "source": []
  },
  {
   "cell_type": "code",
   "execution_count": 170,
   "metadata": {},
   "outputs": [
    {
     "data": {
      "text/html": [
       "<div>\n",
       "<style scoped>\n",
       "    .dataframe tbody tr th:only-of-type {\n",
       "        vertical-align: middle;\n",
       "    }\n",
       "\n",
       "    .dataframe tbody tr th {\n",
       "        vertical-align: top;\n",
       "    }\n",
       "\n",
       "    .dataframe thead th {\n",
       "        text-align: right;\n",
       "    }\n",
       "</style>\n",
       "<table border=\"1\" class=\"dataframe\">\n",
       "  <thead>\n",
       "    <tr style=\"text-align: right;\">\n",
       "      <th></th>\n",
       "      <th>task1</th>\n",
       "      <th>task2</th>\n",
       "      <th>task3</th>\n",
       "      <th>task4</th>\n",
       "      <th>task5</th>\n",
       "      <th>task6</th>\n",
       "      <th>task7</th>\n",
       "      <th>task8</th>\n",
       "      <th>task9</th>\n",
       "      <th>task10</th>\n",
       "      <th>task11</th>\n",
       "    </tr>\n",
       "  </thead>\n",
       "  <tbody>\n",
       "    <tr>\n",
       "      <th>0</th>\n",
       "      <td>0.965388</td>\n",
       "      <td>0.669021</td>\n",
       "      <td>0.364129</td>\n",
       "      <td>0.248534</td>\n",
       "      <td>0.082723</td>\n",
       "      <td>0.101662</td>\n",
       "      <td>0.894853</td>\n",
       "      <td>0.099291</td>\n",
       "      <td>0.931158</td>\n",
       "      <td>0.132221</td>\n",
       "      <td>0.617906</td>\n",
       "    </tr>\n",
       "    <tr>\n",
       "      <th>1</th>\n",
       "      <td>0.972610</td>\n",
       "      <td>0.986971</td>\n",
       "      <td>0.060073</td>\n",
       "      <td>0.286885</td>\n",
       "      <td>0.865854</td>\n",
       "      <td>0.805776</td>\n",
       "      <td>0.481583</td>\n",
       "      <td>0.715330</td>\n",
       "      <td>0.388927</td>\n",
       "      <td>0.998184</td>\n",
       "      <td>0.378946</td>\n",
       "    </tr>\n",
       "    <tr>\n",
       "      <th>2</th>\n",
       "      <td>0.366591</td>\n",
       "      <td>0.275695</td>\n",
       "      <td>0.063553</td>\n",
       "      <td>0.966171</td>\n",
       "      <td>0.442205</td>\n",
       "      <td>0.969089</td>\n",
       "      <td>0.509688</td>\n",
       "      <td>0.540241</td>\n",
       "      <td>0.441256</td>\n",
       "      <td>0.164225</td>\n",
       "      <td>0.070570</td>\n",
       "    </tr>\n",
       "    <tr>\n",
       "      <th>3</th>\n",
       "      <td>0.475604</td>\n",
       "      <td>0.490168</td>\n",
       "      <td>0.755998</td>\n",
       "      <td>0.477857</td>\n",
       "      <td>0.371955</td>\n",
       "      <td>0.947405</td>\n",
       "      <td>0.280805</td>\n",
       "      <td>0.872361</td>\n",
       "      <td>0.513712</td>\n",
       "      <td>0.570384</td>\n",
       "      <td>0.990165</td>\n",
       "    </tr>\n",
       "    <tr>\n",
       "      <th>4</th>\n",
       "      <td>0.034529</td>\n",
       "      <td>0.669413</td>\n",
       "      <td>0.480047</td>\n",
       "      <td>0.011377</td>\n",
       "      <td>0.747641</td>\n",
       "      <td>0.272674</td>\n",
       "      <td>0.322530</td>\n",
       "      <td>0.330088</td>\n",
       "      <td>0.929216</td>\n",
       "      <td>0.492997</td>\n",
       "      <td>0.496907</td>\n",
       "    </tr>\n",
       "    <tr>\n",
       "      <th>...</th>\n",
       "      <td>...</td>\n",
       "      <td>...</td>\n",
       "      <td>...</td>\n",
       "      <td>...</td>\n",
       "      <td>...</td>\n",
       "      <td>...</td>\n",
       "      <td>...</td>\n",
       "      <td>...</td>\n",
       "      <td>...</td>\n",
       "      <td>...</td>\n",
       "      <td>...</td>\n",
       "    </tr>\n",
       "    <tr>\n",
       "      <th>5891</th>\n",
       "      <td>0.841416</td>\n",
       "      <td>0.832933</td>\n",
       "      <td>0.144299</td>\n",
       "      <td>0.092632</td>\n",
       "      <td>0.860756</td>\n",
       "      <td>0.797975</td>\n",
       "      <td>0.407141</td>\n",
       "      <td>0.819184</td>\n",
       "      <td>0.808753</td>\n",
       "      <td>0.693338</td>\n",
       "      <td>0.253581</td>\n",
       "    </tr>\n",
       "    <tr>\n",
       "      <th>5892</th>\n",
       "      <td>0.634844</td>\n",
       "      <td>0.643848</td>\n",
       "      <td>0.698586</td>\n",
       "      <td>0.211566</td>\n",
       "      <td>0.791034</td>\n",
       "      <td>0.462967</td>\n",
       "      <td>0.498234</td>\n",
       "      <td>0.265715</td>\n",
       "      <td>0.171268</td>\n",
       "      <td>0.524664</td>\n",
       "      <td>0.046151</td>\n",
       "    </tr>\n",
       "    <tr>\n",
       "      <th>5893</th>\n",
       "      <td>0.161446</td>\n",
       "      <td>0.419693</td>\n",
       "      <td>0.310739</td>\n",
       "      <td>0.977375</td>\n",
       "      <td>0.632457</td>\n",
       "      <td>0.645635</td>\n",
       "      <td>0.952371</td>\n",
       "      <td>0.000913</td>\n",
       "      <td>0.391865</td>\n",
       "      <td>0.986964</td>\n",
       "      <td>0.953342</td>\n",
       "    </tr>\n",
       "    <tr>\n",
       "      <th>5894</th>\n",
       "      <td>0.630445</td>\n",
       "      <td>0.798230</td>\n",
       "      <td>0.842443</td>\n",
       "      <td>0.188696</td>\n",
       "      <td>0.407885</td>\n",
       "      <td>0.308575</td>\n",
       "      <td>0.523217</td>\n",
       "      <td>0.240382</td>\n",
       "      <td>0.564827</td>\n",
       "      <td>0.343042</td>\n",
       "      <td>0.005972</td>\n",
       "    </tr>\n",
       "    <tr>\n",
       "      <th>5895</th>\n",
       "      <td>0.479574</td>\n",
       "      <td>0.971824</td>\n",
       "      <td>0.321590</td>\n",
       "      <td>0.593165</td>\n",
       "      <td>0.526852</td>\n",
       "      <td>0.986518</td>\n",
       "      <td>0.237232</td>\n",
       "      <td>0.365996</td>\n",
       "      <td>0.190525</td>\n",
       "      <td>0.541898</td>\n",
       "      <td>0.030638</td>\n",
       "    </tr>\n",
       "  </tbody>\n",
       "</table>\n",
       "<p>5896 rows × 11 columns</p>\n",
       "</div>"
      ],
      "text/plain": [
       "         task1     task2     task3     task4     task5     task6     task7  \\\n",
       "0     0.965388  0.669021  0.364129  0.248534  0.082723  0.101662  0.894853   \n",
       "1     0.972610  0.986971  0.060073  0.286885  0.865854  0.805776  0.481583   \n",
       "2     0.366591  0.275695  0.063553  0.966171  0.442205  0.969089  0.509688   \n",
       "3     0.475604  0.490168  0.755998  0.477857  0.371955  0.947405  0.280805   \n",
       "4     0.034529  0.669413  0.480047  0.011377  0.747641  0.272674  0.322530   \n",
       "...        ...       ...       ...       ...       ...       ...       ...   \n",
       "5891  0.841416  0.832933  0.144299  0.092632  0.860756  0.797975  0.407141   \n",
       "5892  0.634844  0.643848  0.698586  0.211566  0.791034  0.462967  0.498234   \n",
       "5893  0.161446  0.419693  0.310739  0.977375  0.632457  0.645635  0.952371   \n",
       "5894  0.630445  0.798230  0.842443  0.188696  0.407885  0.308575  0.523217   \n",
       "5895  0.479574  0.971824  0.321590  0.593165  0.526852  0.986518  0.237232   \n",
       "\n",
       "         task8     task9    task10    task11  \n",
       "0     0.099291  0.931158  0.132221  0.617906  \n",
       "1     0.715330  0.388927  0.998184  0.378946  \n",
       "2     0.540241  0.441256  0.164225  0.070570  \n",
       "3     0.872361  0.513712  0.570384  0.990165  \n",
       "4     0.330088  0.929216  0.492997  0.496907  \n",
       "...        ...       ...       ...       ...  \n",
       "5891  0.819184  0.808753  0.693338  0.253581  \n",
       "5892  0.265715  0.171268  0.524664  0.046151  \n",
       "5893  0.000913  0.391865  0.986964  0.953342  \n",
       "5894  0.240382  0.564827  0.343042  0.005972  \n",
       "5895  0.365996  0.190525  0.541898  0.030638  \n",
       "\n",
       "[5896 rows x 11 columns]"
      ]
     },
     "execution_count": 170,
     "metadata": {},
     "output_type": "execute_result"
    }
   ],
   "source": [
    "score_data = pd.read_csv(\"sample_submission.csv\",\n",
    "                         index_col=0).reset_index(drop=True)\n",
    "score_data"
   ]
  },
  {
   "cell_type": "code",
   "execution_count": 171,
   "metadata": {},
   "outputs": [
    {
     "data": {
      "text/html": [
       "<div>\n",
       "<style scoped>\n",
       "    .dataframe tbody tr th:only-of-type {\n",
       "        vertical-align: middle;\n",
       "    }\n",
       "\n",
       "    .dataframe tbody tr th {\n",
       "        vertical-align: top;\n",
       "    }\n",
       "\n",
       "    .dataframe thead th {\n",
       "        text-align: right;\n",
       "    }\n",
       "</style>\n",
       "<table border=\"1\" class=\"dataframe\">\n",
       "  <thead>\n",
       "    <tr style=\"text-align: right;\">\n",
       "      <th></th>\n",
       "      <th>task1</th>\n",
       "      <th>task2</th>\n",
       "      <th>task3</th>\n",
       "      <th>task4</th>\n",
       "      <th>task5</th>\n",
       "      <th>task6</th>\n",
       "      <th>task7</th>\n",
       "      <th>task8</th>\n",
       "      <th>task9</th>\n",
       "      <th>task10</th>\n",
       "      <th>task11</th>\n",
       "    </tr>\n",
       "  </thead>\n",
       "  <tbody>\n",
       "    <tr>\n",
       "      <th>0</th>\n",
       "      <td>-1.0</td>\n",
       "      <td>-1.0</td>\n",
       "      <td>-1.0</td>\n",
       "      <td>-1.0</td>\n",
       "      <td>-1.0</td>\n",
       "      <td>-1.0</td>\n",
       "      <td>-1.0</td>\n",
       "      <td>0.0</td>\n",
       "      <td>-1.0</td>\n",
       "      <td>-1.0</td>\n",
       "      <td>-1.0</td>\n",
       "    </tr>\n",
       "    <tr>\n",
       "      <th>1</th>\n",
       "      <td>-1.0</td>\n",
       "      <td>-1.0</td>\n",
       "      <td>-1.0</td>\n",
       "      <td>-1.0</td>\n",
       "      <td>-1.0</td>\n",
       "      <td>-1.0</td>\n",
       "      <td>-1.0</td>\n",
       "      <td>0.0</td>\n",
       "      <td>-1.0</td>\n",
       "      <td>-1.0</td>\n",
       "      <td>-1.0</td>\n",
       "    </tr>\n",
       "    <tr>\n",
       "      <th>2</th>\n",
       "      <td>-1.0</td>\n",
       "      <td>-1.0</td>\n",
       "      <td>-1.0</td>\n",
       "      <td>-1.0</td>\n",
       "      <td>-1.0</td>\n",
       "      <td>-1.0</td>\n",
       "      <td>-1.0</td>\n",
       "      <td>-1.0</td>\n",
       "      <td>-1.0</td>\n",
       "      <td>1.0</td>\n",
       "      <td>-1.0</td>\n",
       "    </tr>\n",
       "    <tr>\n",
       "      <th>3</th>\n",
       "      <td>-1.0</td>\n",
       "      <td>-1.0</td>\n",
       "      <td>-1.0</td>\n",
       "      <td>-1.0</td>\n",
       "      <td>-1.0</td>\n",
       "      <td>-1.0</td>\n",
       "      <td>-1.0</td>\n",
       "      <td>0.0</td>\n",
       "      <td>-1.0</td>\n",
       "      <td>-1.0</td>\n",
       "      <td>1.0</td>\n",
       "    </tr>\n",
       "    <tr>\n",
       "      <th>4</th>\n",
       "      <td>-1.0</td>\n",
       "      <td>-1.0</td>\n",
       "      <td>-1.0</td>\n",
       "      <td>-1.0</td>\n",
       "      <td>-1.0</td>\n",
       "      <td>-1.0</td>\n",
       "      <td>-1.0</td>\n",
       "      <td>-1.0</td>\n",
       "      <td>-1.0</td>\n",
       "      <td>1.0</td>\n",
       "      <td>-1.0</td>\n",
       "    </tr>\n",
       "    <tr>\n",
       "      <th>...</th>\n",
       "      <td>...</td>\n",
       "      <td>...</td>\n",
       "      <td>...</td>\n",
       "      <td>...</td>\n",
       "      <td>...</td>\n",
       "      <td>...</td>\n",
       "      <td>...</td>\n",
       "      <td>...</td>\n",
       "      <td>...</td>\n",
       "      <td>...</td>\n",
       "      <td>...</td>\n",
       "    </tr>\n",
       "    <tr>\n",
       "      <th>5891</th>\n",
       "      <td>-1.0</td>\n",
       "      <td>-1.0</td>\n",
       "      <td>-1.0</td>\n",
       "      <td>-1.0</td>\n",
       "      <td>-1.0</td>\n",
       "      <td>-1.0</td>\n",
       "      <td>0.0</td>\n",
       "      <td>-1.0</td>\n",
       "      <td>0.0</td>\n",
       "      <td>-1.0</td>\n",
       "      <td>-1.0</td>\n",
       "    </tr>\n",
       "    <tr>\n",
       "      <th>5892</th>\n",
       "      <td>-1.0</td>\n",
       "      <td>-1.0</td>\n",
       "      <td>0.0</td>\n",
       "      <td>-1.0</td>\n",
       "      <td>-1.0</td>\n",
       "      <td>-1.0</td>\n",
       "      <td>-1.0</td>\n",
       "      <td>-1.0</td>\n",
       "      <td>-1.0</td>\n",
       "      <td>-1.0</td>\n",
       "      <td>-1.0</td>\n",
       "    </tr>\n",
       "    <tr>\n",
       "      <th>5893</th>\n",
       "      <td>-1.0</td>\n",
       "      <td>-1.0</td>\n",
       "      <td>-1.0</td>\n",
       "      <td>-1.0</td>\n",
       "      <td>-1.0</td>\n",
       "      <td>-1.0</td>\n",
       "      <td>-1.0</td>\n",
       "      <td>0.0</td>\n",
       "      <td>-1.0</td>\n",
       "      <td>-1.0</td>\n",
       "      <td>-1.0</td>\n",
       "    </tr>\n",
       "    <tr>\n",
       "      <th>5894</th>\n",
       "      <td>-1.0</td>\n",
       "      <td>-1.0</td>\n",
       "      <td>-1.0</td>\n",
       "      <td>0.0</td>\n",
       "      <td>-1.0</td>\n",
       "      <td>-1.0</td>\n",
       "      <td>-1.0</td>\n",
       "      <td>-1.0</td>\n",
       "      <td>-1.0</td>\n",
       "      <td>-1.0</td>\n",
       "      <td>-1.0</td>\n",
       "    </tr>\n",
       "    <tr>\n",
       "      <th>5895</th>\n",
       "      <td>-1.0</td>\n",
       "      <td>-1.0</td>\n",
       "      <td>-1.0</td>\n",
       "      <td>-1.0</td>\n",
       "      <td>-1.0</td>\n",
       "      <td>-1.0</td>\n",
       "      <td>-1.0</td>\n",
       "      <td>-1.0</td>\n",
       "      <td>-1.0</td>\n",
       "      <td>-1.0</td>\n",
       "      <td>0.0</td>\n",
       "    </tr>\n",
       "  </tbody>\n",
       "</table>\n",
       "<p>5896 rows × 11 columns</p>\n",
       "</div>"
      ],
      "text/plain": [
       "      task1  task2  task3  task4  task5  task6  task7  task8  task9  task10  \\\n",
       "0      -1.0   -1.0   -1.0   -1.0   -1.0   -1.0   -1.0    0.0   -1.0    -1.0   \n",
       "1      -1.0   -1.0   -1.0   -1.0   -1.0   -1.0   -1.0    0.0   -1.0    -1.0   \n",
       "2      -1.0   -1.0   -1.0   -1.0   -1.0   -1.0   -1.0   -1.0   -1.0     1.0   \n",
       "3      -1.0   -1.0   -1.0   -1.0   -1.0   -1.0   -1.0    0.0   -1.0    -1.0   \n",
       "4      -1.0   -1.0   -1.0   -1.0   -1.0   -1.0   -1.0   -1.0   -1.0     1.0   \n",
       "...     ...    ...    ...    ...    ...    ...    ...    ...    ...     ...   \n",
       "5891   -1.0   -1.0   -1.0   -1.0   -1.0   -1.0    0.0   -1.0    0.0    -1.0   \n",
       "5892   -1.0   -1.0    0.0   -1.0   -1.0   -1.0   -1.0   -1.0   -1.0    -1.0   \n",
       "5893   -1.0   -1.0   -1.0   -1.0   -1.0   -1.0   -1.0    0.0   -1.0    -1.0   \n",
       "5894   -1.0   -1.0   -1.0    0.0   -1.0   -1.0   -1.0   -1.0   -1.0    -1.0   \n",
       "5895   -1.0   -1.0   -1.0   -1.0   -1.0   -1.0   -1.0   -1.0   -1.0    -1.0   \n",
       "\n",
       "      task11  \n",
       "0       -1.0  \n",
       "1       -1.0  \n",
       "2       -1.0  \n",
       "3        1.0  \n",
       "4       -1.0  \n",
       "...      ...  \n",
       "5891    -1.0  \n",
       "5892    -1.0  \n",
       "5893    -1.0  \n",
       "5894    -1.0  \n",
       "5895     0.0  \n",
       "\n",
       "[5896 rows x 11 columns]"
      ]
     },
     "execution_count": 171,
     "metadata": {},
     "output_type": "execute_result"
    }
   ],
   "source": [
    "target = pd.read_csv(\"data_train.csv\", index_col=0).reset_index(drop=True)\n",
    "target = target.iloc[:5896, 1:]\n",
    "target = (target + 1)/2\n",
    "target[target == 0.5] = -1\n",
    "\n",
    "target\n"
   ]
  },
  {
   "cell_type": "code",
   "execution_count": 172,
   "metadata": {},
   "outputs": [
    {
     "name": "stdout",
     "output_type": "stream",
     "text": [
      "0.4993757843211411\n"
     ]
    }
   ],
   "source": [
    "auc_per_task = []\n",
    "for j in range(target.shape[1]):\n",
    "    y_score = predictions_df.iloc[:, j]\n",
    "    y_true = target.iloc[:, j]\n",
    "    idx = (y_true != (0))\n",
    "    y_true_filtered = y_true[idx]\n",
    "    y_score_filtered = y_score[idx]\n",
    "\n",
    "    if len(np.unique(y_true_filtered)) >= 2:\n",
    "        auc_per_task.append(roc_auc_score(y_true_filtered, y_score_filtered))\n",
    "    else:\n",
    "        auc_per_task.append(np.nan)\n",
    "\n",
    "avg_auc = np.nanmean(auc_per_task)\n",
    "print(avg_auc)\n"
   ]
  },
  {
   "cell_type": "code",
   "execution_count": null,
   "metadata": {},
   "outputs": [],
   "source": []
  },
  {
   "cell_type": "code",
   "execution_count": null,
   "metadata": {},
   "outputs": [],
   "source": []
  }
 ],
 "metadata": {
  "kernelspec": {
   "display_name": "ails",
   "language": "python",
   "name": "python3"
  },
  "language_info": {
   "codemirror_mode": {
    "name": "ipython",
    "version": 3
   },
   "file_extension": ".py",
   "mimetype": "text/x-python",
   "name": "python",
   "nbconvert_exporter": "python",
   "pygments_lexer": "ipython3",
   "version": "3.9.16"
  },
  "orig_nbformat": 4
 },
 "nbformat": 4,
 "nbformat_minor": 2
}
