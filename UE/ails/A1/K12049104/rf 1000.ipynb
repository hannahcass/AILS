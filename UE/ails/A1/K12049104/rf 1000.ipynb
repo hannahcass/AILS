{
 "cells": [
  {
   "cell_type": "code",
   "execution_count": 2,
   "metadata": {},
   "outputs": [],
   "source": [
    "\n",
    "from sklearn.model_selection import train_test_split\n",
    "from sklearn.ensemble import RandomForestClassifier\n",
    "\n",
    "from tqdm import tqdm\n",
    "\n",
    "import pandas as pd\n",
    "import numpy as np\n",
    "\n",
    "\n",
    "import rdkit\n",
    "from rdkit import Chem\n",
    "from rdkit.Chem import AllChem, DataStructs\n",
    "from sklearn.metrics import roc_auc_score\n",
    "\n",
    "\n",
    "\n",
    "import warnings\n",
    "warnings.filterwarnings(\"ignore\", category=FutureWarning)\n"
   ]
  },
  {
   "cell_type": "code",
   "execution_count": 3,
   "metadata": {},
   "outputs": [
    {
     "data": {
      "text/html": [
       "<div>\n",
       "<style scoped>\n",
       "    .dataframe tbody tr th:only-of-type {\n",
       "        vertical-align: middle;\n",
       "    }\n",
       "\n",
       "    .dataframe tbody tr th {\n",
       "        vertical-align: top;\n",
       "    }\n",
       "\n",
       "    .dataframe thead th {\n",
       "        text-align: right;\n",
       "    }\n",
       "</style>\n",
       "<table border=\"1\" class=\"dataframe\">\n",
       "  <thead>\n",
       "    <tr style=\"text-align: right;\">\n",
       "      <th></th>\n",
       "      <th>smiles</th>\n",
       "      <th>task1</th>\n",
       "      <th>task2</th>\n",
       "      <th>task3</th>\n",
       "      <th>task4</th>\n",
       "      <th>task5</th>\n",
       "      <th>task6</th>\n",
       "      <th>task7</th>\n",
       "      <th>task8</th>\n",
       "      <th>task9</th>\n",
       "      <th>task10</th>\n",
       "      <th>task11</th>\n",
       "    </tr>\n",
       "  </thead>\n",
       "  <tbody>\n",
       "    <tr>\n",
       "      <th>0</th>\n",
       "      <td>CC(=O)N(C)c1cccc(-c2ccnc3c(C(=O)c4cccs4)cnn23)c1</td>\n",
       "      <td>0</td>\n",
       "      <td>0</td>\n",
       "      <td>0</td>\n",
       "      <td>0</td>\n",
       "      <td>0</td>\n",
       "      <td>0</td>\n",
       "      <td>0</td>\n",
       "      <td>-1</td>\n",
       "      <td>0</td>\n",
       "      <td>0</td>\n",
       "      <td>0</td>\n",
       "    </tr>\n",
       "    <tr>\n",
       "      <th>1</th>\n",
       "      <td>COc1cc(N)c(Cl)cc1C(=O)OCCCN1CCCCC1.Cl</td>\n",
       "      <td>0</td>\n",
       "      <td>0</td>\n",
       "      <td>0</td>\n",
       "      <td>0</td>\n",
       "      <td>0</td>\n",
       "      <td>0</td>\n",
       "      <td>0</td>\n",
       "      <td>-1</td>\n",
       "      <td>0</td>\n",
       "      <td>0</td>\n",
       "      <td>0</td>\n",
       "    </tr>\n",
       "    <tr>\n",
       "      <th>2</th>\n",
       "      <td>CCCCNc1c(C(=O)OCC)cnc2c1cnn2CC</td>\n",
       "      <td>0</td>\n",
       "      <td>0</td>\n",
       "      <td>0</td>\n",
       "      <td>0</td>\n",
       "      <td>0</td>\n",
       "      <td>0</td>\n",
       "      <td>0</td>\n",
       "      <td>0</td>\n",
       "      <td>0</td>\n",
       "      <td>1</td>\n",
       "      <td>0</td>\n",
       "    </tr>\n",
       "    <tr>\n",
       "      <th>3</th>\n",
       "      <td>C#Cc1cccc(Nc2ncnc3cc(OCCOC)c(OCCOC)cc23)c1.Cl</td>\n",
       "      <td>0</td>\n",
       "      <td>0</td>\n",
       "      <td>0</td>\n",
       "      <td>0</td>\n",
       "      <td>0</td>\n",
       "      <td>0</td>\n",
       "      <td>0</td>\n",
       "      <td>-1</td>\n",
       "      <td>0</td>\n",
       "      <td>0</td>\n",
       "      <td>1</td>\n",
       "    </tr>\n",
       "    <tr>\n",
       "      <th>4</th>\n",
       "      <td>CC1OC2(CCCCC2Oc2cccc(Cl)c2)N=C1O</td>\n",
       "      <td>0</td>\n",
       "      <td>0</td>\n",
       "      <td>0</td>\n",
       "      <td>0</td>\n",
       "      <td>0</td>\n",
       "      <td>0</td>\n",
       "      <td>0</td>\n",
       "      <td>0</td>\n",
       "      <td>0</td>\n",
       "      <td>1</td>\n",
       "      <td>0</td>\n",
       "    </tr>\n",
       "    <tr>\n",
       "      <th>...</th>\n",
       "      <td>...</td>\n",
       "      <td>...</td>\n",
       "      <td>...</td>\n",
       "      <td>...</td>\n",
       "      <td>...</td>\n",
       "      <td>...</td>\n",
       "      <td>...</td>\n",
       "      <td>...</td>\n",
       "      <td>...</td>\n",
       "      <td>...</td>\n",
       "      <td>...</td>\n",
       "      <td>...</td>\n",
       "    </tr>\n",
       "    <tr>\n",
       "      <th>11995</th>\n",
       "      <td>CC(C)(C)NC[C@@H](O)COc1nsnc1N1CCOCC1</td>\n",
       "      <td>0</td>\n",
       "      <td>0</td>\n",
       "      <td>0</td>\n",
       "      <td>0</td>\n",
       "      <td>0</td>\n",
       "      <td>0</td>\n",
       "      <td>0</td>\n",
       "      <td>-1</td>\n",
       "      <td>0</td>\n",
       "      <td>0</td>\n",
       "      <td>0</td>\n",
       "    </tr>\n",
       "    <tr>\n",
       "      <th>11996</th>\n",
       "      <td>CCC[C@@]1(CCc2ccccc2)CC(O)=C([C@H](CC)c2cccc(N...</td>\n",
       "      <td>0</td>\n",
       "      <td>0</td>\n",
       "      <td>0</td>\n",
       "      <td>0</td>\n",
       "      <td>0</td>\n",
       "      <td>0</td>\n",
       "      <td>0</td>\n",
       "      <td>-1</td>\n",
       "      <td>0</td>\n",
       "      <td>0</td>\n",
       "      <td>0</td>\n",
       "    </tr>\n",
       "    <tr>\n",
       "      <th>11997</th>\n",
       "      <td>N=C(O)c1cnc(C2CC2)[nH]1</td>\n",
       "      <td>0</td>\n",
       "      <td>0</td>\n",
       "      <td>0</td>\n",
       "      <td>-1</td>\n",
       "      <td>0</td>\n",
       "      <td>0</td>\n",
       "      <td>0</td>\n",
       "      <td>0</td>\n",
       "      <td>0</td>\n",
       "      <td>0</td>\n",
       "      <td>0</td>\n",
       "    </tr>\n",
       "    <tr>\n",
       "      <th>11998</th>\n",
       "      <td>CN=C=O</td>\n",
       "      <td>0</td>\n",
       "      <td>0</td>\n",
       "      <td>0</td>\n",
       "      <td>0</td>\n",
       "      <td>0</td>\n",
       "      <td>0</td>\n",
       "      <td>-1</td>\n",
       "      <td>0</td>\n",
       "      <td>0</td>\n",
       "      <td>0</td>\n",
       "      <td>0</td>\n",
       "    </tr>\n",
       "    <tr>\n",
       "      <th>11999</th>\n",
       "      <td>Cc1ccc2c(c1N)C(=O)c1ccccc1C2=O</td>\n",
       "      <td>0</td>\n",
       "      <td>0</td>\n",
       "      <td>0</td>\n",
       "      <td>0</td>\n",
       "      <td>0</td>\n",
       "      <td>0</td>\n",
       "      <td>-1</td>\n",
       "      <td>0</td>\n",
       "      <td>1</td>\n",
       "      <td>0</td>\n",
       "      <td>0</td>\n",
       "    </tr>\n",
       "  </tbody>\n",
       "</table>\n",
       "<p>12000 rows × 12 columns</p>\n",
       "</div>"
      ],
      "text/plain": [
       "                                                  smiles  task1  task2  task3  \\\n",
       "0       CC(=O)N(C)c1cccc(-c2ccnc3c(C(=O)c4cccs4)cnn23)c1      0      0      0   \n",
       "1                  COc1cc(N)c(Cl)cc1C(=O)OCCCN1CCCCC1.Cl      0      0      0   \n",
       "2                         CCCCNc1c(C(=O)OCC)cnc2c1cnn2CC      0      0      0   \n",
       "3          C#Cc1cccc(Nc2ncnc3cc(OCCOC)c(OCCOC)cc23)c1.Cl      0      0      0   \n",
       "4                       CC1OC2(CCCCC2Oc2cccc(Cl)c2)N=C1O      0      0      0   \n",
       "...                                                  ...    ...    ...    ...   \n",
       "11995               CC(C)(C)NC[C@@H](O)COc1nsnc1N1CCOCC1      0      0      0   \n",
       "11996  CCC[C@@]1(CCc2ccccc2)CC(O)=C([C@H](CC)c2cccc(N...      0      0      0   \n",
       "11997                            N=C(O)c1cnc(C2CC2)[nH]1      0      0      0   \n",
       "11998                                             CN=C=O      0      0      0   \n",
       "11999                     Cc1ccc2c(c1N)C(=O)c1ccccc1C2=O      0      0      0   \n",
       "\n",
       "       task4  task5  task6  task7  task8  task9  task10  task11  \n",
       "0          0      0      0      0     -1      0       0       0  \n",
       "1          0      0      0      0     -1      0       0       0  \n",
       "2          0      0      0      0      0      0       1       0  \n",
       "3          0      0      0      0     -1      0       0       1  \n",
       "4          0      0      0      0      0      0       1       0  \n",
       "...      ...    ...    ...    ...    ...    ...     ...     ...  \n",
       "11995      0      0      0      0     -1      0       0       0  \n",
       "11996      0      0      0      0     -1      0       0       0  \n",
       "11997     -1      0      0      0      0      0       0       0  \n",
       "11998      0      0      0     -1      0      0       0       0  \n",
       "11999      0      0      0     -1      0      1       0       0  \n",
       "\n",
       "[12000 rows x 12 columns]"
      ]
     },
     "execution_count": 3,
     "metadata": {},
     "output_type": "execute_result"
    }
   ],
   "source": [
    "data = pd.read_csv(\"data_train.csv\", index_col=0).reset_index(drop=True)\n",
    "data\n"
   ]
  },
  {
   "cell_type": "code",
   "execution_count": 126,
   "metadata": {},
   "outputs": [
    {
     "data": {
      "text/plain": [
       "array([[0, 0, 0, ..., 0, 0, 0],\n",
       "       [0, 0, 0, ..., 0, 0, 0],\n",
       "       [0, 0, 0, ..., 0, 1, 0],\n",
       "       ...,\n",
       "       [0, 0, 0, ..., 0, 0, 0],\n",
       "       [0, 0, 0, ..., 0, 0, 0],\n",
       "       [0, 0, 0, ..., 1, 0, 0]], dtype=int64)"
      ]
     },
     "execution_count": 126,
     "metadata": {},
     "output_type": "execute_result"
    }
   ],
   "source": [
    "y = data[data.columns[1:]].to_numpy()\n",
    "y\n"
   ]
  },
  {
   "cell_type": "code",
   "execution_count": 113,
   "metadata": {},
   "outputs": [
    {
     "name": "stderr",
     "output_type": "stream",
     "text": [
      " 18%|█▊        | 2148/12000 [00:01<00:05, 1759.41it/s][23:23:52] WARNING: not removing hydrogen atom without neighbors\n",
      "[23:23:52] WARNING: not removing hydrogen atom without neighbors\n",
      " 19%|█▉        | 2325/12000 [00:01<00:05, 1721.52it/s][23:23:52] WARNING: not removing hydrogen atom without neighbors\n",
      "[23:23:52] WARNING: not removing hydrogen atom without neighbors\n",
      "100%|██████████| 12000/12000 [00:07<00:00, 1701.26it/s]\n"
     ]
    }
   ],
   "source": [
    "fp_length = 1024\n",
    "fps = np.zeros((len(data), fp_length))\n",
    "\n",
    "# Calculate Morgan fingerprints and convert to numpy array\n",
    "for i, smiles in enumerate(tqdm(data['smiles'])):\n",
    "    mol = Chem.MolFromSmiles(smiles)\n",
    "    fp_vec = AllChem.GetMorganFingerprintAsBitVect(\n",
    "        mol, radius=3, nBits=fp_length)\n",
    "    arr = np.zeros((1,))\n",
    "    DataStructs.ConvertToNumpyArray(fp_vec, arr)\n",
    "    fps[i] = arr\n"
   ]
  },
  {
   "cell_type": "code",
   "execution_count": 114,
   "metadata": {},
   "outputs": [
    {
     "name": "stdout",
     "output_type": "stream",
     "text": [
      "fps shape: (12000, 1024)\n",
      "y shape: (12000, 11)\n"
     ]
    }
   ],
   "source": [
    "print(\"fps shape:\", fps.shape)\n",
    "print(\"y shape:\", y.shape)\n"
   ]
  },
  {
   "cell_type": "code",
   "execution_count": 115,
   "metadata": {},
   "outputs": [],
   "source": [
    "X_train, X_val, Y_train, Y_val = train_test_split(\n",
    "    fps, y, test_size=1/6, random_state=42)"
   ]
  },
  {
   "cell_type": "code",
   "execution_count": 123,
   "metadata": {},
   "outputs": [],
   "source": [
    "def train_rf(X_train, y_train, X_test):\n",
    "    seed = 1234\n",
    "    n_tasks = y_train.shape[1]\n",
    "    y_hats_proba = np.empty((X_test.shape[0], n_tasks))\n",
    "    y_hats_class = np.empty_like(y_hats_proba)\n",
    "\n",
    "    # Train RF per task\n",
    "    for j in tqdm(range(n_tasks)):\n",
    "        rf_model = RandomForestClassifier(n_estimators=1000, random_state=seed)\n",
    "        # Mask out unknown samples\n",
    "        # True where label is 0 or 1, False for unknowns\n",
    "        idx = (y_train[:, j] != (0))\n",
    "        # Train model\n",
    "        rf_model.fit(X_train[idx], y_train[idx, j])\n",
    "        # Predict class probabilities (select only values for positiv class with index 1)\n",
    "        y_hats_proba[:, j] = rf_model.predict_proba(X_test)[:, 1]\n",
    "        # Predict class\n",
    "        y_hats_class[:, j] = rf_model.predict(X_test)\n",
    "    return y_hats_proba, y_hats_class\n"
   ]
  },
  {
   "cell_type": "code",
   "execution_count": 124,
   "metadata": {},
   "outputs": [
    {
     "name": "stderr",
     "output_type": "stream",
     "text": [
      "100%|██████████| 11/11 [01:45<00:00,  9.58s/it]\n"
     ]
    }
   ],
   "source": [
    "y_hats_proba, y_hats_class = train_rf(X_train, Y_train, X_val)\n"
   ]
  },
  {
   "cell_type": "code",
   "execution_count": 127,
   "metadata": {},
   "outputs": [
    {
     "data": {
      "text/html": [
       "<div>\n",
       "<style scoped>\n",
       "    .dataframe tbody tr th:only-of-type {\n",
       "        vertical-align: middle;\n",
       "    }\n",
       "\n",
       "    .dataframe tbody tr th {\n",
       "        vertical-align: top;\n",
       "    }\n",
       "\n",
       "    .dataframe thead th {\n",
       "        text-align: right;\n",
       "    }\n",
       "</style>\n",
       "<table border=\"1\" class=\"dataframe\">\n",
       "  <thead>\n",
       "    <tr style=\"text-align: right;\">\n",
       "      <th></th>\n",
       "      <th>smiles</th>\n",
       "    </tr>\n",
       "  </thead>\n",
       "  <tbody>\n",
       "    <tr>\n",
       "      <th>0</th>\n",
       "      <td>OC(COc1ccc(Cl)cc1)=N[C@H]1CC[C@H](N=C(O)COc2cc...</td>\n",
       "    </tr>\n",
       "    <tr>\n",
       "      <th>1</th>\n",
       "      <td>CCCO/N=C(/C)c1cc(C(O)=NC(Cc2cc(F)cc(F)c2)[C@@H...</td>\n",
       "    </tr>\n",
       "    <tr>\n",
       "      <th>2</th>\n",
       "      <td>COc1cc(Cl)ccc1Cl</td>\n",
       "    </tr>\n",
       "    <tr>\n",
       "      <th>3</th>\n",
       "      <td>COc1cc(C(O)=NCc2ccc(OCCN(C)C)cc2)cc(OC)c1OC</td>\n",
       "    </tr>\n",
       "    <tr>\n",
       "      <th>4</th>\n",
       "      <td>CCC(=O)O[C@@]1(C(=O)CCl)[C@@H](C)C[C@H]2[C@@H]...</td>\n",
       "    </tr>\n",
       "    <tr>\n",
       "      <th>...</th>\n",
       "      <td>...</td>\n",
       "    </tr>\n",
       "    <tr>\n",
       "      <th>5891</th>\n",
       "      <td>N#Cc1cc(NC(=O)C(=O)O)c(Cl)c(NC(=O)C(=O)O)c1.NC...</td>\n",
       "    </tr>\n",
       "    <tr>\n",
       "      <th>5892</th>\n",
       "      <td>O=c1cccc2n1C[C@@H]1CNC[C@H]2C1</td>\n",
       "    </tr>\n",
       "    <tr>\n",
       "      <th>5893</th>\n",
       "      <td>CSCC[C@H](N=C(O)[C@H](Cc1ccccc1)N=C(O)CN=C(O)C...</td>\n",
       "    </tr>\n",
       "    <tr>\n",
       "      <th>5894</th>\n",
       "      <td>CCn1cc2c3c(cc(C(O)=NC(Cc4ccccc4)[C@H](O)C[NH2+...</td>\n",
       "    </tr>\n",
       "    <tr>\n",
       "      <th>5895</th>\n",
       "      <td>C[C@H]1CCCN(S(C)(=O)=O)[C@@H]1CO</td>\n",
       "    </tr>\n",
       "  </tbody>\n",
       "</table>\n",
       "<p>5896 rows × 1 columns</p>\n",
       "</div>"
      ],
      "text/plain": [
       "                                                 smiles\n",
       "0     OC(COc1ccc(Cl)cc1)=N[C@H]1CC[C@H](N=C(O)COc2cc...\n",
       "1     CCCO/N=C(/C)c1cc(C(O)=NC(Cc2cc(F)cc(F)c2)[C@@H...\n",
       "2                                      COc1cc(Cl)ccc1Cl\n",
       "3           COc1cc(C(O)=NCc2ccc(OCCN(C)C)cc2)cc(OC)c1OC\n",
       "4     CCC(=O)O[C@@]1(C(=O)CCl)[C@@H](C)C[C@H]2[C@@H]...\n",
       "...                                                 ...\n",
       "5891  N#Cc1cc(NC(=O)C(=O)O)c(Cl)c(NC(=O)C(=O)O)c1.NC...\n",
       "5892                     O=c1cccc2n1C[C@@H]1CNC[C@H]2C1\n",
       "5893  CSCC[C@H](N=C(O)[C@H](Cc1ccccc1)N=C(O)CN=C(O)C...\n",
       "5894  CCn1cc2c3c(cc(C(O)=NC(Cc4ccccc4)[C@H](O)C[NH2+...\n",
       "5895                   C[C@H]1CCCN(S(C)(=O)=O)[C@@H]1CO\n",
       "\n",
       "[5896 rows x 1 columns]"
      ]
     },
     "execution_count": 127,
     "metadata": {},
     "output_type": "execute_result"
    }
   ],
   "source": [
    "test_data = pd.read_csv(\"smiles_test.csv\", index_col=0).reset_index(drop=True)\n",
    "test_data\n"
   ]
  },
  {
   "cell_type": "code",
   "execution_count": 128,
   "metadata": {},
   "outputs": [
    {
     "name": "stderr",
     "output_type": "stream",
     "text": [
      "[23:37:40] WARNING: not removing hydrogen atom without neighbors\n",
      "[23:37:40] WARNING: not removing hydrogen atom without neighbors\n",
      "[23:37:40] WARNING: not removing hydrogen atom without neighbors\n",
      "[23:37:40] WARNING: not removing hydrogen atom without neighbors\n"
     ]
    }
   ],
   "source": [
    "fp_length = 1024\n",
    "\n",
    "test_fps = np.zeros((len(test_data), fp_length))\n",
    "for i, smiles in enumerate(test_data['smiles']):\n",
    "    mol = Chem.MolFromSmiles(smiles)\n",
    "    fp_vec = AllChem.GetMorganFingerprintAsBitVect(\n",
    "        mol, radius=3, nBits=fp_length)\n",
    "    arr = np.zeros((1,))\n",
    "    Chem.DataStructs.ConvertToNumpyArray(fp_vec, arr)\n",
    "    test_fps[i] = arr\n"
   ]
  },
  {
   "cell_type": "code",
   "execution_count": 142,
   "metadata": {},
   "outputs": [
    {
     "name": "stderr",
     "output_type": "stream",
     "text": [
      "100%|██████████| 11/11 [02:03<00:00, 11.24s/it]\n"
     ]
    }
   ],
   "source": [
    "y_hats_proba, y_hats_class = train_rf(X_train, Y_train, test_fps)"
   ]
  },
  {
   "cell_type": "code",
   "execution_count": 143,
   "metadata": {},
   "outputs": [],
   "source": [
    "predictions = pd.DataFrame(y_hats_proba, columns=data.columns[1:])\n",
    "predictions.index.name = 'ID'\n",
    "predictions.reset_index(inplace=True)\n"
   ]
  },
  {
   "cell_type": "code",
   "execution_count": 145,
   "metadata": {},
   "outputs": [],
   "source": [
    "predictions.to_csv('predictions_rf.csv', index=False)\n"
   ]
  },
  {
   "cell_type": "code",
   "execution_count": 146,
   "metadata": {},
   "outputs": [
    {
     "ename": "IndexError",
     "evalue": "boolean index did not match indexed array along dimension 0; dimension is 5896 but corresponding boolean dimension is 2000",
     "output_type": "error",
     "traceback": [
      "\u001b[1;31m---------------------------------------------------------------------------\u001b[0m",
      "\u001b[1;31mIndexError\u001b[0m                                Traceback (most recent call last)",
      "Cell \u001b[1;32mIn[146], line 13\u001b[0m\n\u001b[0;32m      9\u001b[0m         auc_per_task\u001b[39m.\u001b[39mappend(roc_auc_score(y_true[idx], y_score[idx]))\n\u001b[0;32m     10\u001b[0m     \u001b[39mreturn\u001b[39;00m auc_per_task\n\u001b[1;32m---> 13\u001b[0m auc_per_task \u001b[39m=\u001b[39m calc_masked_AUC_per_task(y_hats_proba, Y_val)\n\u001b[0;32m     14\u001b[0m auc_per_task\n\u001b[0;32m     16\u001b[0m np\u001b[39m.\u001b[39mmean(auc_per_task)\n",
      "Cell \u001b[1;32mIn[146], line 9\u001b[0m, in \u001b[0;36mcalc_masked_AUC_per_task\u001b[1;34m(prediction, target)\u001b[0m\n\u001b[0;32m      7\u001b[0m     idx \u001b[39m=\u001b[39m (y_true \u001b[39m!=\u001b[39m (\u001b[39m0\u001b[39m))\n\u001b[0;32m      8\u001b[0m     \u001b[39m# Calculate AUC per task\u001b[39;00m\n\u001b[1;32m----> 9\u001b[0m     auc_per_task\u001b[39m.\u001b[39mappend(roc_auc_score(y_true[idx], y_score[idx]))\n\u001b[0;32m     10\u001b[0m \u001b[39mreturn\u001b[39;00m auc_per_task\n",
      "\u001b[1;31mIndexError\u001b[0m: boolean index did not match indexed array along dimension 0; dimension is 5896 but corresponding boolean dimension is 2000"
     ]
    }
   ],
   "source": [
    "def calc_masked_AUC_per_task(prediction, target):\n",
    "    auc_per_task = []\n",
    "    for j in range(target.shape[1]):\n",
    "        y_score = prediction[:, j]\n",
    "        y_true = target[:, j]\n",
    "        # Mask out unknown samples\n",
    "        idx = (y_true != (0))\n",
    "        # Calculate AUC per task\n",
    "        auc_per_task.append(roc_auc_score(y_true[idx], y_score[idx]))\n",
    "    return auc_per_task\n",
    "\n",
    "\n",
    "auc_per_task = calc_masked_AUC_per_task(y_hats_proba, Y_val)\n",
    "auc_per_task\n",
    "\n",
    "np.mean(auc_per_task)\n"
   ]
  }
 ],
 "metadata": {
  "kernelspec": {
   "display_name": "ails",
   "language": "python",
   "name": "python3"
  },
  "language_info": {
   "codemirror_mode": {
    "name": "ipython",
    "version": 3
   },
   "file_extension": ".py",
   "mimetype": "text/x-python",
   "name": "python",
   "nbconvert_exporter": "python",
   "pygments_lexer": "ipython3",
   "version": "3.9.16"
  },
  "orig_nbformat": 4
 },
 "nbformat": 4,
 "nbformat_minor": 2
}
