{
 "cells": [
  {
   "cell_type": "code",
   "execution_count": 15,
   "metadata": {},
   "outputs": [
    {
     "name": "stdout",
     "output_type": "stream",
     "text": [
      "RDKit:  2022.03.5\n"
     ]
    }
   ],
   "source": [
    "#from fcd import get_fcd, load_ref_model, canonical_smiles, get_predictions, calculate_frechet_distance\n",
    "import warnings\n",
    "import os\n",
    "import pandas as pd\n",
    "import numpy as np\n",
    "import numpy\n",
    "import pickle\n",
    "import rdkit\n",
    "from tqdm import tqdm\n",
    "\n",
    "import torch\n",
    "import torch.nn as nn\n",
    "import torch.optim as optim\n",
    "from torch.utils.data import DataLoader, Dataset\n",
    "from sklearn.model_selection import train_test_split\n",
    "\n",
    "\n",
    "# Ignore some warnings from RDKIT and keras\n",
    "from rdkit import RDLogger, Chem\n",
    "from rdkit.Chem import rdMolDescriptors\n",
    "RDLogger.DisableLog('rdApp.*')\n",
    "\n",
    "warnings.filterwarnings(\"ignore\")\n",
    "\n",
    "# Load methods from the FCD library\n",
    "\n",
    "np.random.seed(1234)\n",
    "\n",
    "print(\"RDKit: \", rdkit.__version__)\n"
   ]
  },
  {
   "cell_type": "code",
   "execution_count": 2,
   "metadata": {},
   "outputs": [
    {
     "data": {
      "text/plain": [
       "0                COc1ccc(N2CCN(C(=O)c3cc4ccccc4[nH]3)CC2)cc1\n",
       "1            c1ccc(CCCNC2CCCCN(CCOC(c3ccccc3)c3ccccc3)C2)cc1\n",
       "2                             Nc1nc(O)c(Br)c(-c2cccc(O)c2)n1\n",
       "3               CCc1nc2ccc(Br)cc2c(=O)n1-c1nc2c(C)cc(C)cc2s1\n",
       "4            O=c1cnn(-c2ccc(S(=O)(=O)N3CCCCC3)cc2)c(=O)[nH]1\n",
       "                                 ...                        \n",
       "1036638                  CCOc1ccc(-n2c(SC)nc3c(c2=O)SCC3)cc1\n",
       "1036639        Nc1ncnc2c1nc(I)n2C1SC(COC(=O)c2ccccc2)C(O)C1O\n",
       "1036640              O=C(O)CCc1sc(C=C2NC(=O)CS2)nc1-c1ccccn1\n",
       "1036641    CN(c1ncnc2[nH]ccc12)C1CC(CS(=O)(=O)N2CCC(C#N)C...\n",
       "1036642    CCc1ccc(S(=O)(=O)NC2c3cc(C(=O)NCCc4c[nH]cn4)cc...\n",
       "Name: 0, Length: 1036643, dtype: object"
      ]
     },
     "execution_count": 2,
     "metadata": {},
     "output_type": "execute_result"
    }
   ],
   "source": [
    "data = pd.read_csv(\"smiles_train.txt\", header=None)[0]\n",
    "data\n"
   ]
  },
  {
   "cell_type": "code",
   "execution_count": 3,
   "metadata": {},
   "outputs": [],
   "source": [
    "train_data, val_data = train_test_split(\n",
    "    data, test_size=1/6, random_state=42\n",
    ")\n"
   ]
  },
  {
   "cell_type": "code",
   "execution_count": 50,
   "metadata": {},
   "outputs": [],
   "source": [
    "charset = sorted(list(set(''.join(data))))\n",
    "max_length = max([len(smile) for smile in data]) + 1\n"
   ]
  },
  {
   "cell_type": "code",
   "execution_count": 6,
   "metadata": {},
   "outputs": [],
   "source": [
    "epochs = 10\n",
    "batch_size = 128\n",
    "lr = 0.001\n",
    "\n"
   ]
  },
  {
   "cell_type": "code",
   "execution_count": 51,
   "metadata": {},
   "outputs": [],
   "source": [
    "def vectorize_smiles(smiles, charset, max_length):\n",
    "    indices = [charset.index(char) for char in smiles]\n",
    "    padded_indices = indices + [0] * (max_length - len(indices))\n",
    "    data = torch.tensor(padded_indices[:-1], dtype=torch.long)\n",
    "    target = torch.tensor(padded_indices[1:], dtype=torch.long)\n",
    "    return data, target\n"
   ]
  },
  {
   "cell_type": "code",
   "execution_count": 64,
   "metadata": {},
   "outputs": [],
   "source": [
    "class SMILESDataset(Dataset):\n",
    "    def __init__(self, smiles, charset, max_length):\n",
    "        self.smiles = smiles\n",
    "        self.charset = charset\n",
    "        self.max_length = max_length\n",
    "\n",
    "    def __len__(self):\n",
    "        return len(self.smiles)\n",
    "\n",
    "    def __getitem__(self, idx):\n",
    "        return vectorize_smiles(self.smiles[idx], self.charset, self.max_length)\n"
   ]
  },
  {
   "cell_type": "code",
   "execution_count": 65,
   "metadata": {},
   "outputs": [],
   "source": [
    "train_dataset = SMILESDataset(train_data, charset, max_length)\n",
    "val_dataset = SMILESDataset(val_data, charset, max_length)\n",
    "train_loader = DataLoader(train_dataset, batch_size=128, shuffle=True)\n",
    "val_loader = DataLoader(val_dataset, batch_size=128, shuffle=False)\n"
   ]
  },
  {
   "cell_type": "code",
   "execution_count": 66,
   "metadata": {},
   "outputs": [],
   "source": [
    "class SimpleFFN(nn.Module):\n",
    "    def __init__(self, input_size, hidden_size, output_size):\n",
    "        super(SimpleFFN, self).__init__()\n",
    "        self.fc1 = nn.Linear(input_size, hidden_size)\n",
    "        self.relu = nn.ReLU()\n",
    "        self.fc2 = nn.Linear(hidden_size, output_size)\n",
    "\n",
    "    def forward(self, x):\n",
    "        x = self.fc1(x)\n",
    "        x = self.relu(x)\n",
    "        x = self.fc2(x)\n",
    "        return x\n"
   ]
  },
  {
   "cell_type": "code",
   "execution_count": 30,
   "metadata": {},
   "outputs": [
    {
     "name": "stdout",
     "output_type": "stream",
     "text": [
      "cuda\n"
     ]
    }
   ],
   "source": [
    "\n",
    "device = torch.device(\"cuda\" if torch.cuda.is_available() else \"cpu\")\n",
    "print(device)\n",
    "\n",
    "input_size = len(charset)\n",
    "hidden_size = 128\n",
    "output_size = len(charset)\n"
   ]
  },
  {
   "cell_type": "code",
   "execution_count": 70,
   "metadata": {},
   "outputs": [],
   "source": [
    "model = SimpleFFN(input_size, hidden_size, output_size).to(device)\n",
    "criterion = nn.CrossEntropyLoss()\n",
    "optimizer = optim.Adam(model.parameters(), lr=0.001)\n"
   ]
  },
  {
   "cell_type": "code",
   "execution_count": 71,
   "metadata": {},
   "outputs": [
    {
     "name": "stderr",
     "output_type": "stream",
     "text": [
      "100%|██████████| 6749/6749 [00:49<00:00, 136.08it/s]\n",
      "100%|██████████| 1350/1350 [00:10<00:00, 131.02it/s]\n"
     ]
    },
    {
     "name": "stdout",
     "output_type": "stream",
     "text": [
      "Epoch: 1, Train Loss: 0.8442, Validation Loss: 0.8116\n"
     ]
    },
    {
     "name": "stderr",
     "output_type": "stream",
     "text": [
      "100%|██████████| 6749/6749 [00:47<00:00, 141.13it/s]\n",
      "100%|██████████| 1350/1350 [00:09<00:00, 140.75it/s]\n"
     ]
    },
    {
     "name": "stdout",
     "output_type": "stream",
     "text": [
      "Epoch: 2, Train Loss: 0.8116, Validation Loss: 0.8115\n"
     ]
    },
    {
     "name": "stderr",
     "output_type": "stream",
     "text": [
      "100%|██████████| 6749/6749 [00:47<00:00, 141.61it/s]\n",
      "100%|██████████| 1350/1350 [00:10<00:00, 129.22it/s]\n"
     ]
    },
    {
     "name": "stdout",
     "output_type": "stream",
     "text": [
      "Epoch: 3, Train Loss: 0.8116, Validation Loss: 0.8115\n"
     ]
    },
    {
     "name": "stderr",
     "output_type": "stream",
     "text": [
      "100%|██████████| 6749/6749 [00:46<00:00, 144.87it/s]\n",
      "100%|██████████| 1350/1350 [00:10<00:00, 129.40it/s]\n"
     ]
    },
    {
     "name": "stdout",
     "output_type": "stream",
     "text": [
      "Epoch: 4, Train Loss: 0.8115, Validation Loss: 0.8115\n"
     ]
    },
    {
     "name": "stderr",
     "output_type": "stream",
     "text": [
      "100%|██████████| 6749/6749 [00:47<00:00, 141.72it/s]\n",
      "100%|██████████| 1350/1350 [00:10<00:00, 132.04it/s]\n"
     ]
    },
    {
     "name": "stdout",
     "output_type": "stream",
     "text": [
      "Epoch: 5, Train Loss: 0.8115, Validation Loss: 0.8114\n"
     ]
    },
    {
     "name": "stderr",
     "output_type": "stream",
     "text": [
      "100%|██████████| 6749/6749 [00:48<00:00, 139.68it/s]\n",
      "100%|██████████| 1350/1350 [00:09<00:00, 135.15it/s]\n"
     ]
    },
    {
     "name": "stdout",
     "output_type": "stream",
     "text": [
      "Epoch: 6, Train Loss: 0.8115, Validation Loss: 0.8114\n"
     ]
    },
    {
     "name": "stderr",
     "output_type": "stream",
     "text": [
      "100%|██████████| 6749/6749 [00:49<00:00, 137.48it/s]\n",
      "100%|██████████| 1350/1350 [00:10<00:00, 131.00it/s]\n"
     ]
    },
    {
     "name": "stdout",
     "output_type": "stream",
     "text": [
      "Epoch: 7, Train Loss: 0.8115, Validation Loss: 0.8115\n"
     ]
    },
    {
     "name": "stderr",
     "output_type": "stream",
     "text": [
      "100%|██████████| 6749/6749 [00:47<00:00, 142.83it/s]\n",
      "100%|██████████| 1350/1350 [00:10<00:00, 133.08it/s]\n"
     ]
    },
    {
     "name": "stdout",
     "output_type": "stream",
     "text": [
      "Epoch: 8, Train Loss: 0.8115, Validation Loss: 0.8113\n"
     ]
    },
    {
     "name": "stderr",
     "output_type": "stream",
     "text": [
      "100%|██████████| 6749/6749 [00:49<00:00, 136.63it/s]\n",
      "100%|██████████| 1350/1350 [00:10<00:00, 130.80it/s]\n"
     ]
    },
    {
     "name": "stdout",
     "output_type": "stream",
     "text": [
      "Epoch: 9, Train Loss: 0.8115, Validation Loss: 0.8113\n"
     ]
    },
    {
     "name": "stderr",
     "output_type": "stream",
     "text": [
      "100%|██████████| 6749/6749 [00:49<00:00, 136.70it/s]\n",
      "100%|██████████| 1350/1350 [00:10<00:00, 127.04it/s]"
     ]
    },
    {
     "name": "stdout",
     "output_type": "stream",
     "text": [
      "Epoch: 10, Train Loss: 0.8114, Validation Loss: 0.8114\n"
     ]
    },
    {
     "name": "stderr",
     "output_type": "stream",
     "text": [
      "\n"
     ]
    }
   ],
   "source": [
    "num_epochs = 10\n",
    "\n",
    "for epoch in range(num_epochs):\n",
    "    model.train()\n",
    "    train_loss = 0\n",
    "    for batch_idx, (data, target) in enumerate(tqdm(train_loader)):\n",
    "        one_hot_data = torch.zeros(data.size(0), data.size(1), len(charset))\n",
    "        one_hot_data.scatter_(2, data.unsqueeze(2), 1)\n",
    "        one_hot_data, target = one_hot_data.to(device), target.to(device)\n",
    "        optimizer.zero_grad()\n",
    "        output = model(one_hot_data.float())\n",
    "        loss = criterion(output.transpose(1, 2), target)\n",
    "        loss.backward()\n",
    "        optimizer.step()\n",
    "        train_loss += loss.item()\n",
    "\n",
    "    # Validation\n",
    "    model.eval()\n",
    "    val_loss = 0\n",
    "    with torch.no_grad():\n",
    "        for batch_idx, (data, target) in enumerate(tqdm(val_loader)):\n",
    "            one_hot_data = torch.zeros(\n",
    "                data.size(0), data.size(1), len(charset))\n",
    "            one_hot_data.scatter_(2, data.unsqueeze(2), 1)\n",
    "            one_hot_data, target = one_hot_data.to(device), target.to(device)\n",
    "            output = model(one_hot_data.float())\n",
    "            loss = criterion(output.transpose(1, 2), target)\n",
    "            val_loss += loss.item()\n",
    "\n",
    "    train_loss /= len(train_loader)\n",
    "    val_loss /= len(val_loader)\n",
    "\n",
    "    print(\n",
    "        f'Epoch: {epoch + 1}, Train Loss: {train_loss:.4f}, Validation Loss: {val_loss:.4f}')\n"
   ]
  },
  {
   "cell_type": "code",
   "execution_count": 72,
   "metadata": {},
   "outputs": [],
   "source": [
    "torch.save(model.state_dict(), \"trained_model_1.pth\")\n"
   ]
  },
  {
   "cell_type": "code",
   "execution_count": 77,
   "metadata": {},
   "outputs": [],
   "source": [
    "def unvectorize_smiles(vector, charset):\n",
    "    smiles = \"\"\n",
    "    for index in vector:\n",
    "        if index == len(charset) - 1:  # End of sequence token\n",
    "            break\n",
    "        smiles += charset[index]\n",
    "    return smiles\n"
   ]
  },
  {
   "cell_type": "code",
   "execution_count": 86,
   "metadata": {},
   "outputs": [],
   "source": [
    "def predict(model, input_smiles, charset, max_length):\n",
    "    model.eval()\n",
    "    data, _ = vectorize_smiles(input_smiles, charset, max_length)\n",
    "    one_hot_data = torch.zeros(1, data.size(0), len(charset))\n",
    "    one_hot_data.scatter_(2, data.unsqueeze(0).unsqueeze(2), 1)\n",
    "    one_hot_data = one_hot_data.to(device)\n",
    "    output = model(one_hot_data.float())\n",
    "    pred_indices = output.argmax(dim=2).squeeze(0).tolist()\n",
    "    return unvectorize_smiles(pred_indices, charset)\n"
   ]
  },
  {
   "cell_type": "code",
   "execution_count": 87,
   "metadata": {},
   "outputs": [],
   "source": [
    "with open(\"predictions_1.txt\", \"w\") as f:\n",
    "    for input_smiles in val_data:\n",
    "        predicted_smiles = predict(model, input_smiles, charset, max_length)\n",
    "        f.write(predicted_smiles + \"\\n\")\n"
   ]
  },
  {
   "cell_type": "code",
   "execution_count": null,
   "metadata": {},
   "outputs": [],
   "source": []
  },
  {
   "cell_type": "code",
   "execution_count": null,
   "metadata": {},
   "outputs": [],
   "source": []
  },
  {
   "cell_type": "code",
   "execution_count": null,
   "metadata": {},
   "outputs": [],
   "source": []
  },
  {
   "cell_type": "code",
   "execution_count": null,
   "metadata": {},
   "outputs": [],
   "source": []
  }
 ],
 "metadata": {
  "kernelspec": {
   "display_name": "ails-fcd",
   "language": "python",
   "name": "python3"
  },
  "language_info": {
   "codemirror_mode": {
    "name": "ipython",
    "version": 3
   },
   "file_extension": ".py",
   "mimetype": "text/x-python",
   "name": "python",
   "nbconvert_exporter": "python",
   "pygments_lexer": "ipython3",
   "version": "3.10.9"
  },
  "orig_nbformat": 4
 },
 "nbformat": 4,
 "nbformat_minor": 2
}
