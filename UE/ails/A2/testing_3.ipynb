{
 "cells": [
  {
   "cell_type": "code",
   "execution_count": 1,
   "metadata": {},
   "outputs": [
    {
     "name": "stdout",
     "output_type": "stream",
     "text": [
      "RDKit:  2022.03.5\n"
     ]
    }
   ],
   "source": [
    "#from fcd import get_fcd, load_ref_model, canonical_smiles, get_predictions, calculate_frechet_distance\n",
    "import warnings\n",
    "import os\n",
    "import pandas as pd\n",
    "import numpy as np\n",
    "import numpy\n",
    "import pickle\n",
    "import rdkit\n",
    "from tqdm import tqdm\n",
    "\n",
    "import torch\n",
    "import torch.nn as nn\n",
    "import torch.optim as optim\n",
    "from torch.optim.lr_scheduler import ReduceLROnPlateau\n",
    "from torch.utils.data import DataLoader, Dataset\n",
    "from sklearn.model_selection import train_test_split\n",
    "\n",
    "\n",
    "# Ignore some warnings from RDKIT and keras\n",
    "from rdkit import RDLogger, Chem\n",
    "from rdkit.Chem import rdMolDescriptors\n",
    "RDLogger.DisableLog('rdApp.*')\n",
    "\n",
    "warnings.filterwarnings(\"ignore\")\n",
    "\n",
    "# Load methods from the FCD library\n",
    "\n",
    "np.random.seed(1234)\n",
    "\n",
    "print(\"RDKit: \", rdkit.__version__)\n"
   ]
  },
  {
   "cell_type": "code",
   "execution_count": 2,
   "metadata": {},
   "outputs": [],
   "source": [
    "data = pd.read_csv(\"smiles_train.txt\", header=None)[0]\n"
   ]
  },
  {
   "cell_type": "code",
   "execution_count": 3,
   "metadata": {},
   "outputs": [],
   "source": [
    "def to_canonical(smiles):\n",
    "    mol = Chem.MolFromSmiles(smiles)\n",
    "    if mol is not None:\n",
    "        return Chem.MolToSmiles(mol, canonical=True)\n",
    "    else:\n",
    "        return None\n"
   ]
  },
  {
   "cell_type": "code",
   "execution_count": 4,
   "metadata": {},
   "outputs": [
    {
     "ename": "KeyboardInterrupt",
     "evalue": "",
     "output_type": "error",
     "traceback": [
      "\u001b[1;31m---------------------------------------------------------------------------\u001b[0m",
      "\u001b[1;31mKeyboardInterrupt\u001b[0m                         Traceback (most recent call last)",
      "Cell \u001b[1;32mIn[4], line 1\u001b[0m\n\u001b[1;32m----> 1\u001b[0m data_canonical \u001b[39m=\u001b[39m data\u001b[39m.\u001b[39;49mapply(to_canonical)\u001b[39m.\u001b[39mdropna()\u001b[39m.\u001b[39mreset_index(drop\u001b[39m=\u001b[39m\u001b[39mTrue\u001b[39;00m)\n",
      "File \u001b[1;32md:\\Miniconda\\envs\\dlnn\\lib\\site-packages\\pandas\\core\\series.py:4771\u001b[0m, in \u001b[0;36mSeries.apply\u001b[1;34m(self, func, convert_dtype, args, **kwargs)\u001b[0m\n\u001b[0;32m   4661\u001b[0m \u001b[39mdef\u001b[39;00m \u001b[39mapply\u001b[39m(\n\u001b[0;32m   4662\u001b[0m     \u001b[39mself\u001b[39m,\n\u001b[0;32m   4663\u001b[0m     func: AggFuncType,\n\u001b[1;32m   (...)\u001b[0m\n\u001b[0;32m   4666\u001b[0m     \u001b[39m*\u001b[39m\u001b[39m*\u001b[39mkwargs,\n\u001b[0;32m   4667\u001b[0m ) \u001b[39m-\u001b[39m\u001b[39m>\u001b[39m DataFrame \u001b[39m|\u001b[39m Series:\n\u001b[0;32m   4668\u001b[0m \u001b[39m    \u001b[39m\u001b[39m\"\"\"\u001b[39;00m\n\u001b[0;32m   4669\u001b[0m \u001b[39m    Invoke function on values of Series.\u001b[39;00m\n\u001b[0;32m   4670\u001b[0m \n\u001b[1;32m   (...)\u001b[0m\n\u001b[0;32m   4769\u001b[0m \u001b[39m    dtype: float64\u001b[39;00m\n\u001b[0;32m   4770\u001b[0m \u001b[39m    \"\"\"\u001b[39;00m\n\u001b[1;32m-> 4771\u001b[0m     \u001b[39mreturn\u001b[39;00m SeriesApply(\u001b[39mself\u001b[39;49m, func, convert_dtype, args, kwargs)\u001b[39m.\u001b[39;49mapply()\n",
      "File \u001b[1;32md:\\Miniconda\\envs\\dlnn\\lib\\site-packages\\pandas\\core\\apply.py:1123\u001b[0m, in \u001b[0;36mSeriesApply.apply\u001b[1;34m(self)\u001b[0m\n\u001b[0;32m   1120\u001b[0m     \u001b[39mreturn\u001b[39;00m \u001b[39mself\u001b[39m\u001b[39m.\u001b[39mapply_str()\n\u001b[0;32m   1122\u001b[0m \u001b[39m# self.f is Callable\u001b[39;00m\n\u001b[1;32m-> 1123\u001b[0m \u001b[39mreturn\u001b[39;00m \u001b[39mself\u001b[39;49m\u001b[39m.\u001b[39;49mapply_standard()\n",
      "File \u001b[1;32md:\\Miniconda\\envs\\dlnn\\lib\\site-packages\\pandas\\core\\apply.py:1174\u001b[0m, in \u001b[0;36mSeriesApply.apply_standard\u001b[1;34m(self)\u001b[0m\n\u001b[0;32m   1172\u001b[0m     \u001b[39melse\u001b[39;00m:\n\u001b[0;32m   1173\u001b[0m         values \u001b[39m=\u001b[39m obj\u001b[39m.\u001b[39mastype(\u001b[39mobject\u001b[39m)\u001b[39m.\u001b[39m_values\n\u001b[1;32m-> 1174\u001b[0m         mapped \u001b[39m=\u001b[39m lib\u001b[39m.\u001b[39;49mmap_infer(\n\u001b[0;32m   1175\u001b[0m             values,\n\u001b[0;32m   1176\u001b[0m             f,\n\u001b[0;32m   1177\u001b[0m             convert\u001b[39m=\u001b[39;49m\u001b[39mself\u001b[39;49m\u001b[39m.\u001b[39;49mconvert_dtype,\n\u001b[0;32m   1178\u001b[0m         )\n\u001b[0;32m   1180\u001b[0m \u001b[39mif\u001b[39;00m \u001b[39mlen\u001b[39m(mapped) \u001b[39mand\u001b[39;00m \u001b[39misinstance\u001b[39m(mapped[\u001b[39m0\u001b[39m], ABCSeries):\n\u001b[0;32m   1181\u001b[0m     \u001b[39m# GH#43986 Need to do list(mapped) in order to get treated as nested\u001b[39;00m\n\u001b[0;32m   1182\u001b[0m     \u001b[39m#  See also GH#25959 regarding EA support\u001b[39;00m\n\u001b[0;32m   1183\u001b[0m     \u001b[39mreturn\u001b[39;00m obj\u001b[39m.\u001b[39m_constructor_expanddim(\u001b[39mlist\u001b[39m(mapped), index\u001b[39m=\u001b[39mobj\u001b[39m.\u001b[39mindex)\n",
      "File \u001b[1;32md:\\Miniconda\\envs\\dlnn\\lib\\site-packages\\pandas\\_libs\\lib.pyx:2924\u001b[0m, in \u001b[0;36mpandas._libs.lib.map_infer\u001b[1;34m()\u001b[0m\n",
      "Cell \u001b[1;32mIn[3], line 4\u001b[0m, in \u001b[0;36mto_canonical\u001b[1;34m(smiles)\u001b[0m\n\u001b[0;32m      2\u001b[0m mol \u001b[39m=\u001b[39m Chem\u001b[39m.\u001b[39mMolFromSmiles(smiles)\n\u001b[0;32m      3\u001b[0m \u001b[39mif\u001b[39;00m mol \u001b[39mis\u001b[39;00m \u001b[39mnot\u001b[39;00m \u001b[39mNone\u001b[39;00m:\n\u001b[1;32m----> 4\u001b[0m     \u001b[39mreturn\u001b[39;00m Chem\u001b[39m.\u001b[39;49mMolToSmiles(mol, canonical\u001b[39m=\u001b[39;49m\u001b[39mTrue\u001b[39;49;00m)\n\u001b[0;32m      5\u001b[0m \u001b[39melse\u001b[39;00m:\n\u001b[0;32m      6\u001b[0m     \u001b[39mreturn\u001b[39;00m \u001b[39mNone\u001b[39;00m\n",
      "\u001b[1;31mKeyboardInterrupt\u001b[0m: "
     ]
    }
   ],
   "source": [
    "data_canonical = data.apply(to_canonical).dropna().reset_index(drop=True)\n"
   ]
  },
  {
   "cell_type": "code",
   "execution_count": 22,
   "metadata": {},
   "outputs": [],
   "source": [
    "data_canonical.to_csv(\"canonical_smiles_train.txt\", index=False, header=False)\n"
   ]
  },
  {
   "cell_type": "code",
   "execution_count": 5,
   "metadata": {},
   "outputs": [],
   "source": [
    "data_canonical = pd.read_csv(\n",
    "    \"canonical_smiles_train.txt\", header=None, squeeze=True)\n"
   ]
  },
  {
   "cell_type": "code",
   "execution_count": 6,
   "metadata": {},
   "outputs": [
    {
     "data": {
      "text/plain": [
       "0                COc1ccc(N2CCN(C(=O)c3cc4ccccc4[nH]3)CC2)cc1\n",
       "1            c1ccc(CCCNC2CCCCN(CCOC(c3ccccc3)c3ccccc3)C2)cc1\n",
       "2                             Nc1nc(O)c(Br)c(-c2cccc(O)c2)n1\n",
       "3               CCc1nc2ccc(Br)cc2c(=O)n1-c1nc2c(C)cc(C)cc2s1\n",
       "4            O=c1cnn(-c2ccc(S(=O)(=O)N3CCCCC3)cc2)c(=O)[nH]1\n",
       "                                 ...                        \n",
       "1036638                  CCOc1ccc(-n2c(SC)nc3c(c2=O)SCC3)cc1\n",
       "1036639        Nc1ncnc2c1nc(I)n2C1SC(COC(=O)c2ccccc2)C(O)C1O\n",
       "1036640              O=C(O)CCc1sc(C=C2NC(=O)CS2)nc1-c1ccccn1\n",
       "1036641    CN(c1ncnc2[nH]ccc12)C1CC(CS(=O)(=O)N2CCC(C#N)C...\n",
       "1036642    CCc1ccc(S(=O)(=O)NC2c3cc(C(=O)NCCc4c[nH]cn4)cc...\n",
       "Name: 0, Length: 1036643, dtype: object"
      ]
     },
     "execution_count": 6,
     "metadata": {},
     "output_type": "execute_result"
    }
   ],
   "source": [
    "data_canonical"
   ]
  },
  {
   "cell_type": "code",
   "execution_count": 18,
   "metadata": {},
   "outputs": [],
   "source": [
    "#train_data, val_data = train_test_split(data, test_size=1/6, random_state=42)\n",
    "train_data, val_data = train_test_split(\n",
    "    data_canonical, test_size=0.2, random_state=42)\n",
    "train_data = train_data.reset_index(drop=True)\n",
    "val_data = val_data.reset_index(drop=True)\n"
   ]
  },
  {
   "cell_type": "code",
   "execution_count": 19,
   "metadata": {},
   "outputs": [],
   "source": [
    "charset = sorted(list(set(''.join(data_canonical))))\n",
    "max_length = max([len(smile) for smile in data_canonical]) + 1\n"
   ]
  },
  {
   "cell_type": "code",
   "execution_count": 20,
   "metadata": {},
   "outputs": [],
   "source": [
    "def vectorize_smiles(smiles, charset, max_length):\n",
    "    indices = [charset.index(char) for char in smiles]\n",
    "    padded_indices = indices + [0] * (max_length - len(indices))\n",
    "    data = torch.tensor(padded_indices[:-1], dtype=torch.long)\n",
    "    target = torch.tensor(padded_indices[1:], dtype=torch.long)\n",
    "    return data, target\n"
   ]
  },
  {
   "cell_type": "code",
   "execution_count": 21,
   "metadata": {},
   "outputs": [],
   "source": [
    "class SMILESDataset(Dataset):\n",
    "    def __init__(self, smiles_data, charset, max_length):\n",
    "        self.smiles_data = smiles_data\n",
    "        self.charset = charset\n",
    "        self.max_length = max_length\n",
    "\n",
    "    def __len__(self):\n",
    "        return len(self.smiles_data)\n",
    "\n",
    "    def __getitem__(self, index):\n",
    "        input_smiles = self.smiles_data[index % len(self.smiles_data)]\n",
    "        data, target = vectorize_smiles(\n",
    "            input_smiles, self.charset, self.max_length)\n",
    "        one_hot_data = torch.zeros(data.size(0), len(self.charset))\n",
    "        one_hot_data.scatter_(1, data.unsqueeze(1), 1)\n",
    "        return one_hot_data, target\n"
   ]
  },
  {
   "cell_type": "code",
   "execution_count": 22,
   "metadata": {},
   "outputs": [],
   "source": [
    "train_dataset = SMILESDataset(train_data, charset, max_length)\n",
    "val_dataset = SMILESDataset(val_data, charset, max_length)\n",
    "train_loader = DataLoader(train_dataset, batch_size=128, shuffle=True)\n",
    "val_loader = DataLoader(val_dataset, batch_size=128, shuffle=False)\n"
   ]
  },
  {
   "cell_type": "code",
   "execution_count": 23,
   "metadata": {},
   "outputs": [
    {
     "name": "stdout",
     "output_type": "stream",
     "text": [
      "cuda\n"
     ]
    }
   ],
   "source": [
    "\n",
    "device = torch.device(\"cuda\" if torch.cuda.is_available() else \"cpu\")\n",
    "print(device)\n",
    "\n",
    "input_size = len(charset)\n",
    "hidden_size = 128\n",
    "output_size = len(charset)\n",
    "num_layers = 1\n",
    "num_epochs = 50\n",
    "learning_rate = 0.001\n"
   ]
  },
  {
   "cell_type": "code",
   "execution_count": 24,
   "metadata": {},
   "outputs": [],
   "source": [
    "class SMILESLSTM(nn.Module):\n",
    "    def __init__(self, input_size=input_size, hidden_size=512, output_size=output_size, num_layers=4):\n",
    "        super(SMILESLSTM, self).__init__()\n",
    "        self.hidden_size = hidden_size\n",
    "        self.num_layers = num_layers\n",
    "\n",
    "        self.lstm1 = nn.LSTM(input_size, hidden_size,\n",
    "                             num_layers, batch_first=True)\n",
    "        self.dropout1 = nn.Dropout(0.2)\n",
    "        self.lstm2 = nn.LSTM(hidden_size, hidden_size,\n",
    "                             num_layers, batch_first=True)\n",
    "        self.dropout2 = nn.Dropout(0.2)\n",
    "        self.lstm3 = nn.LSTM(hidden_size, hidden_size,\n",
    "                             num_layers, batch_first=True)\n",
    "        self.dropout3 = nn.Dropout(0.2)\n",
    "        self.lstm4 = nn.LSTM(hidden_size, hidden_size,\n",
    "                             num_layers, batch_first=True)\n",
    "        self.fc = nn.Linear(hidden_size, output_size)\n",
    "\n",
    "    def forward(self, x):\n",
    "        h0 = torch.zeros(self.num_layers, x.size(0),\n",
    "                         self.hidden_size).to(device)\n",
    "        c0 = torch.zeros(self.num_layers, x.size(0),\n",
    "                         self.hidden_size).to(device)\n",
    "\n",
    "        out, _ = self.lstm1(x, (h0, c0))\n",
    "        out = self.dropout1(out)\n",
    "        out, _ = self.lstm2(out, (h0, c0))\n",
    "        out = self.dropout2(out)\n",
    "        out, _ = self.lstm3(out, (h0, c0))\n",
    "        out = self.dropout3(out)\n",
    "        out, _ = self.lstm4(out, (h0, c0))\n",
    "        out = self.fc(out)\n",
    "\n",
    "        return out\n"
   ]
  },
  {
   "cell_type": "code",
   "execution_count": 25,
   "metadata": {},
   "outputs": [],
   "source": [
    "model = SMILESLSTM(input_size, hidden_size, output_size, num_layers).to(device)\n",
    "criterion = nn.CrossEntropyLoss()\n",
    "optimizer = torch.optim.Adam(\n",
    "    model.parameters(), lr=learning_rate, weight_decay=1e-5)\n",
    "\n",
    "scheduler = ReduceLROnPlateau(\n",
    "    optimizer, mode='min', factor=0.1, patience=5, verbose=True)\n"
   ]
  },
  {
   "cell_type": "code",
   "execution_count": 26,
   "metadata": {},
   "outputs": [
    {
     "name": "stderr",
     "output_type": "stream",
     "text": [
      "                                                                          \r"
     ]
    },
    {
     "name": "stdout",
     "output_type": "stream",
     "text": [
      "Epoch [1/50], Train Loss: 0.5272, Validation Loss: 0.3742\n"
     ]
    },
    {
     "name": "stderr",
     "output_type": "stream",
     "text": [
      "                                                                          \r"
     ]
    },
    {
     "name": "stdout",
     "output_type": "stream",
     "text": [
      "Epoch [2/50], Train Loss: 0.3636, Validation Loss: 0.3401\n"
     ]
    },
    {
     "name": "stderr",
     "output_type": "stream",
     "text": [
      "                                                                          \r"
     ]
    },
    {
     "name": "stdout",
     "output_type": "stream",
     "text": [
      "Epoch [3/50], Train Loss: 0.3446, Validation Loss: 0.3329\n"
     ]
    },
    {
     "name": "stderr",
     "output_type": "stream",
     "text": [
      "                                                                          \r"
     ]
    },
    {
     "name": "stdout",
     "output_type": "stream",
     "text": [
      "Epoch [4/50], Train Loss: 0.3362, Validation Loss: 0.3256\n"
     ]
    },
    {
     "name": "stderr",
     "output_type": "stream",
     "text": [
      "                                                                          \r"
     ]
    },
    {
     "name": "stdout",
     "output_type": "stream",
     "text": [
      "Epoch [5/50], Train Loss: 0.3314, Validation Loss: 0.3225\n"
     ]
    },
    {
     "name": "stderr",
     "output_type": "stream",
     "text": [
      "                                                                          \r"
     ]
    },
    {
     "name": "stdout",
     "output_type": "stream",
     "text": [
      "Epoch [6/50], Train Loss: 0.3278, Validation Loss: 0.3175\n"
     ]
    },
    {
     "name": "stderr",
     "output_type": "stream",
     "text": [
      "                                                                          \r"
     ]
    },
    {
     "name": "stdout",
     "output_type": "stream",
     "text": [
      "Epoch [7/50], Train Loss: 0.3252, Validation Loss: 0.3142\n"
     ]
    },
    {
     "name": "stderr",
     "output_type": "stream",
     "text": [
      "                                                                          \r"
     ]
    },
    {
     "name": "stdout",
     "output_type": "stream",
     "text": [
      "Epoch [8/50], Train Loss: 0.3233, Validation Loss: 0.3138\n"
     ]
    },
    {
     "name": "stderr",
     "output_type": "stream",
     "text": [
      "                                                                          \r"
     ]
    },
    {
     "name": "stdout",
     "output_type": "stream",
     "text": [
      "Epoch [9/50], Train Loss: 0.3220, Validation Loss: 0.3136\n"
     ]
    },
    {
     "name": "stderr",
     "output_type": "stream",
     "text": [
      "                                                                           \r"
     ]
    },
    {
     "name": "stdout",
     "output_type": "stream",
     "text": [
      "Epoch [10/50], Train Loss: 0.3208, Validation Loss: 0.3119\n"
     ]
    },
    {
     "name": "stderr",
     "output_type": "stream",
     "text": [
      "                                                                           \r"
     ]
    },
    {
     "name": "stdout",
     "output_type": "stream",
     "text": [
      "Epoch [11/50], Train Loss: 0.3193, Validation Loss: 0.3226\n"
     ]
    },
    {
     "name": "stderr",
     "output_type": "stream",
     "text": [
      "                                                                           \r"
     ]
    },
    {
     "name": "stdout",
     "output_type": "stream",
     "text": [
      "Epoch [12/50], Train Loss: 0.3186, Validation Loss: 0.3100\n"
     ]
    },
    {
     "name": "stderr",
     "output_type": "stream",
     "text": [
      "                                                                           \r"
     ]
    },
    {
     "name": "stdout",
     "output_type": "stream",
     "text": [
      "Epoch [13/50], Train Loss: 0.3197, Validation Loss: 0.3099\n"
     ]
    },
    {
     "name": "stderr",
     "output_type": "stream",
     "text": [
      "                                                                           \r"
     ]
    },
    {
     "name": "stdout",
     "output_type": "stream",
     "text": [
      "Epoch [14/50], Train Loss: 0.3178, Validation Loss: 0.3105\n"
     ]
    },
    {
     "name": "stderr",
     "output_type": "stream",
     "text": [
      "                                                                           \r"
     ]
    },
    {
     "name": "stdout",
     "output_type": "stream",
     "text": [
      "Epoch [15/50], Train Loss: 0.3167, Validation Loss: 0.3080\n"
     ]
    },
    {
     "name": "stderr",
     "output_type": "stream",
     "text": [
      "                                                                           \r"
     ]
    },
    {
     "name": "stdout",
     "output_type": "stream",
     "text": [
      "Epoch [16/50], Train Loss: 0.3164, Validation Loss: 0.3095\n"
     ]
    },
    {
     "name": "stderr",
     "output_type": "stream",
     "text": [
      "                                                                           \r"
     ]
    },
    {
     "name": "stdout",
     "output_type": "stream",
     "text": [
      "Epoch [17/50], Train Loss: 0.3160, Validation Loss: 0.3069\n"
     ]
    },
    {
     "name": "stderr",
     "output_type": "stream",
     "text": [
      "                                                                           \r"
     ]
    },
    {
     "name": "stdout",
     "output_type": "stream",
     "text": [
      "Epoch [18/50], Train Loss: 0.3152, Validation Loss: 0.3053\n"
     ]
    },
    {
     "name": "stderr",
     "output_type": "stream",
     "text": [
      "                                                                           \r"
     ]
    },
    {
     "name": "stdout",
     "output_type": "stream",
     "text": [
      "Epoch [19/50], Train Loss: 0.3150, Validation Loss: 0.3074\n"
     ]
    },
    {
     "name": "stderr",
     "output_type": "stream",
     "text": [
      "                                                                           \r"
     ]
    },
    {
     "name": "stdout",
     "output_type": "stream",
     "text": [
      "Epoch [20/50], Train Loss: 0.3145, Validation Loss: 0.3051\n"
     ]
    },
    {
     "name": "stderr",
     "output_type": "stream",
     "text": [
      "                                                                           \r"
     ]
    },
    {
     "name": "stdout",
     "output_type": "stream",
     "text": [
      "Epoch [21/50], Train Loss: 0.3139, Validation Loss: 0.3050\n"
     ]
    },
    {
     "name": "stderr",
     "output_type": "stream",
     "text": [
      "                                                                           \r"
     ]
    },
    {
     "name": "stdout",
     "output_type": "stream",
     "text": [
      "Epoch [22/50], Train Loss: 0.3136, Validation Loss: 0.3039\n"
     ]
    },
    {
     "name": "stderr",
     "output_type": "stream",
     "text": [
      "                                                                           \r"
     ]
    },
    {
     "name": "stdout",
     "output_type": "stream",
     "text": [
      "Epoch [23/50], Train Loss: 0.3133, Validation Loss: 0.3049\n"
     ]
    },
    {
     "name": "stderr",
     "output_type": "stream",
     "text": [
      "                                                                           \r"
     ]
    },
    {
     "name": "stdout",
     "output_type": "stream",
     "text": [
      "Epoch [24/50], Train Loss: 0.3130, Validation Loss: 0.3038\n"
     ]
    },
    {
     "name": "stderr",
     "output_type": "stream",
     "text": [
      "                                                                           \r"
     ]
    },
    {
     "name": "stdout",
     "output_type": "stream",
     "text": [
      "Epoch [25/50], Train Loss: 0.3124, Validation Loss: 0.3040\n"
     ]
    },
    {
     "name": "stderr",
     "output_type": "stream",
     "text": [
      "                                                                           \r"
     ]
    },
    {
     "name": "stdout",
     "output_type": "stream",
     "text": [
      "Epoch [26/50], Train Loss: 0.3121, Validation Loss: 0.3037\n"
     ]
    },
    {
     "name": "stderr",
     "output_type": "stream",
     "text": [
      "                                                                           \r"
     ]
    },
    {
     "name": "stdout",
     "output_type": "stream",
     "text": [
      "Epoch [27/50], Train Loss: 0.3119, Validation Loss: 0.3050\n"
     ]
    },
    {
     "name": "stderr",
     "output_type": "stream",
     "text": [
      "                                                                           \r"
     ]
    },
    {
     "name": "stdout",
     "output_type": "stream",
     "text": [
      "Epoch [28/50], Train Loss: 0.3118, Validation Loss: 0.3041\n"
     ]
    },
    {
     "name": "stderr",
     "output_type": "stream",
     "text": [
      "                                                                           \r"
     ]
    },
    {
     "name": "stdout",
     "output_type": "stream",
     "text": [
      "Epoch [29/50], Train Loss: 0.3116, Validation Loss: 0.3103\n"
     ]
    },
    {
     "name": "stderr",
     "output_type": "stream",
     "text": [
      "                                                                           \r"
     ]
    },
    {
     "name": "stdout",
     "output_type": "stream",
     "text": [
      "Epoch [30/50], Train Loss: 0.3115, Validation Loss: 0.3035\n"
     ]
    },
    {
     "name": "stderr",
     "output_type": "stream",
     "text": [
      "                                                                           \r"
     ]
    },
    {
     "name": "stdout",
     "output_type": "stream",
     "text": [
      "Epoch [31/50], Train Loss: 0.3111, Validation Loss: 0.3064\n"
     ]
    },
    {
     "name": "stderr",
     "output_type": "stream",
     "text": [
      "                                                                           \r"
     ]
    },
    {
     "name": "stdout",
     "output_type": "stream",
     "text": [
      "Epoch [32/50], Train Loss: 0.3116, Validation Loss: 0.3035\n"
     ]
    },
    {
     "name": "stderr",
     "output_type": "stream",
     "text": [
      "                                                                           \r"
     ]
    },
    {
     "name": "stdout",
     "output_type": "stream",
     "text": [
      "Epoch [33/50], Train Loss: 0.3106, Validation Loss: 0.3023\n"
     ]
    },
    {
     "name": "stderr",
     "output_type": "stream",
     "text": [
      "                                                                           \r"
     ]
    },
    {
     "name": "stdout",
     "output_type": "stream",
     "text": [
      "Epoch [34/50], Train Loss: 0.3106, Validation Loss: 0.3035\n"
     ]
    },
    {
     "name": "stderr",
     "output_type": "stream",
     "text": [
      "                                                                           \r"
     ]
    },
    {
     "name": "stdout",
     "output_type": "stream",
     "text": [
      "Epoch [35/50], Train Loss: 0.3102, Validation Loss: 0.3021\n"
     ]
    },
    {
     "name": "stderr",
     "output_type": "stream",
     "text": [
      "                                                                           \r"
     ]
    },
    {
     "name": "stdout",
     "output_type": "stream",
     "text": [
      "Epoch [36/50], Train Loss: 0.3104, Validation Loss: 0.3024\n"
     ]
    },
    {
     "name": "stderr",
     "output_type": "stream",
     "text": [
      "                                                                          \r"
     ]
    },
    {
     "ename": "KeyboardInterrupt",
     "evalue": "",
     "output_type": "error",
     "traceback": [
      "\u001b[1;31m---------------------------------------------------------------------------\u001b[0m",
      "\u001b[1;31mKeyboardInterrupt\u001b[0m                         Traceback (most recent call last)",
      "Cell \u001b[1;32mIn[26], line 27\u001b[0m\n\u001b[0;32m     25\u001b[0m \u001b[39mwith\u001b[39;00m torch\u001b[39m.\u001b[39mno_grad():\n\u001b[0;32m     26\u001b[0m     \u001b[39mfor\u001b[39;00m one_hot_data, target \u001b[39min\u001b[39;00m tqdm(val_loader, desc\u001b[39m=\u001b[39m\u001b[39mf\u001b[39m\u001b[39m\"\u001b[39m\u001b[39mValidating Epoch \u001b[39m\u001b[39m{\u001b[39;00mepoch\u001b[39m \u001b[39m\u001b[39m+\u001b[39m\u001b[39m \u001b[39m\u001b[39m1\u001b[39m\u001b[39m}\u001b[39;00m\u001b[39m/\u001b[39m\u001b[39m{\u001b[39;00mnum_epochs\u001b[39m}\u001b[39;00m\u001b[39m\"\u001b[39m, leave\u001b[39m=\u001b[39m\u001b[39mFalse\u001b[39;00m):\n\u001b[1;32m---> 27\u001b[0m         one_hot_data, target \u001b[39m=\u001b[39m one_hot_data\u001b[39m.\u001b[39;49mto(device), target\u001b[39m.\u001b[39mto(device)\n\u001b[0;32m     28\u001b[0m         output \u001b[39m=\u001b[39m model(one_hot_data\u001b[39m.\u001b[39mfloat())\n\u001b[0;32m     29\u001b[0m         loss \u001b[39m=\u001b[39m criterion(output\u001b[39m.\u001b[39mtranspose(\u001b[39m1\u001b[39m, \u001b[39m2\u001b[39m), target)\n",
      "\u001b[1;31mKeyboardInterrupt\u001b[0m: "
     ]
    }
   ],
   "source": [
    "for epoch in range(num_epochs):\n",
    "    # Training\n",
    "    model.train()\n",
    "    train_loss = 0\n",
    "    train_count = 0\n",
    "    for one_hot_data, target in tqdm(train_loader, desc=f\"Training Epoch {epoch + 1}/{num_epochs}\", leave=False):\n",
    "        one_hot_data, target = one_hot_data.to(device), target.to(device)\n",
    "\n",
    "        optimizer.zero_grad()\n",
    "        output = model(one_hot_data.float())\n",
    "\n",
    "        loss = criterion(output.transpose(1, 2), target)\n",
    "        loss.backward()\n",
    "        optimizer.step()\n",
    "\n",
    "        train_loss += loss.item()\n",
    "        train_count += 1\n",
    "\n",
    "    avg_train_loss = train_loss / train_count\n",
    "\n",
    "    # Validation\n",
    "    model.eval()\n",
    "    val_loss = 0\n",
    "    val_count = 0\n",
    "    with torch.no_grad():\n",
    "        for one_hot_data, target in tqdm(val_loader, desc=f\"Validating Epoch {epoch + 1}/{num_epochs}\", leave=False):\n",
    "            one_hot_data, target = one_hot_data.to(device), target.to(device)\n",
    "            output = model(one_hot_data.float())\n",
    "            loss = criterion(output.transpose(1, 2), target)\n",
    "\n",
    "            val_loss += loss.item()\n",
    "            val_count += 1\n",
    "\n",
    "    avg_val_loss = val_loss / val_count\n",
    "\n",
    "    print(\n",
    "        f\"Epoch [{epoch+1}/{num_epochs}], Train Loss: {avg_train_loss:.4f}, Validation Loss: {avg_val_loss:.4f}\")\n",
    "    \n",
    "    scheduler.step(avg_val_loss)\n"
   ]
  },
  {
   "cell_type": "code",
   "execution_count": 27,
   "metadata": {},
   "outputs": [],
   "source": [
    "torch.save(model.state_dict(), \"trained_model_lstm_epoch37.pth\")\n"
   ]
  },
  {
   "cell_type": "code",
   "execution_count": 33,
   "metadata": {},
   "outputs": [
    {
     "data": {
      "text/plain": [
       "SMILESLSTM(\n",
       "  (lstm1): LSTM(37, 128, batch_first=True)\n",
       "  (dropout1): Dropout(p=0.2, inplace=False)\n",
       "  (lstm2): LSTM(128, 128, batch_first=True)\n",
       "  (dropout2): Dropout(p=0.2, inplace=False)\n",
       "  (lstm3): LSTM(128, 128, batch_first=True)\n",
       "  (dropout3): Dropout(p=0.2, inplace=False)\n",
       "  (lstm4): LSTM(128, 128, batch_first=True)\n",
       "  (fc): Linear(in_features=128, out_features=37, bias=True)\n",
       ")"
      ]
     },
     "execution_count": 33,
     "metadata": {},
     "output_type": "execute_result"
    }
   ],
   "source": [
    "model.load_state_dict(torch.load(\"trained_model_lstm_epoch37.pth\"))\n",
    "model.to(device)\n"
   ]
  },
  {
   "cell_type": "code",
   "execution_count": 34,
   "metadata": {},
   "outputs": [],
   "source": [
    "def unvectorize_smiles(vector, charset):\n",
    "    smiles = \"\"\n",
    "    for index in vector:\n",
    "        if index == len(charset) - 1:  # End of sequence token\n",
    "            break\n",
    "        smiles += charset[index]\n",
    "    return smiles\n"
   ]
  },
  {
   "cell_type": "code",
   "execution_count": 35,
   "metadata": {},
   "outputs": [],
   "source": [
    "\n",
    "def predict(model, input_smiles, charset, max_length):\n",
    "    model.eval()\n",
    "    with torch.no_grad():\n",
    "        data = vectorize_smiles(input_smiles, charset, max_length)\n",
    "        one_hot_data = torch.zeros(1, data[0].size(0), len(charset)).to(device)\n",
    "        one_hot_data.scatter_(2, data[0].to(\n",
    "            device).unsqueeze(0).unsqueeze(2), 1)\n",
    "        output = model(one_hot_data.float())\n",
    "        pred_indices = output.argmax(dim=2).squeeze(0).cpu().tolist()\n",
    "        predicted_smiles = unvectorize_smiles(pred_indices, charset)\n",
    "\n",
    "        # Remove \"#\" characters\n",
    "        cleaned_smiles = predicted_smiles.replace(\"#\", \"\")\n",
    "\n",
    "        # Check for \"nan\" or \"inf\" in the SMILES string\n",
    "        if \"nan\" not in cleaned_smiles.lower() and \"inf\" not in cleaned_smiles.lower():\n",
    "            return cleaned_smiles\n",
    "        else:\n",
    "            return None\n"
   ]
  },
  {
   "cell_type": "code",
   "execution_count": 36,
   "metadata": {},
   "outputs": [],
   "source": [
    "def is_valid_smiles(smiles):\n",
    "    mol = Chem.MolFromSmiles(smiles)\n",
    "    return mol is not None\n"
   ]
  },
  {
   "cell_type": "code",
   "execution_count": null,
   "metadata": {},
   "outputs": [],
   "source": [
    "with open(\"predictions_lstm_epoch37.txt\", \"w\") as f:\n",
    "    for input_smiles in val_data:\n",
    "        predicted_smiles = predict(model, input_smiles, charset, max_length)\n",
    "        if predicted_smiles is not None and is_valid_smiles(predicted_smiles):\n",
    "            f.write(predicted_smiles + \"\\n\")\n",
    "            valid_count += 1\n",
    "            if valid_count >= 10001:\n",
    "                break\n"
   ]
  },
  {
   "cell_type": "code",
   "execution_count": null,
   "metadata": {},
   "outputs": [],
   "source": []
  },
  {
   "cell_type": "code",
   "execution_count": 43,
   "metadata": {},
   "outputs": [
    {
     "name": "stdout",
     "output_type": "stream",
     "text": [
      "Predicted SMILES: =C(NCCc1ccccc(ccc2c1)NC1ccc(c(c1)CCOO2###############################################################\n",
      "Predicted SMILES: CCCN1c(S)2ccccOC)cc2)ncc1SCC1cc2-)c2ccccc2n1#########################################################\n",
      "Predicted SMILES: C1ccc(Cc2cc(Cc3ccccClcc3)c(cnH]c(c3n2)cc1############################################################\n",
      "Predicted SMILES: C1cc(cccC()ccCc3ccc(N)(CO)C4ccccc4)l)c3)cc2[1########################################################\n",
      "Predicted SMILES: C1ccc((1C(1cc((c(n1)CCC(22###########################################################################\n",
      "Predicted SMILES: C(CCCCCCCCCC4C4ccccc4)CCCC)CCC2(1(C)CCC(OO)CCC12#####################################################\n",
      "Predicted SMILES: Cc1ccc(Cc2cccCC(CN)c32C(=O)Nc2ccc(c2)cc1#C###########################################################\n",
      "Predicted SMILES: Cc1ccc(C(=O)NcC2cc(cccC))ccc3n2C)cc1#################################################################\n",
      "Predicted SMILES: C(CCN2ccccC()cc2C(c2cccccCl)c2)N1#(C1CCCCC1##########################################################\n",
      "Predicted SMILES: C(CCN(C(2ccc(Cc3ccccc3)c3ccc[nH]3)cc2)CC1############################################################\n",
      "Predicted SMILES: C(C1cc(CC(=O)C2ccc(2)c2cccc(cCC)ccc3nc21#############################################################\n",
      "Predicted SMILES: C1ccc((Cc2cc(ccccC(CNOCC(N)CCCCCCCcc3n2)c1###########################################################\n",
      "Predicted SMILES: Cc1ccc(cCC)c1C(CC2cccOCcccO)c2C(=O)C1=###############################################################\n",
      "Predicted SMILES: C1cccC)2CCCCCCC)C)3ccc(C)CC4)n3C)CC)cn1##############################################################\n",
      "Predicted SMILES: C(Cr)CCCNCC2cc(Cc2)CCC11CCO)N1CC)C(CC)CCC1CC(CO)NC###################################################\n",
      "Predicted SMILES: C(C1c(=O)c2cnH]c(-c3ccccCl)C=O)CC4ccccn4)cc3)nc2n(CCC)c1=O###########################################\n",
      "Predicted SMILES: Cc(N=)NC(=O)C1c1ccc(C()cc1C(#########################################################################\n",
      "Predicted SMILES: C(1c(CCC(=O)Nc2ccc(CC)ccOC)c2)ncc1-c1ccnH]c2ccccc12##################################################\n",
      "Predicted SMILES: C(CO)Nc(COO)NcCCCCC1CN2ccccc(c2c3C)c2)C1#############################################################\n",
      "Predicted SMILES: Cc1ccc(Cr)cc1C(C(=O)C1C(=O)N1cc(C)ccccccc21##########################################################\n",
      "Predicted SMILES: C1cnH]c2ccccc2c1C(CC(((C1############################################################################\n",
      "Predicted SMILES: Cc1cccC(=O)NcCCS)Nc2ccc(ccccC)ccc23)cc(OC)c1OC#######################################################\n",
      "Predicted SMILES: C1ncnH]c(c1c(-r)cc12#################################################################################\n",
      "Predicted SMILES: C(C)C1ccc(C(CCCN(CCCC4cccccCl=)=O)c4C3=O)CC2)cc1#####################################################\n",
      "Predicted SMILES: Cc(N1ccc(Cc2ccc(Cc3cccnH]n3)cc2)n1###################################################################\n",
      "Predicted SMILES: C(=ccC=1ccccc1)cc1ccccc1)c1ccccc1)l#C(=O)O###########################################################\n",
      "Predicted SMILES: =C1cc(c(C3cccccCl)c13)CCCC#Nc==CCCC1#################################################################\n",
      "Predicted SMILES: C(C1ccc(C(NC(=O)C22C2ccccC)cc2)C(=O)(=O)c2C)C)cc1#C##################################################\n",
      "Predicted SMILES: C(C(=O)C1c=O)(=O)c1ccc(c(ccc2c1######################################################################\n",
      "Predicted SMILES: C(CCCC=O)NcCCC(C(=)Cc)C(=O)Nc2CC=)C)C(=O)(O)2ccccC()cc2)CC2ccccC()cc2)CC1############################\n",
      "Predicted SMILES: =C(NCCcO)c=Cc1ccccO)c(1)c1ccc(O)c(1##################################################################\n",
      "Predicted SMILES: CCCC(C2C(C)C(=CC22C)=C)C2CCC(C#######################################################################\n",
      "Predicted SMILES: C(CO)Nc1ccc(CC(=O)C2ccc(cC(=O)(=O)N3CCCCC33)cc)cc1###################################################\n",
      "Predicted SMILES: C(CCC(=O)C1CCCN1C(=O)C(CC(=O)CCcC)(C)C)C(C)()C(=O)(O)1ccccCC)cc1)NC1ccccCC)cc1#######################\n",
      "Predicted SMILES: CC(N)ccC(N)c1CC1ccc(1################################################################################\n",
      "Predicted SMILES: C1ccc(CC(=O)C2cccC(=O)(=O)N3CCO4ccccc4C)cc2C)cc1#####################################################\n",
      "Predicted SMILES: Cc(=O)C1ccc((Nc2ccc(N(=O)NCCCC4cccOC5ccccc5)ccc4C3)c2)c1#############################################\n",
      "Predicted SMILES: Cc1ccc(c(c1)C(C((=O)NC=c(C)n2CC1cccO))ccc1Ol#########################################################\n",
      "Predicted SMILES: C(CC(C=O)Nc1ccc((1C##################################################################################\n",
      "Predicted SMILES: C(CCCCCCCCCCCCC=C=O)N)C(C(CO)NCC1####################################################################\n",
      "Predicted SMILES: Cc1ccc(c1C1CCNC(=O)NC2C2CC=O)CC(=Cc3ccccc3)C2=O)CC1=O################################################\n",
      "Predicted SMILES: =C(CCCCccCCCCC2)C(CCCCCC2)CC#########################################################################\n",
      "Predicted SMILES: CCCNc1ncc(Cc2ccc(SCC(Cc\n",
      "Predicted SMILES: =C(N1cccccC)c1)N1cc(ccccC)cc2c1######################################################################\n",
      "Predicted SMILES: C(C(=O)C1CC(C2ccccc2)CC(=O)NC1c1ccc(OC))N)ccOC)c1####################################################\n",
      "Predicted SMILES: C1c(ccccc2c2cc3Cc3cccnH]n3)cccNO)cc1#################################################################\n",
      "Predicted SMILES: C(CCCCCCCCCCCCC(=O)C1CO)N1ccCc2ccccOl)cc2)nnH]c2ccccc12##############################################\n",
      "Predicted SMILES: Cc(NC1nc(cccc2cc1NCC)CCONCCCCC1######################################################################\n",
      "Predicted SMILES: Cc1ccc(CCCCC(=O)CCCCC)N=O)N)CCCCC2)cc1###############################################################\n",
      "Predicted SMILES: =C(NC1CC=O)CC2(CCCCC2)C1=O)Nc1cccccccccc12###########################################################\n",
      "Predicted SMILES: CCc1NCc1ccc(cc2cc2cc3-O)ccc12########################################################################\n",
      "Predicted SMILES: =C(Nc1ccc(c1)1CCN(C1)c1ccc(Nc2ccccCc3cccc3)c2)n1#####################################################\n",
      "Predicted SMILES: C1c(=O)c2c(nc3NC(3ccccc3)n2C)2ccccc2)l)n(C)c1=O######################################################\n",
      "Predicted SMILES: =C(NCCC=cC=O)O1=O)O)N(=O)O)NC(C=1ccccc1)c1ccccc1#####################################################\n",
      "Predicted SMILES: C1cccC)=O)NcCC=O)Nc22cccccCc3cccC)C)CC)C)nccC)(=O)cc3ccccc3)cc)co1###################################\n",
      "Predicted SMILES: C(C)CC)cC(=O)N1=(=O)(C=O)N)NC=(=O)cCcC)(C)C##########################################################\n",
      "Predicted SMILES: Cc1ccc(C(=O)(=O)N2CCC3cccccCc4ccccCCcc4)c3C)cc1######################################################\n",
      "Predicted SMILES: =C1cc(-N)cc2ccccc12##################################################################################\n",
      "Predicted SMILES: C(CO)NC1C)1CCC)CCCC2CO)C1(C)C)C(C)(CCC=)C((CCC)C#C=((C)CC)(=)=O)CCC2C)(OC(CO)C(O)C(O)C2O)C1OC)C######\n",
      "Predicted SMILES: =C(CCCCCCC2C(=O)N1CCC1CCC(c2cccccccCCCO3)CC1#########################################################\n",
      "Predicted SMILES: C(1c((Cc2ccc(C((=)N)NC(=O)c3CC(CCC3CC)c2)cc1#########################################################\n",
      "Predicted SMILES: C(C)CC(1c(NO)c2C(CNN(=O)(=O)cCCC(CCC3CcCN4CC)CCCccC)c2ccccc21########################################\n",
      "Predicted SMILES: =1ccc(c(cCc1cccNc31O)CCCC)C2O)C(CO)CCO)C(############################################################\n",
      "Predicted SMILES: Cc1ccC(=O)NC2ccc(CC(CO)(=O)cCC3CCCCC3)cc2)cccC2CCOCCO)NC2=O)cc1Cl=)CC)C##############################\n",
      "Predicted SMILES: =C(CC=c2ccnH]c3ccccc23)N2ccc(-c3ccccc3)ncCc2ccccc211#cCOO)N1CCCC11#(1ccccc1##########################\n",
      "Predicted SMILES: C(1c(CCC(=O)Nc2ccc(c(c2)Oc(ccccc23)nnc1-c1ccccC(cc1##################################################\n",
      "Predicted SMILES: CCCO1c(CO)c2C(Cc(=O)NCCcO)C(Cc2ccccOCccO))c2)cc2cccOC)ccc21##########################################\n",
      "Predicted SMILES: C(=O)c1CCC(C(=O)C2ccc(CC3cccCl)cc(Cl)c3)c2)CC1#######################################################\n",
      "Predicted SMILES: =C(N)C1cccc(n11=r)c3ccccc32)n1C######################################################################\n",
      "Predicted SMILES: C1ccc(C(CC)C(=O)C2ccc(c(c2)CC(=O)CC3)c1##############################################################\n",
      "Predicted SMILES: =C(NCC1cc2ccccc2[nH]1)N1CCN11ccnc2cccCl)ccc12########################################################\n",
      "Predicted SMILES: C1ccc((1CCCC=O)C(C3C=CCO)NCC4ccccc4))C3C(CO##########################################################\n",
      "Predicted SMILES: C(C(=O)C1ccc(cC(=O)(=O)c1ccCCnccc1C##################################################################\n",
      "Predicted SMILES: Cc(CCC2ccccc2C(Cc=)=O)C2ccccc21######################################################################\n",
      "Predicted SMILES: C(CC)CCC2(C(CCCC)C33C)(C)OO)CCC4C5C)(C)CC=CCCC43C)C3CCC2CCC)CCC1#####################################\n",
      "Predicted SMILES: Cc1ccc(cCC(=O)CSC)C(CCCc(CCCCC2)c1###################################################################\n",
      "Predicted SMILES: C((=O)C1ccc(c(c1)C(=O)N1ccccCl=O)NCCcc1C2#=O)=O######################################################\n",
      "Predicted SMILES: =C(Nc1ccc(c1)c1ccc((NCCC=O)CCCCC=CC(C4)C3C2=O)c1#####################################################\n",
      "Predicted SMILES: Cc1ccc(c(c1)C(=C((1CCC3cccOC)c(OC)cc3C1)NN((C########################################################\n",
      "Predicted SMILES: C(CC1nc(c(N2CC=O)CCC2C(C)C)n1)c1ccccCCCCCC2)cc1######################################################\n",
      "Predicted SMILES: 1ccc(Cc2cc3CNc3ncc(-c4cccc4)n3)cc2)cc1###############################################################\n",
      "Predicted SMILES: C(C)CCNNCC((=(2ccccc2)N2ccccc2C######################################################################\n",
      "Predicted SMILES: C(C)CC(NC(=O)CCc1ccccc1)C(=O)NC(Cc1ccccc1)C(=O)NC(CCOc(=O)OCCCC(C(CC=O)C((C=)=O######################\n",
      "Predicted SMILES: C(CO)NcCCC(C2ccc(N(CC)(=)C)C(=O)(=O)cC3ccccc3)cc2)CC1################################################\n",
      "Predicted SMILES: C1cc((c1NN+](=O)[O-])cccc21##########################################################################\n",
      "Predicted SMILES: Cc1ccc(C(CCCC(=S)N(CCC)3ccccc3)C(=O)N)C(=O)cc1#######################################################\n",
      "Predicted SMILES: CCc1ccc((N(=O)Nc2ccc(C(=O)(=O)N33ccc\n",
      "Predicted SMILES: C(C)C1ccc(C(CNC(=O)cCc2ncccc2)cc1####################################################################\n",
      "Predicted SMILES: C1ccc(C(CCCNCCCN(C(=O)c4ccc(4)CC)CC)c1###############################################################\n",
      "Predicted SMILES: C1ccc((CC(=O)(=O)c2ccc((ccccc23)c1###################################################################\n",
      "Predicted SMILES: C1cc(C(2ccccCl)ccCl)c2)ccccccc211=O##################################################################\n",
      "Predicted SMILES: Cc1ccc(Cc2cnH]c(ccccc3c2C(C(2(=O)c2cccccccc3oc2=O)cc1################################################\n",
      "Predicted SMILES: C(CCO)N1cccO(c(C)C=)=O)O)c2ccccc2)ccC)c1#############################################################\n",
      "Predicted SMILES: Cc(=O)C1(Cc=O)NCCCCC1C(=O)NC(1ccccCl=O)N)cc1)C1C1ccccc1)c1ccccc1#####################################\n",
      "Predicted SMILES: C1c(=O)c2C(c2ccc(ClN)cc2)cc2ccccc21##################################################################\n",
      "Predicted SMILES: Cc1ccc(C(=O)NcCCC(C(=O)NcCCCC)CC2)cc1################################################################\n",
      "Predicted SMILES: C(((=O)Cc1ccc((Cc2ccc(Cc3cc4cccccC(c4[nH]3)c2)c1#####################################################\n",
      "Predicted SMILES: C(CCCO)Nc(1ccc(C(=O)Nc2ccc((2CCcc1###################################################################\n",
      "Predicted SMILES: C1ccc(C(CCC4CC(CC(C4CO)O5CCC(C)C)CC5)CC4)C44CC)cc1###################################################\n",
      "Predicted SMILES: C(C)CCCC=O)C2ccccc2C(C)2ccccc2)C1(=O)=O##############################################################\n",
      "Predicted SMILES: Cc1ccc(CN2c(c32CN22cccccCc3ccccc3)c2)cc1#############################################################\n",
      "Predicted SMILES: C(=O)c1c1ncc(-c2cccccC(=O)(=O)N3CCCCC3)cc)o1#########################################################\n",
      "Predicted SMILES: C1cccC))ccccc(NCCCN(C(CC3)cc12#######################################################################\n",
      "Predicted SMILES: Cc1cccccc1C)=O)N1ccccCC)C)C)cc1)CCCC#(=O)N###########################################################\n",
      "Predicted SMILES: C1ccc(cnH]c(-c3ccc((CCc3)nc2c1#######################################################################\n",
      "Predicted SMILES: C(C)CC(CCCCCO)N(CC3cnH]c4ccccc4c3CCCC1CO#############################################################\n",
      "Predicted SMILES: C1cc(C)ccc(CC(CCCc1##################################################################################\n",
      "Predicted SMILES: C(C))NC(=O)C1CCCc(=)(=O)(O1ccccc1)c1ccccc1)N1ccccc1##################################################\n",
      "Predicted SMILES: CCc1ccNCnc2CS)n2c1C(CC2##############################################################################\n",
      "Predicted SMILES: C1nc(NlCC2)nc2c1ncn2C11cc2ccccc2[(=O)[nH]1###########################################################\n",
      "Predicted SMILES: C1c(((1C(NNC=O)NC1cc(ccccc2[nH]1#####################################################################\n",
      "Predicted SMILES: Cc1ccc(C(=O)N2c(C)CCCC)nc3ccccc3c)cc1################################################################\n",
      "Predicted SMILES: C1ccc(c(c)3cc((NCnc3N)cc(C(ncCCc2c1##################################################################\n",
      "Predicted SMILES: C(1c(ccccC(CCNNC3)cc2c2ccc(ccccc33)CCC1cc(C)cc1-4)C(=O)NC3=##########################################\n",
      "Predicted SMILES: =CCNc1ncccc1)l)=N1Cc1ccccc1)Cc1ccccc1################################################################\n",
      "Predicted SMILES: C(C)CCCC(=O)C(CCCCC2cccccc2)CCCC(=)C(CCCCC22)(=O)NC(CCCC)C)NC1=O#####################################\n",
      "Predicted SMILES: Cc1ccc(C(=O)NcCCC(C3cccc(3)CC2)cc1#l#c1cccccCl)c1####################################################\n",
      "Predicted SMILES: C(C(CCC)CCCCN2c(cc2C1################################################################################\n",
      "Predicted SMILES: Cc1ccc(c1C1(=O)CScC=CN2ccccc2C((CNCC)CCO)N3C3cccc3)CC=O)N(2##########################################\n",
      "Predicted SMILES: Cc(=O)C1CCC(C(C=O)N2ccc(CC)(N3CCCCC)(cc2)CC1#########################################################\n",
      "Predicted SMILES: C(COCCC(C)CCCCCCC((=O)C(C)(CC1=O)C(CCC(C)C#CC=)CCC)(C)O##############################################\n",
      "Predicted SMILES: C(1ccc(CC2ncc(CCC(=O)NcCCO)NC3CCCCC)O)\n",
      "Predicted SMILES: C(=O)c11ccc(N(=O)N2ccccCl)cc2)c1#####################################################################\n",
      "Predicted SMILES: 1ccc(CC2nc(NCc3CCCc3cc4N44ccccc4)nc(N4CCOCC4)n3)ncnN3CCOCC3)n2)cc1###################################\n",
      "Predicted SMILES: C1ccc(C(=C2ccC)3cccccCl=O)NCC)C)cc)Ccc=O)c3=O)CCCC)CCCC)c1###########################################\n",
      "Predicted SMILES: C1c(((NC(=O)Cc2CCCC(C3ccccc3)l)C2)O)cc###############################################################\n",
      "Predicted SMILES: C(C(=O)C1ccN)nnH]c(C(c(C(=O)NCc1nncn1Cc1ccc(c1#######################################################\n",
      "Predicted SMILES: C(C)C(CCC)CC((CC)1=O)OCC3CCC2)C1=O)O((C)C#=)C########################################################\n",
      "Predicted SMILES: C1ccc(C(=O)(=O)N2CCC(C(=O)C3cccC)CC4)nn3Cc3ccccc3)CC2)cc1############################################\n",
      "Predicted SMILES: C(=cC=O)NCCCC(c(=O)c2cccccCc3ccccc3)c2)CC1)C(=O)NCCC2ccccc2C1########################################\n",
      "Predicted SMILES: C1ccc(cc((C(CC(=O)N)c(=O)c2c1########################################################################\n",
      "Predicted SMILES: C1cc(C)=)C(O)c2ccc(C(CC3)ncC)C3CC3)c2)c2CCC)co1######################################################\n",
      "Predicted SMILES: C(CC=O)C(=Cc2cc(CC(=)CO3cccClCCC(=O)NCC)C(=O)N4C)C4=O)ccccccc43)ccccccc33)C(=O)NCC)C1=O##############\n",
      "Predicted SMILES: =C1cCNCC(nC22)C(O)(O)C(O)(O)C1O#(1###################################################################\n",
      "Predicted SMILES: =C(N)C1ccc((1NC1ccc(C()cc1CC(=O)(=O)c1ccccCl)cc1#####################################################\n",
      "Predicted SMILES: C(CCCCCCCCC=)C1CC1CCOO)COCCCCCCCCCCCCCCC(=)(((=O#####################################################\n",
      "Predicted SMILES: C(C1ccc(c1CC(=O)CSc1ncnH]cc1#########################################################################\n",
      "Predicted SMILES: =C(Nc=CC2ccccC)ccO)c2C1)O)c1ccccc1###################################################################\n",
      "Predicted SMILES: C(CCCCCC2ccccOC)ccON+](=O)[O-])cc)CC=O)N(C2ccc(c2)CCC2ccccc2)C1=O####################################\n",
      "Predicted SMILES: C(CCCC=CCNNCC(CC((CO)N1CC1ccccc1#####################################################################\n",
      "Predicted SMILES: =C(NCc(=O)c1ccccCl)ccC(=O)(=O)N2CCCCC2)c1)Nc111ccccc1################################################\n",
      "Predicted SMILES: =C(N)CCC(C2ccccc2)CC2ccccc2Cc2cccc21)c1CCCCC1########################################################\n",
      "Predicted SMILES: C(C(=O)C1CCCCC(C(3ccc\n",
      "Predicted SMILES: Cc1ccc(CC2cc(ccccC(cc3n(2C(CCC(N)=C(N)Oc3=C2C(=O)CCC3)cc1############################################\n",
      "Predicted SMILES: C(CC(C(CCC2)CC2cccC()ccccnH]c(=O)ncc23###############################################################\n",
      "Predicted SMILES: C(CCO)NcCCC(Nc2ccc(C(=O)NcCC3C)C)cc2)))CC1###########################################################\n",
      "Predicted SMILES: Cc1ccc(Cc2ccc(c2Ncc1N(1(CCCC(1#1ccccc1###############################################################\n",
      "Predicted SMILES: C(C)CC)c1ccc(C(c(=O)C2cccClccccCl=O)N)C3ccccCl=)(C)C)cc3)cc)cc1######################################\n",
      "Predicted SMILES: C((=O)C1cccC2CC(CO)Si](C)(C)C(C)(C)C)C(OOC(=O)(=O)OCC3O)C(OCSi](C)(C)C(C)(C)C)cn1####################\n",
      "Predicted SMILES: C1c((C((=O)N)c(ccccCCCCC3ccccccc4c4ccccc4c)cc21######################################################\n",
      "Predicted SMILES: C(C(=O)CCC1CC(n2ccccClCCC)ccOl3ccccc(c3)OCOO4)c2)C(O)C(O)C1O#########################################\n",
      "Predicted SMILES: C(CC(CCC))C(CO)c1cccCc2ccccCr)cc2)nc2Nc2ccccCr)cc2)n1################################################\n",
      "Predicted SMILES: C(C)CC)c1ccc(C(=O)(=O)N2CCCCC3CCCCC3)CC2)cc1#########################################################\n",
      "Predicted SMILES: C(CC(CCC(CC2ccccc2)CCNCC2ccccc2)=cCC)C)CC1###########################################################\n",
      "Predicted SMILES: C(CCC(NCCC1C12)C1####################################################################################\n",
      "Predicted SMILES: =C(NCCCCcC)N11CCCCCNN2CCC(c3cccccccCCO4)CC2)CC1######################################################\n",
      "Predicted SMILES: C(CO)Nc1ccc(CC(=O)C2cccCc3ccccClccC)c3))nnH]n2)cc1###################################################\n",
      "Predicted SMILES: 1cccCCC2ccccc2)lc2cccccClCNCCN3)cc)cccClCNCCN2)c1####################################################\n",
      "Predicted SMILES: =C(N)CCCCC(O)C())c1ccO)ccc2c1ccc12###################################################################\n",
      "Predicted SMILES: Cc(=O)C1CCN)=O)NC)N1C(=O)C(C33cc[nH]c4ccccc34)C(2C1=C)C##############################################\n",
      "Predicted SMILES: Cc1ccc(C(CNC(=O)C2ccccc2)cc1#lc1cc2ccccc2\n",
      "Predicted SMILES: C1ccc(CC(=O)CSC2cccCCccc(cO)cc(Cc4ccccc4)oc3cc)oc1###################################################\n",
      "Predicted SMILES: =C(NCc=O)(=O)c1ccccCl)ccCl)c1)N11ccc(c1#l############################################################\n",
      "Predicted SMILES: Cc1ccc(c1C1(=O)Cc1ccc(Cc2ccC)nc3ccnc(N)c23)cc1#######################################################\n",
      "Predicted SMILES: C1c(((1C(NCC(=O)N((=O)N(CCCCCCCCCC2)C1=O#############################################################\n",
      "Predicted SMILES: Cc1ccc(Cc2cc(c(c(ccc4n(n+](C)4ccccc4)ccc2cCcc1#######################################################\n",
      "Predicted SMILES: C(CC1cnH]c(ccc(c2c1CO################################################################################\n",
      "Predicted SMILES: C(C)CC(NC(=O)C(Cc1ccccc1)NC(=O)C(C(=O)C(C)(=O)C(C)Cc1ccccO)cc1)C(=)C#C(=O)NC(CC=O)N)C(C)C##C)CC)C####\n",
      "Predicted SMILES: C(CO)Nc(CcC=)C)C(=O)NC(CC=O)NC(CCCNC(=N)N)C(=O)N1cc2\n",
      "Predicted SMILES: C(C1cccCC(=O)Cc2ccc(CC3ccccc3)cc2)ccc1C(=O)N11C1C))CC################################################\n",
      "Predicted SMILES: =CN+]([O-])c1ccc(Cc2c((c2)cc1########################################################################\n",
      "Predicted SMILES: C(((=O)C1CC)CCCC1C(2cccccccc3oc)C1###################################################################\n",
      "Predicted SMILES: C(=cCC=O)NC(CcCCC=cC=O)O)C(=O)O)C(=O)OC(c=O)O)C(=O)N#################################################\n",
      "Predicted SMILES: C(C(=O)C1cccc(c(ccc3n(CCCCN)c(=O)n2c2C###############################################################\n",
      "Predicted SMILES: C1cccC)cc(NC2cc(ccC(cc(c3c(=O)c3C(CcC)N)C(=O)NcCCCC(=O)(=O)C2)c1#####################################\n",
      "Predicted SMILES: C(C1ccc(C(CC(=3ccccOC))cc3)=(C(CCC33)OOC)cc1#########################################################\n",
      "Predicted SMILES: C(C)CC(=O)C1Cc1ccc(Cl=)()cc1#########################################################################\n",
      "Predicted SMILES: Cc(=O)C1ccc(NCCCN(C)(=O)ccCCC(C(=)C)CC3)CC2)cc1######################################################\n",
      "Predicted SMILES: =CN+]([O-])c1cccCl)ccc1CCC1ccccc1####################################################################\n",
      "Predicted SMILES: C(C)CCNO)Nc(C)1ccccCN+](=O)[O-])cc1)C(=))(Cl)Cl######################################################\n",
      "Predicted SMILES: C1cnH]c2CO)c2C#=O)NCCc2ccc(Cr)cc2)c(c1CCCC2##########################################################\n",
      "Predicted SMILES: Cc1ccc(c1C(1cccCc2ccccc2)ncnH]11#OCCCc1ccccOC)Cc2ccccClC)cc2)cc1#####################################\n",
      "Predicted SMILES: =1cc(cccc(cc2cc1Cl=1ccnn1CcCCCCC1)C1CCCCC)CCC3#######################################################\n",
      "Predicted SMILES: =C1cc(-c2cccc2)oc2ccccc(=c4cccc4)cccOO)cccc12########################################################\n",
      "Predicted SMILES: Cc(NN(=)(Cc)N((Cc(###################################################################################\n",
      "Predicted SMILES: Cc1cccc((Cc)))C(C(CC=O)C(C=C)=O)CCC)NCC)C)=)=O)CCCC)CCCC(=)((C2CC)(CCCCCO)CC)C(=C(C(C22CCC)C(O#######\n",
      "Predicted SMILES: C(C(=O)C1ccc(Nc2cc(C)=O)N)C)c(ccc(C)ncc2=O)cc1#######################################################\n",
      "Predicted SMILES: Cc1ccc(C(CCCN((C(3cccccCC(=O)c4ccccc(ccc5c4)c3)CC2)cc1###############################################\n",
      "Predicted SMILES: C(=ccC=cC1ccccc1)Cc1ccccc1)c1ccccc1)C(=O)O###########################################################\n",
      "Predicted SMILES: Cc1ccc(C(=O)NcCCCC)3cccC)N)ccc3)CC22C)ccOc2cccn2)c1##################################################\n",
      "Predicted SMILES: C(C)CCNC(=O)C(CCCc1ccccO)cc1)C(=O)NCCCCC1C(=O)NC(Cc=O)NC(CCCC)=O)C(=O)N)C(C)C########################\n",
      "Predicted SMILES: CC(N)NC=Cc1cccccccc2[(ccccc12########################################################################\n",
      "Predicted SMILES: C(1cccc1SCC(=O)Nc1ccc(cC)c1##########################################################################\n",
      "Predicted SMILES: =C1ccC)cCCCCC2)cc-2CCO(c(=O)(=O)cC3ccccc3)CC2)ccn1Cc1cccccCl)c1######################################\n",
      "Predicted SMILES: C(CC(CCC))C1cc(((-c2ccc(C(=O)NC(=O)(=O)c3ccc(c(cccC))c4c3)cc2)l=O)OCCCC3ccccc3C2)c1##################\n",
      "Predicted SMILES: C(CONC(=O)c1ccCr)ccClcn1C)c1ccccCC(=O)c2cccc2))cc1###################################################\n",
      "Predicted SMILES: C(C(CCC)C1cc(ccccc2ncc(C)ccc12#######################################################################\n",
      "Predicted SMILES: C1nccc2NCC(Cc2ccc(c2)n1##############################################################################\n",
      "Predicted SMILES: CCCC)=)CC)C(C)CC)O)CC(=O)CCC)(CCCC1CCCCC3(C)CCOO)C1(#(CO)CCC)CCCC####################################\n",
      "Predicted SMILES: Cc1ccc(C(NC(CCC(CcC3ccccc3C2)cc1#C###################################################################\n",
      "Predicted SMILES: C1ccc(c(c1)C(=O)N(=C(C=)C)NC(C)C2=O##################################################################\n",
      "Predicted SMILES: C1ccc(C((=)=O)NcCCCCCC2)N2C)=O)c2ccccCc3ccccc3)cnH]n)C(CCCCC)c1######################################\n",
      "Predicted SMILES: Cc1cccC(=O)N2ccc(OC)c(OCc2)C)cccOC)c1OC##############################################################\n",
      "Predicted SMILES: C1nc2c(ccc2c1=O)c2C(CCC(C2ccccc2O1=O#################################################################\n",
      "Predicted SMILES: C1cc(C)Nc2ccc(Cc3ccnnccccc43)cc2)cc1#################################################################\n",
      "Predicted SMILES: C(1c((C(2c((C()cnNCnc)c2C(c1#########################################################################\n",
      "Predicted SMILES: C1ccc(CCCC=O)CC(=Cc3cc(C)c4ccccc34)C2=O)cc1##########################################################\n",
      "Predicted SMILES: Cc(=O)C11ccc(c(c1)C(1ccccCl(=O)N)Ccc1C2#(############################################################\n",
      "Predicted SMILES: C(CCCCc(=O)C1CCCC=O)OC(CCCCC(C(2ccccc2)CC1)NC(=O)C1ccccccc2\n",
      "Predicted SMILES: C(CCCCCCCCCCCCCC=O)NC(CCCCO)O)C((=)C#################################################################\n",
      "Predicted SMILES: C(C(=O)C1CC=C(1ncccc1)N+](=O)[O-])C(=O)OCC###########################################################\n",
      "Predicted SMILES: C1nc((Cr)c(c1Ccn2C1OCCCCO)C(O)C1#####################################################################\n",
      "Predicted SMILES: C(CC)CCC=C(=O)c2c2ccccc(CO)ccccc3cc3C))OCCC)CCCC)(C)CCC##############################################\n",
      "Predicted SMILES: C(1ccc(cC(=)C)c1NC(=O)C1ccc((1NC#####################################################################\n",
      "Predicted SMILES: Cc(=)=O)NC1cNCCCCC(N)N)c(CO)NC(CCCC(CNC##############################################################\n",
      "Predicted SMILES: Cc1ccc(CC(=OCC(=O)NCCC)(C)CC2=O)cCC)2ccccCl((=)C)cc2)C(=)C=)C)C((C)C)ccOC)c1#########################\n",
      "Predicted SMILES: C1ccc(C(=2cc(cc(N)cn3c2N)N2CCCCC2)cc1################################################################\n",
      "Predicted SMILES: C1ccc((c1(C(3cc(Cc4cccccc(=)nc(c4)ccccc)ncnc4c)ccC)CCC)cc=O)cc2######################################\n",
      "Predicted SMILES: C((CC)CC=O)CcCCCC1=)C1cccccCCC2ccccc(ccc3c2)c1#######################################################\n",
      "Predicted SMILES: C((CC1ccccCC)C2ccCO)[3(cC)c2=O)ccCC)c1)C(=))=O)O)C1ccccCl)ccCl)c1####################################\n",
      "Predicted SMILES: C1nc(c(c1)CC1ccccc1C2################################################################################\n",
      "Predicted SMILES: Cc1cccC(CC)(CC2OC)=O)N)CC2)C(CCC3cccOl)ccc3C)cc(1OCC(1CC=O)CCC(CC1CC)C11=O###########################\n",
      "Predicted SMILES: =C(N)CCCNCCC1cccccCc2ccccc2))c2ccccc(ccc3n2)c1)c1CCCCC1##############################################\n",
      "Predicted SMILES: C1c((CC(=O)C2ccc-C(=O)c3ccccClCC4ccccccnc5c4)cc3)cn2C)cc1Cl=O)NC111CCCCC1############################\n",
      "Predicted SMILES: Cc1cccCC2nc(cc(c-(N)cnNO)n(C)CCCC4)c(n2)cc(OC)c1O####################################################\n",
      "Predicted SMILES: C(C)CC(C(=))C(CCCC(=O)c(C)(=O)C(1ccccc1)C(C1ccccc1)c1ccccc1#C(CO)(=O)c1ccccC)cc1#####################\n",
      "Predicted SMILES: Cc1cccc1CNcCCNCCN1###################################################################################\n",
      "Predicted SMILES: Cc1ccCCcc2c(c1C))Cc1cc(ccO)c1C(=O####################################################################\n",
      "Predicted SMILES: =C(NCC1cccC)cccO)c1)NCCC1cccO)cc(O)c2ccccc2)c1#######################################################\n",
      "Predicted SMILES: Cc1ccc(c(c1)Cn+](CO-])=C(N1ccc(CCcc1)CC=O############################################################\n",
      "Predicted SMILES: C(CCC(=O)NCC1OO(C)O1ccc(C()cc1#######################################################################\n",
      "Predicted SMILES: Cc1ccc(c1CCC(NCC)C(##################################################################################\n",
      "Predicted SMILES: C(CCCCCCCCCCCCCCCCC=O)N1cc2(Cc2cc3(2)c1##############################################################\n",
      "Predicted SMILES: C(CO)Nc(CCC(C1ccc((CCCCCCCCc2ccc(cCCC)C)C3(=)=O)cc)c1################################################\n",
      "Predicted SMILES: C((CC)CC1ccc(cc(Cc3ccc(c3)cc(=O)c2c1#################################################################\n",
      "Predicted SMILES: =C(NcCCCCCC)c1ccc((c1C(=O)N1ccccCCCCCCC3)cc1C2#=O)=O#################################################\n",
      "Predicted SMILES: C1ccC(=)CC)C)cc(c(Cc3ccccCCcc3)cc-c3ccccCCcc3)cn1c1C#=)(C)C##########################################\n",
      "Predicted SMILES: =C(1cc(Cc2ccccc2)nc1-c1ccccCN+](=O)[O-])cc1##########################################################\n",
      "Predicted SMILES: C1ccc(CCC(CC=O)Nc2cc3c(c2C)=)=O)CCCC3)cc1############################################################\n",
      "Predicted SMILES: C(((=O)Cc1ccc(Cc2cc3ccN(=CCCOCC4))nc)CCC(C2cccccN)n2)CC)cc1##########################################\n",
      "Predicted SMILES: C(CC(C(C2ccc3ccN)ncnc32)CCNC)O1######################################################################\n",
      "Predicted SMILES: C(CCCO)NCC1OCCC3CC)=)CCC(CCCC(=(CC5(C)CCC(OC(CO)CCCCC(C)(C)C5CCC4(C)C3CC)CCCOC3C(=O)c(C)c(=O)[(CC####\n",
      "Predicted SMILES: C(CCO)Nc1cccCC)ccOC(=O)NC2ccc(c2)l)cc1#C#############################################################\n",
      "Predicted SMILES: Cc(=O)C1Cc1ccccc1)NC(=O)CC(1ccccc1#C#################################################################\n",
      "Predicted SMILES: Cc1ccc(c1CCC(CCN1CCNC1C(C1###########################################################################\n",
      "Predicted SMILES: C(CCCCCC1ccc(O((CCCCCCC)C2)cc1#######################################################################\n",
      "Predicted SMILES: C(C1cccCC(2ccc(C)c(n2)ccnccccn1######################################################################\n",
      "Predicted SMILES: C(=O)(=O)c1cccC(=)(=O)=O)ccCC(=O)c2cccccCl=O)N)c2)cc1#l##############################################\n",
      "Predicted SMILES: C(=O)c1ccc(cnH]c(-c3ccc(CCCNNCCC(CC5ccccCl)ccCl)c5)cC4)cc3cnc2c1#####################################\n",
      "Predicted SMILES: Cn+](C)(C)CCCC(=O)(OO-])OCCCOCC3CC(CC(C3)C1)C2#######################################################\n",
      "Predicted SMILES: C(CC(C(CCc2ccccc2)CCCCCCC(=O)c3C)(C)C3ccccc3)CCC2C1cccccCCc1)C2######################################\n",
      "Predicted SMILES: C(C1cccc(cc1O(C(=1cccOC)c((OC)c1)C(CC(CCC1=O)C(######################################################\n",
      "Predicted SMILES: Cc1cccc(cc1OC)C((C(1ccccCc3ccccCCcc3)cc1)CC2#########################################################\n",
      "Predicted SMILES: C(CCc1ccc(C(CC(=C((=)(C)CC(=)=N2)cc1#C###############################################################\n",
      "Predicted SMILES: =C(CC(=c2ccccO)cc2)C2cc(cccCl)ccc3nc=O)n2C12ccccc21##################################################\n",
      "Predicted SMILES: =C(N)CCCC(=O)C(=Cc2cc(Cc3ccccc3)nc2-c2ccccCl)cc2)l)SC1=S#############################################\n",
      "Predicted SMILES: Cc(NNCC(=)=O)c1cc(Nc2ccccCC)cc2)n21##################################################################\n",
      "Predicted SMILES: =C(NCCc=CC(O2cnc(=O)[nH]c2=O)C(O)C1O)OC1=1ccccc1)c1ccccc1############################################\n",
      "Predicted SMILES: C1ccc((1C(C(=O)C1CO)Nc1cc(\n",
      "Predicted SMILES: Cc1ccc(ccc(C(Cc3cc(-c4cccc4)n(3C)nc22################################################################\n",
      "Predicted SMILES: C(CCC=CCCCC(=O)C1ccccccCl=O)N)ccc2nnH]1)N((=O)O######################################################\n",
      "Predicted SMILES: Cc1ccc(c1C1(=O)CcCCN(1C(=O)NcCCCCCC1#################################################################\n",
      "Predicted SMILES: C(C1ccc(NC(=O)C2cccCO)n3cccC))ccc3\n",
      "Predicted SMILES: C(C1c(=O)c2cnH]c(-c3ccccCC)(=O)Nc4ccc(c4)Ccc3)nc2n(CCC)c1=O##########################################\n",
      "Predicted SMILES: Cc1ccc(C(C(=O)NC2cc(-c3ccccCC)(N4ccnc4)cc3)c\n",
      "Predicted SMILES: =C1cnH]c(=Oc)COC2cccccCN+](=O)[O-])cc)cc(1CcCC(CO)(=O)(O)O)(=O)(O)O)(=O)(O)O)C(O)C(O#################\n",
      "Predicted SMILES: C1ccc((CCC(c2ccc(Cc3c((c3Ccc2)c1#####################################################################\n",
      "Predicted SMILES: Cc1ccc(cC(=O)N2ccCc3cccccCC)NNCCCC4C)C)4ccccc4)cc)cc3ccccc3c)c1######################################\n",
      "Predicted SMILES: =C(NCCc1cccccccccc12)N1ccccc1########################################################################\n",
      "Predicted SMILES: =C(N)CCCCC(C((3ccccc3C(Cc3cccccClCc4ccccc(ccCl)cc5c4Ccc)CCC1#########################################\n",
      "Predicted SMILES: =C(NC1CCCCC1Cc(=O)c2cccccccc3o2)N1)O)Nc1CCCcO)NC1####################################################\n",
      "Predicted SMILES: Cc1ccc(Cc2cccc2SCC(=O)NcCCCC)cc1#####################################################################\n",
      "Predicted SMILES: C(CCCC((C)CCCC(33(C3CCOCC3)CC3(C4(C)CCC1C32OO4#######################################################\n",
      "Predicted SMILES: Cc1ccc(Cc2cc3C)CCCNC3)nc3C(cc1#(=O)(=O)N11CCCCC)CC1##################################################\n",
      "Predicted SMILES: =C(=O)(N1cccc1)N1CCN(cc2cc3-)c3cccCr)cccBr)c3[2)CC1##################################################\n",
      "Predicted SMILES: Cc1ccc(C(cc1NC(=O)CSC(1C(=O)C((CcCC=O################################################################\n",
      "Predicted SMILES: C(C)CC=O)c1cc(C(=O)NCCCCCC3ccccc3)C2)c2cccccC)c3ccccc3)cc1###########################################\n",
      "Predicted SMILES: C(CCCCCCCCCCCCCCC(CC(=O)(O)O#########################################################################\n",
      "Predicted SMILES: Cc1cccCC(=)=(CN2(=O)cc2C)CNCC(=O)NC(CCC=)CC2cccCC)cccccccO)C)CC)C)cc23)cccccC)C)CC)C)ncc2c1##########\n",
      "Predicted SMILES: C(CC1c(=CC2ccc(-c3ccccc3)n2)nc2ccc(=O)n(C)c(=O)n2C###################################################\n",
      "Predicted SMILES: C1ccc(C(=2ccC)ccc3ccccc23)N2CCNCC)CC2)cc1############################################################\n",
      "Predicted SMILES: C((1nccCc2ccnH]c(C)CCC3C(O)NCCn2)ccc1################################################################\n",
      "Predicted SMILES: Cc1cccC(=)CNCCCCCCC)C)C2ccc(c2)ccc1Oc1cccnH]c1#######################################################\n",
      "Predicted SMILES: C1ccc(C(=O)NC=)Nc2ccc(cCC(=O)C3cccc3)cc)cc1##########################################################\n",
      "Predicted SMILES: C1cccC)2C)C(ccc1N(=O)N11cc(2C)c2ccccCl)cc2)nc1=O#####################################################\n",
      "Predicted SMILES: C(CCCC(C(1)OC(=O)N(CC1=O)NcCCO)Nc1ccccc(c1)OCOO3)C2=O################################################\n",
      "Predicted SMILES: C(=c1ccccc1)C1ccc(NC2ccc(nccccc23)n1#################################################################\n",
      "Predicted SMILES: C(C)CC1CCC)C1ccc(c(cccccccccccccc34)ONC(=O)O#########################################################\n",
      "Predicted SMILES: C(C)Cc(=O)N1C(NO)Nc1ccc((Cc2ccnH]c3ccccCC(=O)(=O)c4ccccc4)cc23)c1####################################\n",
      "Predicted SMILES: C(C)CC)C1CCO2ccccc2)CCN(C(CCCC(C3cccccc(c4c3)C2)CCCO)C1##############################################\n",
      "Predicted SMILES: C(CC)CC(=O)N(CCC=)CN2C2ccccc2)C(=O)(=O)c2ccccc2)C1=O#################################################\n",
      "Predicted SMILES: =C(NcCCC1CCCCC)O)c11CCC3CC(CC(C3)C1)C2###############################################################\n",
      "Predicted SMILES: Cc1ccc(NC)(c2cc(c3Nc(=O)(=O)c3ccc(C)C)(C)C)cc3)n2CC2cccccCC)c2)cc1###################################\n",
      "Predicted SMILES: Cc1ccc(C(=O)NCCCCN(C((3ccccc3)C2)ccOC)c1#############################################################\n",
      "Predicted SMILES: C1ccc((1CCCCN2c(ncc1Cc1cccc1)c2CO####################################################################\n",
      "Predicted SMILES: C(C(=O)C11c(=O)c(CC2ccccc2)c2ccccc21#################################################################\n",
      "Predicted SMILES: CCCNn+]((CCCCCCCC2CC)CCCCCC(=O)cCC3ccccc3CC3ccccc32)CC1##############################################\n",
      "Predicted SMILES: C1cc(n(ccc2cn+]1CC(CN+]1ccC)nc2ccccc21###############################################################\n",
      "Predicted SMILES: C((1nc((C(CCCNCCCO3cccccCC)c3)C2)c(1#################################################################\n",
      "Predicted SMILES: C(C(CCNCCC2ccc(c2)CC1################################################################################\n",
      "Predicted SMILES: C1ccc((CC(=O)CSC)NCCCNC(c3ccccc3)CC2)c1##############################################################\n",
      "Predicted SMILES: Cc1ccc(CC)CO)CcC)CCccC(2C)C(cc#######################################################################\n",
      "Predicted SMILES: C(CCN(C(CC=N#########################################################################################\n",
      "Predicted SMILES: C(C1ccc(cC(=O)NcC2CCCCC3cccccn+]3CO-])CC2)c1#########################################################\n",
      "Predicted SMILES: C(C)C=cC1CCCCC(CC2ccccc2)CC1)c1ccccc1)C(=O)(=O)c1ccc(Cc2ccccc2)c1####################################\n",
      "Predicted SMILES: =C(Nc1cccCr)ccc1O1CCN(C1)c1ccc(c(ccc2c1##############################################################\n",
      "Predicted SMILES: C(C)=O)CCc(=O)cC1(=O)(=O)ccCc1ccccc1)c1CCC(=O)(=O)C1#################################################\n",
      "Predicted SMILES: C1cc(CCCCNCN(CC2)c2c(n)ccC(=O)N)cc2n1################################################################\n",
      "Predicted SMILES: CCCC2ccccc2C(=O)C1CCC2ccc(C(=)()cc21#################################################################\n",
      "Predicted SMILES: Cc(=O)C1CC(C(CCC(C(C)C(=)=C)CC(C32###################################################################\n",
      "Predicted SMILES: C(CC1cccCc2ccc(c(c2)CCCCCC(O)C(=)=NC)CCCCCCCCC)CC2)CC)ccc1###########################################\n",
      "Predicted SMILES: =C(N1cccccc(nH]c(c1)N1CCNC1(3cccccO)c3CCC21##########################################################\n",
      "Predicted SMILES: C(CC(C2ccc(Cc3cc4\n",
      "Predicted SMILES: Cn+]([O-])c1cc(ccccCl)cc2c11CCCCCCCC1################################################################\n",
      "Predicted SMILES: =C(NC1ccccc1)C1ccCl)cccc1CN+](=O)[O-])NCCCC(CO)C2ccccc21#############################################\n",
      "Predicted SMILES: C1cccc(Nc2cccCc3ccc(c3)n3(2)c1#######################################################################\n",
      "Predicted SMILES: C1ccc((C(=O)Nc2ccc((CC3ccccc3)c2)c1##################################################################\n",
      "Predicted SMILES: =C(NC1c(nc1)N1ccc(ccccc12############################################################################\n",
      "Predicted SMILES: C(CC)C(NC(=O)C(CCCN1C(=O)C(C(=O)C(CcNC)CC(=O)C(CC1ccnH]cn1)NC(=O)C(CC)N#C(=O)NC(1ccccc1##############\n",
      "Predicted SMILES: Cc1ccc(CCCC2ccccCC)C)3ccccc3)C(=O)O)cc2)C(=O)c2ccccc(c2)OCO3)cc1#####################################\n",
      "Predicted SMILES: =C(NcCC1CCO(c2ccc3ccccc23)CC1)c1ccc(ccccc12##########################################################\n",
      "Predicted SMILES: Cc1ccc(cC(=O)(=O)N2CC=O)NcCCCC2)c1###################################################################\n",
      "Predicted SMILES: Cc1cccc(cc1OC)CCCCCC1CC=O)C3ccccccccc(c34)C1=O)cCCCCCCCN1C2=O########################################\n",
      "Predicted SMILES: C((1nc(N)CC2ccccc2)nc21Cc1ccc(C)2CCC(C)CC2)o1########################################################\n",
      "Predicted SMILES: =C(NcCC=O)N1CCCCC)OO)O)c1CCCCC1######################################################################\n",
      "Predicted SMILES: CCCOc(=O)C1CC(=)=O)NCC)CC=C(O)Oc2cccc(cc2C)Oc1cccOC)c(cOC)c1C33######################################\n",
      "Predicted SMILES: Cc1cccC(CCC=O)C(CC(C4ccccc4Cc4ccccc43)C2=O)cccOC)c1O#################################################\n",
      "Predicted SMILES: C1ccc(c(c1)C(C1ccc(CC(C3cc(\n",
      "Predicted SMILES: =C(NcCC=O)N1C)CcCC(=O)(O)O)C(CCC#####################################################################\n",
      "Predicted SMILES: C(C1c(=O)c2c(nc3n2CCCC))CCCCn(CC2ccccc2)c1=O#########################################################\n",
      "Predicted SMILES: =C(CC(=Oc2cc3-lCCC5CC(CC(C5)C3)C4)cc2)CC1=Cc1ccccCl)cc1##############################################\n",
      "Predicted SMILES: CCc1ccc((Nc2ccnH]c3cccc(NcCCNCC)CC(C(O)CC)C43c23)c1##################################################\n",
      "Predicted SMILES: Cc1ccc(c(c1)CC(CCCCCCCN)C(CCCCCC(C()N(CCCC3##########################################################\n",
      "Predicted SMILES: C(CCC(C(=OCC(NCc3cc(C)(C)4ccccc4)ncccccc4c)C(=O)N2C2N1###############################################\n",
      "Predicted SMILES: C(CO)NC1CCOO)CC2CC3(CCOO)CC(CC(O)C)CC)C(C(CC(O##COC(=O)C(C)(COC######################################\n",
      "Predicted SMILES: C(C)CC(((C)CC)CC((O)COCc1ccccc1)NC(=O)C1cccccC)cCCCC)c1##############################################\n",
      "Predicted SMILES: CCc1ccc(Cc2ccc((C(C(CCCCCCO)N(C5cccCl)cccCl)c5)CC=O)C4C3Ccc)cc1######################################\n",
      "Predicted SMILES: Cc1ccc(C(CCC3ccccCC)cc3)C(=O)C3CC2ccccc2)c2ccccc2)cc1################################################\n",
      "Predicted SMILES: C(C1ccc(CCC(c(NC(=O)CSC(2CC=)=NC(C)(C)CC2c(c1########################################################\n",
      "Predicted SMILES: C1c((c1C(C(=O)c1cccccNlCC2(C2)c1#####################################################################\n",
      "Predicted SMILES: =C111nc(c2c1ncn2C1OC(Cc2ccccc2)CC1CO)O1##############################################################\n",
      "Predicted SMILES: C(C)CC=O)c1CCCCCC112C(2cc3\n",
      "Predicted SMILES: C(C(=O)C1cccCc2cccc(ccc3nc=O)n2)c21##################################################################\n",
      "Predicted SMILES: C(CcCCOC(C)C(=O)C2ccccc2C1=O#########################################################################\n",
      "Predicted SMILES: C(C)C1cc(Nc2cc(c2C)c2ccc(2n1#########################################################################\n",
      "Predicted SMILES: Cc1ccc(cCC)c1C(=O)Nc1ccc(Cc2cccc2)\n",
      "Predicted SMILES: Cc(=O)C1ccc(Nc2cccC((CC(=O)O))CCC(C(=O)CC(C)(C)C)CC3)cn2)cc1#########################################\n",
      "Predicted SMILES: CC(N)NCCCC(NC(=CCC(O)C(CCC3ccccc322)CNN1C(2=2ccccc2)c2ccccc2)C1=O####################################\n",
      "Predicted SMILES: Cc1cccCC)ccCc2ccc3cccOC)4ccccc4)r)ccc3c2=O)cc1OC#####################################################\n",
      "Predicted SMILES: C((CC1ccc(-c2cccCC)c(OC)c(OC)c2)n1)C1ccc(C)cc1#######################################################\n",
      "Predicted SMILES: C1cc((NCC((=)C)n11N##################################################################################\n",
      "Predicted SMILES: Cc(1ccC(=O)NCCC)C)cc22cnH]c(cccccCC4ccccCl)cc4)cccc2#################################################\n",
      "Predicted SMILES: C(CCCCCCC(=O)(=O)ccCCCCCC#O##########################################################################\n",
      "Predicted SMILES: C(1nccc(ccccn2C1OC(O)(=O)(O)O)C(OO)(=O)(O)O)O1#######################################################\n",
      "Predicted SMILES: C(CO)N1cc(NC2ccccc(c2)OCO3)nc1C######################################################################\n",
      "Predicted SMILES: C(CCO)N1ccOC2cccC))cccCl)c2)nnH]c2ccCl)ccccCN+](=O)[O-])c1c1=O#######################################\n",
      "Predicted SMILES: C(C)Cc1cc(Nc2ccccC()cc2)cc2c1nC(C(=O)ccC)C1cccnH]c1)CC2##############################################\n",
      "Predicted SMILES: C1c(((1Cc1cc(c2c1ncn2C1CC(CO)C(O)C1O#################################################################\n",
      "Predicted SMILES: C(C)C1c((C(=O)N2ccc((NC(=O)c33cccccccc4n3)cc)cncccnc21###############################################\n",
      "Predicted SMILES: Cc1ccc(cCC(=O)CScC(=O)NCc1###########################################################################\n",
      "Predicted SMILES: C1ccc(c(c1)C((=O)C(CC(=O)N)N2########################################################################\n",
      "Predicted SMILES: C1nc(((c1((-C(3cccccCl)c3)cc12#######################################################################\n",
      "Predicted SMILES: =C(NCc1nnc(-C2ccccc2)n1)Nc1CCCCO1####################################################################\n",
      "Predicted SMILES: C(CC)CC2ccc(c(ccCO)oc3c2C(=)C(O######################################################################\n",
      "Predicted SMILES: C(C)CC(CC(=O)CC1cccccCl=O)NCC)C)c1)c1CCC#############################################################\n",
      "Predicted SMILES: CCc1ccc((N((C3cccO)CN4(CO)(=O)cCCCCC)ccc3OCC2CCCCCC2)c1##############################################\n",
      "Predicted SMILES: Cc1cccCC2ncc(cc((C(CCCCC4)cc23)cc(1Oc1cncnC)c1#######################################################\n",
      "Predicted SMILES: Cc1ccc(C(=)N)=CCCNCC22)cc1#C#########################################################################\n",
      "Predicted SMILES: CCCNCC)CCC2C)=OCCCC21#(=O)CC#########################################################################\n",
      "Predicted SMILES: C(C1ccc(Cc2ccc(SCC(=O)Nc3ccc(cC))c3))o2)cc1##########################################################\n",
      "Predicted SMILES: CCCC2cc3ccccc3cn+]2CCCCC1CCC1CC=OCCCc3cccccccc4cn+]3CCCCCCCCCCCC=Oc)CC1ccccc1))NC1ccccc1O############\n",
      "Predicted SMILES: =C(N)C1cccc(cccC(=O)(=O)N3CCCCC3)cccc1CC#############################################################\n",
      "Predicted SMILES: Cc(NNc1cccC(=O)NcC)CCC(C2C)(=O)cCcCCCCC2)CCC)C)ccc1CC################################################\n",
      "Predicted SMILES: Cc1cccC(C2cc(c3c2ncn3C2OC(CO)C(O)C(OC(=O)C2cccOl)cccCl)c1Oc1ccccc1n1#################################\n",
      "Predicted SMILES: CC(N)NC1ccc((C(=O)NCC(=O)CcCCCC=O)O)C2ccccCr)cc2)cc##################################################\n",
      "Predicted SMILES: =CN+]([O-])c1cccClCNC2cccC3CCOCC3)cc3N3CCOCC3)n2)cccccOCC2###########################################\n",
      "Predicted SMILES: Cc1ccc(C(CC(=O)Nc2cc3c(c2C(=O)NCC2ccccc2)CCCC3)cc1###################################################\n",
      "Predicted SMILES: C(CCC(C(=O)c2ccc(c(c2)CnH]c2=O)n2ccccc3)CC1##########################################################\n",
      "Predicted SMILES: =C(NCCc1ccccc(c1)OCO2)N1CCNCC(CCC2)C1################################################################\n",
      "Predicted SMILES: Cc(=O)C11ccc2Cc2ccccCl)cc2)l)n1Cc1ccccCl)cc1#########################################################\n",
      "Predicted SMILES: C(C1cccCC2ccc(c2)ccc1CCCCCCc1ccc(cC(CCC=O)NC2=O)cc###################################################\n",
      "Predicted SMILES: C(Cc1nc(ccccCC(=O)CCC3(=O)cccC3ccccCC)C)=O)O)C(CO)O)cc3)cc2\n",
      "Predicted SMILES: C1ccc(CC(=O)CcC)CCCCCNC2)(N)cc1######################################################################\n",
      "Predicted SMILES: Cc(=O)C1ccNCnc2C(=O)NcCCCCC2)c1C#####################################################################\n",
      "Predicted SMILES: Cc1ccc(C(CC(=O)NCC(CC2ccc(c2)cc1#C###################################################################\n",
      "Predicted SMILES: C(CCC(C(=O)C2cnH]cnc3C(=O)NCC(2(=O)cCcC)(C)C)CC1#####################################################\n",
      "Predicted SMILES: C1ccc((c1(C(CC)CN3C)C)C(=)=Nc3C3ccccc3)ccC)cc12######################################################\n",
      "Predicted SMILES: Cc1ccc(C(=O)NcC2ccccc(c2)OCO3)cc1#(=O)(=O)N1CCOC1####################################################\n",
      "Predicted SMILES: C1c(ccccc2c2ccCO)n(CCCC(CCC3CC4)ccc21################################################################\n",
      "Predicted SMILES: C(CO)NcCCC(1C2(=O)c2cc(Cc3ccccCl)cc3)l)c3Cc3ccccCl)cc3)ccC#C1########################################\n",
      "Predicted SMILES: Cc(=O)C1CC(=O)C1ccc(ccccc2c1)l)c(C)(C################################################################\n",
      "Predicted SMILES: C1ccc(c(N(=O)(=O)N3CCCCCCC)cccc2c1###################################################################\n",
      "Predicted SMILES: C(=O)c1cccCCCC(O)C(CO)O2)c(=O)[nH]c1=O###############################################################\n",
      "Predicted SMILES: C(C(=O)C1(Cc=O)NCCCCC1C(=O)NC1ccc(C)Nc2ccccCC(=O)cCCC3C3C(=O)C3CC(=O)CC(3C3ccccc3)cc2)cc1#C1ccccc1###\n",
      "Predicted SMILES: C(CCCC3C(CCC4C5(O)CCC43C)C1CCCO)C1(O#################################################################\n",
      "Predicted SMILES: C(C1ccc(c1C(=)CNCC(N=O)N2ccccc2C1=O##################################################################\n",
      "Predicted SMILES: C1ccC(=O)NcCCCCCCO2Ccc2ccnc(N)3ccc(c3)CCC)C)c12######################################################\n",
      "Predicted SMILES: Cc(NNC(=O)C1CcN1c(ccccc2c2ccc(C)c2=O)c21#############################################################\n",
      "Predicted SMILES: Cc1ccc(CC(=O)NC(=O)c2ccc(C)=)(C)C)cc2)cc1#C(=O)c1ccc(c1#l############################################\n",
      "Predicted SMILES: C((CC)C(=O)(=O)c1ccc(c(c1)C(CC(=O)NcCCN1CCO(C3ccccCC)cc3)CC1)CC=O)CC2################################\n",
      "Predicted SMILES: Cc(=O)C1CC(C)NCC(C(C=O)O)C(=O)C11c1ccc(c(c1)OCO2#####################################################\n",
      "Predicted SMILES: C(CC(2(3(Cc=O)c3Cc(C)C)CCC3cccccCC4ccccc4)cc)CC21####################################################\n",
      "Predicted SMILES: C(CO)NcCCC2cc\n",
      "Predicted SMILES: =C(CCCCccCCCCC3ccccCl)cc3)CC2)C(=O)N2ccccc21#########################################################\n",
      "Predicted SMILES: Cc(1ccc((C(CCC=O)CCC3ccc(C)4ccC)noc4C)c3)CC=O)C2CCC2)c1##############################################\n",
      "Predicted SMILES: =1ncc(CCC2ccccc2)n1Cc1ccccc1#########################################################################\n",
      "Predicted SMILES: rc1ccc((CNCNNCc3cc4cccccccc5\n",
      "Predicted SMILES: =C(NcCCCCcc1ccOc2ccccc2)nc2cccC=)cCCCC)CCC2##########################################################\n",
      "Predicted SMILES: C(CCN(C(=O)(=O)c2ccc(C(C(c3ccc(Cl)cc3)cc2)CC1########################################################\n",
      "Predicted SMILES: Cc=O)(=O)N11ccc(CCCCN(C(=O)c3c3cccccnH]cccC(N5c4c3)CC2)cc1###########################################\n",
      "Predicted SMILES: =C(NC1CC=O)C(=Cc2ccccc2)SC1=S)NCCCCC(=O)(=O)C1#######################################################\n",
      "Predicted SMILES: C(1cc(ccccCC3ccccc3)cc=O)ncc1CCCCC2cccCc3ccccc3-c3nn[[nH]3)ccc21#####################################\n",
      "Predicted SMILES: Cc(=O)C1CC)CC=C(=)=O)CC22(C)C3CCCOO)C4CCCC)C)CC=C(C)C)CCCCCC)CCCC1C##################################\n",
      "Predicted SMILES: C((1nc(cccC(=O)N)Cccc2n(=O)n1CcC#####################################################################\n",
      "Predicted SMILES: C((=O)C1CC(=O)C1ccccCc2cccccCl3(=O)C3cccc3C)c2)c1)C(CCCCC1###########################################\n",
      "Predicted SMILES: =C(C2ccccc2C(=O)N1CCCCC1CCNCc2Cc2ccccc2)C2ccccc2)CC1#################################################\n",
      "Predicted SMILES: C(CO)N1ccc(c(c1c3CO)n2CCc1###########################################################################\n",
      "Predicted SMILES: C(C(CCN(C2ccc(C(=)=O)cc2)CC1#########################################################################\n",
      "Predicted SMILES: C1ccc((CCCC(CCCC(CC3Cc1##############################################################################\n",
      "Predicted SMILES: Cc1cc((Cc2ccc(cc(NCncCc4ccc(c4)cc=O)ccccccc1CC(CO)(=O)c1ccc(C)N)cc1##################################\n",
      "Predicted SMILES: C(1ccc(CC(=O)CcCCC(C3ccccCC4cccC)ncc4)nc3)CC2)cc1####################################################\n",
      "Predicted SMILES: C(1c(CCC(=O)Nc=Cc2ccccc2)C))=O)NCnnc1-c1ccccClC)(C)C)cc1#############################################\n",
      "Predicted SMILES: CCCN1C(=O)C(=)=C(C=O)N2ccC)nnnH]c2C)C2cccCr)ccc21####################################################\n",
      "Predicted SMILES: Cc1ccc(C(CCC(c(NCOc3ccc(OC)c(OC)c3)C)C2=O)ccOC)c1#C##################################################\n",
      "Predicted SMILES: C(CCCCNCC(=O)NC1ccc(CCC2ccccc2)cc1###################################################################\n",
      "Predicted SMILES: Cc1ccc(CCCC=O)CCC()C(C)N)C2ccccc2)cc1################################################################\n",
      "Predicted SMILES: =C(NC1CCC(c2ccc(-c3ccccc3)o3ccccc23)CC1)Nc1cccccCl)c1################################################\n",
      "Predicted SMILES: C1cccCc2cccCC(=O)c3ccccClccCC4cccNc5ccccc5)n\n",
      "Predicted SMILES: C1cccC)CCCC(=Sc3ccccc3)C((=O)ccC)n1Cc1cccCl=O)O)cccC)CO)O)c1#########################################\n",
      "Predicted SMILES: Cc1ccc(CC(=O)CS2(=O)C22ccccCC)c(OC)c2)cc1############################################################\n",
      "Predicted SMILES: =C(Nc)c1ccnH]c2ccccc12###############################################################################\n",
      "Predicted SMILES: Cc1ccc(Cc2cccCCC)=O)c(=Cc3C=Cc2cccccCl)c2)cc1########################################################\n",
      "Predicted SMILES: Cc1ccc(C(N=O)N2cccOC)C)CO)ccOC)C)=O)ccON+](=O)[O-])c2)cc1############################################\n",
      "Predicted SMILES: CCCC(C2C(C)(C))(=)=O)CCOC(C)=O)CCC3(C)C1CC=C(C(=O)OC(1O#(C)=O########################################\n",
      "Predicted SMILES: C((CC)CCCN=O)N(Cc1ccc(O()cc1#########################################################################\n",
      "Predicted SMILES: C1cc(Cc2ccccCl)cc2)nc1C(N+]([)CCC=O)NCC1ccccc(c1)OCO2################################################\n",
      "Predicted SMILES: C(C1ccc(c(cO)c(Cc3ccc(OCcc3)c(c2c1###################################################################\n",
      "Predicted SMILES: Cc1ccc(c1C1(=O)(=O)c1ccc((N(=O)NcCCCC3C)C)CCCCC2)c1##################################################\n",
      "Predicted SMILES: =1ccc(Cc2cc3-c3ccccC4Cc4ccccc4)C4ccccc4)cc3)no2)cc1##################################################\n",
      "Predicted SMILES: =C1cc2ccccc2c(1Cc1ccc(NC=Cc2ccnH]c3ccccc23)n1########################################################\n",
      "Predicted SMILES: CCCN=OCN1C1(C)CCCCCC=C(CO)CCCc2ccccOCc(2)C(O)C(OC(COC(OC(CO)CCCC)C)C(C2)C(OC(CC3O##C)=O##############\n",
      "Predicted SMILES: C((1nc(N)c2(CO)n1Cc1ccc(CC)cc1#######################################################################\n",
      "Predicted SMILES: C1ncc(C(=O)(=O)N22ccc((cccnH]c(3)cc1#################################################################\n",
      "Predicted SMILES: C1cc(CC(=O)C22CC=O)CCC2C)C)C)cc1Cc1ccccC2cc1#########################################################\n",
      "Predicted SMILES: C1cccCc2c((c2Ccccc((C(cC(3ccccc3)ncc1################################################################\n",
      "Predicted SMILES: C(CC1ccc(C(=O)(=O)N2CC2ccCc3ccccCC)cc3)nnH]c3ccccc23)cc1#############################################\n",
      "Predicted SMILES: =C(Nc=(=O)Nc(1ccccCl)cc1)c1ccccCr)c1#################################################################\n",
      "Predicted SMILES: =C1cnH]c(cccCN+](=O)[O-])ccCC=Cc3ccccOl)cc3)l)ccCN+](=O)[O-])cc[nH]c#################################\n",
      "Predicted SMILES: C(CO)NC1CCOC(C)=O)C2(3C)(C)C(C32CC)C2CC3cc((3C1C)(12#################################################\n",
      "Predicted SMILES: C(C(=O)C1cc(C)c(c(cc(cCC)ccOC)4ccccc4)cccnc-n1C######################################################\n",
      "Predicted SMILES: Cc=O)(=O)N1CCO)C1CCC2ccCc3ccccc3)ccCl3cccccccccc34)cccOO)n21#########################################\n",
      "Predicted SMILES: C(CO)Nc1cccC(=O)Nc2cccC)=O)NC3cccC)CO)NCCCN4C)C)coC)cc)ccC)c2)ccC)n1#################################\n",
      "Predicted SMILES: =C(Nc)c1=c1(=O)(=O)c1ccccC)C2ccccc2)cc1)N1CCCCC######################################################\n",
      "Predicted SMILES: Cc1cccC(CNNC(C))3ccccCc4ccc[4Cc4cccCC)c(OC)c(OC)c4)cc3))CC)cccOC)c1OC################################\n",
      "Predicted SMILES: Cc1ccc(CCCCN((CC3ccnH]c4ccccc34)CC2)cc1##############################################################\n",
      "Predicted SMILES: C(CCCCCC(CO)(OC(CO)C(O)C(O)C(OCCO)C(O2ccc(=O)[nH]c2=O)O1#############################################\n",
      "Predicted SMILES: C(CC(CCC(CC3O4cccc(cc4C(C3ccc(O)cc4)CCC(=O)OCC55)OC3C)C(O)C(O)C1O1###################################\n",
      "Predicted SMILES: C(((=O)C1cccc(ccCc3cccccCc4ccccc4)c3)ncCCC=)))N(C(=)(=O)=O)CC########################################\n",
      "Predicted SMILES: C((CCNC)=O)NCC2ccccCl)cc2)l)C(C(C1=O#################################################################\n",
      "Predicted SMILES: C(1cc(CC(2ccccCc3ccccc3-c3nn[nH]n3)cc2)n2ccnC)nccc2n1################################################\n",
      "Predicted SMILES: =C(NC1CC2ccccc2CC1c2cccc2)N1)N1CCC(cc2ccccc(c2)OCO3)CC1##############################################\n",
      "Predicted SMILES: C1ccc(Cc2ccc(c(c2)CC=2ccccCl)cc2)NNN(C)C=O)N)C2ccc(C)c2C3)c1C########################################\n",
      "Predicted SMILES: C((CC=O)C(c21C(=)C1ccccCC(=O)C2c(cc1#################################################################\n",
      "Predicted SMILES: Cc=O)(=O)N1ccc((NC2ccc(cCc3ccCl=)=O)ccc4ccccc34)cc)c1################################################\n",
      "Predicted SMILES: C(CO)N1ccc(NCCC=O)CS2(=O)c2cccc2)C(C)=O)NC2CCCCC)c2ccccc2)cc1########################################\n",
      "Predicted SMILES: C1c(c2c((cc(c(Nc4ccc((Cr)c4)ccccc1###################################################################\n",
      "Predicted SMILES: Cc(NCC(CC)C1cccC(nc(c1Cc3ccccCC)cc3)C)ccC)nn12#######################################################\n",
      "Predicted SMILES: C(CCC=O)Nc1ccc(CC=O)(=O)N2C)C)2ccccc2)\n",
      "Predicted SMILES: Cc1ccc(c(c1)CCcC1C1ccccc1)CNC1ccccc1-2###############################################################\n",
      "Predicted SMILES: Cc1ccc(C(=O)(=O)N2CC3ccccc3C22C(=O)NCCC)C(=O)O)C(=O)O)cc1#C##########################################\n",
      "Predicted SMILES: Cc1ccc(cC(CC(=O)NCC(=O)NcC2cccc2)cc##################################################################\n",
      "Predicted SMILES: C(C1ccc(CC2ncC(=O)(=O)N3ccc(C))cc3)ncn3ccccCC)Ccc23)cc1##############################################\n",
      "Predicted SMILES: Cc(=O)C1ccc(N(=C(=O)CCc2ccccc2)C(C)COC(=)C)=O)OCCC))C(2ccccc2)cc1####################################\n",
      "Predicted SMILES: =C1cc(2ccccc2n1CCCC1CCN(c2cccccCl)c2)CC1#############################################################\n",
      "Predicted SMILES: C1ccc(C(=O)(=O)N2CCCCCCO)NC(CCCO)N(C5ccccc5)C(=O)C444CCC32cccccC))c2CCc1#############################\n",
      "Predicted SMILES: C(C)CCCCN(C(CCC(C(c(CCCc4ccccCl)cc4)C4cccCl)ccc43)CC2)CC#O###########################################\n",
      "Predicted SMILES: =C(N)CCCCCCCC1cccOc2ccccc2)ncccccc2n1################################################################\n",
      "Predicted SMILES: C(C)CC)cCC(N)c1C1ccCl=O)N)nnH]c2cccCl)ccc12)c1C)O)C11ccccC)2ccccc2)cc1###############################\n",
      "Predicted SMILES: CC(NC)C(C)C(O)C(OOONC################################################################################\n",
      "Predicted SMILES: Cc1cccC(N(=O)NCC(=O)Nc2cc3c2C)=)=O)cccOC)c1OC########################################################\n",
      "Predicted SMILES: C1cccC)cc(NC2ccC(CCCCC(C)ccClnnH]c3=O)n3C)c1#########################################################\n",
      "Predicted SMILES: C1ccc((1C(c(=O)C1cccCN+](=O)[O-])ccc1N1CCNCC1########################################################\n",
      "Predicted SMILES: =C(CC((CCCc2CCCC3cccCC4cccccC)c4)nc3CC2N1C###########################################################\n",
      "Predicted SMILES: C(1nc(N)c(C(=O)NCCc2ccc(cCN+](=O)[O-])c2)\n",
      "Predicted SMILES: =C(N)C1ccc-N+](=O)[O-])ccc1NC(CC1ccccc1##############################################################\n",
      "Predicted SMILES: =C(NC1CC=O)C2ccccc2C1=O)Nc=CC=O)C(C1=1ccccCl)cc1#l###################################################\n",
      "Predicted SMILES: CCCCr)C(=O)Nc1ccc((C(CC(=O)Nc2cccCC)c(OC)c(OC)c2)c1##################################################\n",
      "Predicted SMILES: C(C)1ccccc1)Nc1ccc(c(c1)Cccc((C)ccn2n+]2[O-]#########################################################\n",
      "Predicted SMILES: C1ccc(N(2(=O)C2ccc(CC(=O)ccCC4ccccc4C3)cc2)\n",
      "Predicted SMILES: CCCNC1ccc(cC(CCC(=O)N3cccc3)=C(O)C(=O)N2CcCC)c1######################################################\n",
      "Predicted SMILES: C(=O)c1CCCCC(2ccccc2)CC=O)N(C2ccccc2)C2ccccc21#######################################################\n",
      "Predicted SMILES: 1ccc(CNc=C2C3ccccc3CCC2C2ccnc2)cc1###################################################################\n",
      "Predicted SMILES: C(C)=O)CC11cccccCl2(C)(=O)=O)c1)c1C(1CCCCC)CC)c1ccccc1###############################################\n",
      "Predicted SMILES: C(=O)(=O)c1ccc(N(2ccnH]c3ccccCr)cc23)cc1#############################################################\n",
      "Predicted SMILES: C(C(=O)C1CCc1ccc(c1)lN(=O)NCC########################################################################\n",
      "Predicted SMILES: C(CC=O)C2cccCc3ccccc3)ccc2N1CCCN=O)N(2=O#############################################################\n",
      "Predicted SMILES: =C(Nc1cc(cc\n",
      "Predicted SMILES: C(C)CCNC(=O)C1C)C(1cccCl=)(C)C)cn1)C(=O)NC(Cc1ccccc1)C((=)C(Cc1ccccc1)NC(=O)CCc1ccccc1###############\n",
      "Predicted SMILES: C((=O)Cc(CC(=O)C(CC(n2cncC)c(=O)[nH]c2=O)CC1O########################################################\n",
      "Predicted SMILES: CC(N)NCCCC(NC(=O)C(Cc(NN)NC(=O)C(C(=O)C(CCCCCCCCC(=O)N)NC(=O)C(Cc)NC(=O)C(CcCNN)NC(=O################\n",
      "Predicted SMILES: C(CCOc1ccc(C(=O)(=O)N2CCCC=O)(=O)CC22))=O)NC)cc1#####################################################\n",
      "Predicted SMILES: C(CO)N1ccc(NCCCN(C3cc(ccccc4\n",
      "Predicted SMILES: C((CC)CCC=O)Nc1ccc(c(c1)CC(=O)N((C(CCC(CCCC(CCCC(C(=)=O)C(=O)C(CCC)C)C3C(C)C(C2######################\n",
      "Predicted SMILES: C1cc((C()c(C(=O)NcCCC(11#############################################################################\n",
      "Predicted SMILES: =C11ccc((1C##########################################################################################\n",
      "Predicted SMILES: C(((CCC2C(CC)C2ccc(CCCC=O)CC4cccCC)ccOC)C)C))cc4c3=3ccccCl)cc3Ccc2)CC1###############################\n",
      "Predicted SMILES: C(C)CCCC1c(O)cc(2c1CC1cOC1ccc(O)c(O)c1)C(=O##########################################################\n",
      "Predicted SMILES: Cc(=O)C1CC(C)=O)OCCC(C(C(C3ccccc3C((CCCC)=O)OC)C(C(=O)C2cccc2)CCCC1##################################\n",
      "Predicted SMILES: C(CC)CC((=O)C2cc(-(CCCN3C(=O)c4CC4)CC)cnH]c2C1#######################################################\n",
      "Predicted SMILES: =CN+]([O-])c1cccClc2nccn2Cc2ccccCl)ccCl)c2)cccCN+](=O)[O-])c1########################################\n",
      "Predicted SMILES: C1ccc(C(=O)(=O)NC2ccc(Cc3cc4ccccc4[(=O)n3Cc3cc4ccccc4[3)cc2)cc1######################################\n",
      "Predicted SMILES: CCCC(COC(OC(CO)C(O)C(O)C2O)C(((C)C(CO)CC(C1((COCCCO)CCC2#############################################\n",
      "Predicted SMILES: C1cccC)=O)N2ccC)nc3ccCCC(C)2ccccc2)C3)cccc1ccc12#####################################################\n",
      "Predicted SMILES: C(1ccc(CC(=O)CS2C2ccccc2)C(=O)(=O)c2C)C)cc1##########################################################\n",
      "Predicted SMILES: C1cccC))ccccnH]c(c(cc2)CCCCCC)C)CC3##################################################################\n",
      "Predicted SMILES: C((CCNC1C2c(Cc3cccccClCC(=O)Oc)cc)nc3Nc3ccccc3)nccCC1################################################\n",
      "Predicted SMILES: C(C)CCN1c(CO)[nH]c2ccccc2c1=O########################################################################\n",
      "Predicted SMILES: C(CC)CC(CCOO)NC3C)C(=O)CCC3(=O)CCCC3ccccc3)C((O)3ccccc3)N(OO)N)C2CC##################################\n",
      "Predicted SMILES: C(CC(CC=O)C(=Ccc2cccCN+](=O)[O-])ccc2OC)C(=O)NCC))C))C1=O############################################\n",
      "Predicted SMILES: C(CO)N1cccc(cO)n3ccc)=O)O)ccC)ccC)cc3oc3c(O)C)(O)c(Oc1ccc(cccO)ccO)ccO(=O)O)ccc1=O###################\n",
      "Predicted SMILES: C(CC(=O)C1c(=O)c1CCCC(C)CCC3CO)N(2)c(CCC3CC(CC(C3)C1)C2##############################################\n",
      "Predicted SMILES: =C(C2cccnH]ccC(Cc2ccccc2)C(CCCCN22###################################################################\n",
      "Predicted SMILES: C(C)CCNN1c((C(CC(c3cccC)c4ccccc34)C(=O)NC2=O)c2ccccc21###############################################\n",
      "Predicted SMILES: C(C(=O)C1cccC(CNC2nc(ccccc3\n",
      "Predicted SMILES: Cc(=O)C1ccc(N(c2nc(N)c3ccn)ccC)nc3n2)cc1#############################################################\n",
      "Predicted SMILES: Cc1ccc(C(CNN3c(Ccc3-c3cccc3)CC2)cc1##################################################################\n",
      "Predicted SMILES: C(1ccc(c(c1)Cc(-C1cc-O)[(C)CC3)n3=O)n3ccccc31)n2CCCNC################################################\n",
      "Predicted SMILES: Cc1ccc(C(c(=O)C2CC(C)NC(=O)NC2=2ccccOC)cc2)cc1#######################################################\n",
      "Predicted SMILES: Cc1ccc(C(=O)NcCC)C(O)Nc2ccccC(=)(=O)=O)cc2)c(C))(C))Cl)cc1###########################################\n",
      "Predicted SMILES: C(=O)(=O)c1ccc(NCCC2cccCc3ccccc3)nc2)C(2cccCc3ccccc3)nc2)n1##########################################\n",
      "Predicted SMILES: C(CC1cc(ccccC(=O)N)Ccc2n1CC1ccc(-c2ccccc2-c2nn[nH]n2)cc1#############################################\n",
      "Predicted SMILES: Cc1cc(c2Nc(=O)(=O)c2ccc(CC(3ccc(cc(N)nnH]c(=O)c4c3)cc2)c1CC##########################################\n",
      "Predicted SMILES: =C(N)CCc1ccc(cC(N2cc3-c3ccccc3)n\n",
      "Predicted SMILES: C(C1ccC(=O)NCC)c(C)=O)OCC)c(ccC)CCCCC3)cc(C)CCOCC3)nc22##############################################\n",
      "Predicted SMILES: C(C)CC)c1ccc(cc(CCCCN(C4ccccn4Cl)CC3)nc2c1###########################################################\n",
      "Predicted SMILES: C(C)=O)N)C(CN+](=O)[O-])N1ccccCl=O)N2cccc2)cc1#######################################################\n",
      "Predicted SMILES: =C(CCc2ccc(C(=O)NCc(=O)c3ccccCN+](=O)[O-])cc3)l)cc211################################################\n",
      "Predicted SMILES: C(=O)c1Cc1ccccc1)NC(=O)(=O)(=O)c1ccccCl)cc1)NCCCCC2ccccc2)CCc2ccccCl)cc2)CC1#########################\n",
      "Predicted SMILES: CCCN=)(C)C1cnH]c(ccc(C((C)CNC)CC)C))cc2c1C(CCC(=O)N(CC(C1=O##########################################\n",
      "Predicted SMILES: CCCN11nc(c(c(ccCCccc(ccc3c2cnH]1CCCCC################################################################\n",
      "Predicted SMILES: C(1ccc(ccnH]c(c(cc2)CCCCCC)C)CC3#####################################################################\n",
      "Predicted SMILES: Cc1ccc(c(c1n2C(=O)(=O)c2ccc(cC(=O)Nc3ccccC))cc3)l=O)O)cc)cc##########################################\n",
      "Predicted SMILES: C(C(=O)C1CCcC1cccCr)ccOC)c(Or)c1)N1ccccOC)cc1########################################################\n",
      "Predicted SMILES: C(=O)c1Cc1ccccO)cc1)NC(=O)C(CCCNN1C(OCCCC(O2ccccCr)cc2)NC1=O#########################################\n",
      "Predicted SMILES: C(CCCC=O)NC2cccC)3CCCCC3)ccC)nc2CCCCCC1##############################################################\n",
      "Predicted SMILES: C(C)CC)C1CCC2C)(C)CCC3(C)C(CCC2C4CC)CCC(OO)C(C)(C)C4CCC23C)C1########################################\n",
      "Predicted SMILES: C1ccc(cc((Cc2ccc((CC(=O)CCC)N)cc)nc22################################################################\n",
      "Predicted SMILES: =C(Nc1ccc(ClNCCCCC(=)C3ccccc3)CC)cc1)c1CCC2cccc2N####################################################\n",
      "Predicted SMILES: C1ccc((C(2ccc(cc(NCnc(N)c3c2)c1######################################################################\n",
      "Predicted SMILES: Cc(NCC)CCCOO)N(C3C(C(21##############################################################################\n",
      "Predicted SMILES: Cc1ccc(C(=O)NCC=O)N2ccc(OC)c(2)C)ccOC)c1#############################################################\n",
      "Predicted SMILES: C(1cccCc2ccc(c2)cccC((cn+]1CCC=O)N#C1ccccC(=)(=O)=O)cc1##############################################\n",
      "Predicted SMILES: C1cccC)ccn(NCC(=O)Nc3cccccC(=)(=O)=O)cc)ncccc1#######################################################\n",
      "Predicted SMILES: Cc1cccc(c(=O)NCCC3C)C)cccc(c(cc(cc4c(cccccccOC)OCO5##################################################\n",
      "Predicted SMILES: =C(N)C1ccc(CC(=O)C2ccc(c2))c2ccccc2)cc1##############################################################\n",
      "Predicted SMILES: Cc(NC1ncc(Cc2ccc(S)c3c2ccc23)cc1#N+](=O)[O-]#########################################################\n",
      "Predicted SMILES: Cc1ccc(Cc2c(C)c((C(NNC3ncc(C)\n",
      "Predicted SMILES: C1cccC)2CCC(C3ccCl)cccccnH]ccCc5cccccCl(CCOCC6)cc)cc34)CCC)co1#######################################\n",
      "Predicted SMILES: Cc(=O)C1ccc(N(C(2cc((cc(N)nnH]c(=O)n3c2Ccc1##########################################################\n",
      "Predicted SMILES: C(CO)N1c((C(CNC(=O)c2ccccc2)Cc2ccccc21###############################################################\n",
      "Predicted SMILES: C(CCC2c(Cc3NCC(3C)C)c3C(N)C1#########################################################################\n",
      "Predicted SMILES: C1ccc(C(c(N(c(=O)C2cccCN+](=O)[O-])ccc2C2CCOCC2)c1###################################################\n",
      "Predicted SMILES: C1ccc(Cc2cccCr)cc(2CCC2ccccc2)ccCc1ccc(C(=)(=O)=O)cc1################################################\n",
      "Predicted SMILES: C(C(=O)C1cccCc2ccc(c2)ncCc2ccccCl=)(OC(=O)O))cc2)n1C#=O)O1ccccc1#####################################\n",
      "Predicted SMILES: Cn+]((C)CC=O)NC2ccccc(c2)CC=O)N2cccOC(=O)cCCN+]((C)CCCCC4C4Cccc2Cc)cCCC11############################\n",
      "Predicted SMILES: C(CCCCCC1c(=c2ccccOl)cc2)ncc1CC######################################################################\n",
      "Predicted SMILES: C1ccc(Cc2cccc2SCC(=O)NcCCCCO)N(3ccccc32)cc1##########################################################\n",
      "Predicted SMILES: CCCC)CC1C)C1CCC2C)CCC(CC4CCCCC)C(C3(C)C2CO)CC)C)CCCC#C3C)(C##########################################\n",
      "Predicted SMILES: Cc(=)(C)C(=)C1CCCC)(2CC)C3CC)C(CCC2C4CC)CCC(OC(C)=O)C(C)(C)C4CCCO)(OC(CO)(=)=O)C(O)C(O)C4O)CCCC)CC###\n",
      "Predicted SMILES: C1cc(Cc2ccC(cc(2C(c2C(N)c1C(N########################################################################\n",
      "Predicted SMILES: C1ccC(=O)Nc=Cc2ccccc(c2)OCOO3)cn(-c2ccccCl)ccCl)c2)c1Cc1ccccCl)cc1###################################\n",
      "Predicted SMILES: C(CCCCC2((C)(C)C3cccc3)CCC)CCCC(=)(C)CC3C12##########################################################\n",
      "Predicted SMILES: C(C(C2ccccc2C(=O)N(CCC=O)NCC2cccCl3ccnH]c4ccccc34)ccc21##############################################\n",
      "Predicted SMILES: C(CC)CC=CCC22(C)C3CCCC)CC4CO)C(CCCCCCC###############################################################\n",
      "Predicted SMILES: =C(N1ccccCl22ccCCCCOCC)ccCO)c3=O)cc1)N1CCC(c2ccccc2)CC1##############################################\n",
      "Predicted SMILES: C1cccC)cc(NC(=O)CcCCC(C(3CCCCC3)CC2)c1###############################################################\n",
      "Predicted SMILES: C((CC)CC1cccC2(CcC)C)c2ccccCc3cccccClc3)cc12#########################################################\n",
      "Predicted SMILES: C1ccc(C)c1C(c(=O)C1c1ccc(Cc2ccccc2)cc1###############################################################\n",
      "Predicted SMILES: Cc1ccc(cC(CC(=O)Nc2ccc(cc(c(Nc4ccc(cCl)c4)c3c2)c1####################################################\n",
      "Predicted SMILES: C(CC1cccc1SC(1ccccCCCCNCC)cc1########################################################################\n",
      "Predicted SMILES: =C(N)CCCNC1ccccc1)N(=O)NC(CCCC3CC(CC(C3)C1)C2########################################################\n",
      "Predicted SMILES: Cc1cccCC)ccC(CCC(N)=C(N)Oc3cccc=)nn3C)ccCC)c1########################################################\n",
      "Predicted SMILES: Cc1ccc(Cc2cc(Cc3ccccCc4ccccc4)cc3)ccnH]2Cc2ccccCl)cc2)cc1############################################\n",
      "Predicted SMILES: =C(Nc1ccc(-CC2ccccCl)cc2)l)\n",
      "Predicted SMILES: Cc1ccc(Cc2cc(C(=O)NCCCCCC3)cc3N)n2C#2cc1#############################################################\n",
      "Predicted SMILES: C1cccCO)oc2cc(CC3ccc(CC(=O)C4ccccc4)cc3)ccc12########################################################\n",
      "Predicted SMILES: C1cccCC(=O)(=O)c2ccc(CN+](=O)[O-])cc2)ccnH]1#########################################################\n",
      "Predicted SMILES: C(CCCCCCCCCCCCCCC(CO)COO)COO)COC#####################################################################\n",
      "Predicted SMILES: Cn+]1cc(CCCC(CO)(=O)(OO-])OCC(O)C2O)c(ncn-)C3ccccc3)nnH]c(=O)c21#####################################\n",
      "Predicted SMILES: C(C)CC(=O)C1CCCNCNCCC4CCC(CC=O)CCC4(C)C3CCC12C#######################################################\n",
      "Predicted SMILES: Cc(=O)C1CNO)Nc1ccc((C(=O)NCCc2ccc(OCccOC)c2)c1#######################################################\n",
      "Predicted SMILES: =C(NCC1(=O)(=O)c1cccccccccc12)N1CCC(c2ccccc2)CC1#####################################################\n",
      "Predicted SMILES: C1cc(C)2CCCC(C(=O)c3ccccC)c3CO)c3)CC2)c\n",
      "Predicted SMILES: CCc1ccc(CCCCN(N3cc(\n",
      "Predicted SMILES: C(CC(=O)C1CCCCC1C(=O)C(Cc(CCCCC)N(CC)C(O)C1ccccc1####################################################\n",
      "Predicted SMILES: C1cc(ccccc2n(1C(=O)NCC(=O)N1ccC)n(C)c(=O)[nH]c1CO####################################################\n",
      "Predicted SMILES: =C(N1cccc1)N1Cc=O)C1cccc1)c1ccccc1###################################################################\n",
      "Predicted SMILES: C(1ccc(CC(=O)CS2C2ccccC))cc2)C(=O)(=O)c2cccc2))=O)N))cc1#############################################\n",
      "Predicted SMILES: C(C)CCNCC(2ccccc1O)c2CC##############################################################################\n",
      "Predicted SMILES: C(C)CNC=O)N)C(=)=N###################################################################################\n",
      "Predicted SMILES: C(CCOCc1CcOCC(CC==)C)NC(CC(CO)C(O)C(O)C1O############################################################\n",
      "Predicted SMILES: Cc1ccC(cc(c(c1O)C(CC(C(=O)CCc3C)C)CCN1C(C############################################################\n",
      "Predicted SMILES: =C(CC(cCc(2cccCc3cccc3)n3CO)[nH]c2=O)C(=)CC1c########################################################\n",
      "Predicted SMILES: C(1c(C)c2ncc(Cc3ccccc(c3)OCO4)nc)nc2cccC(=O)(=O)N3C)C)ccc21##########################################\n",
      "Predicted SMILES: Cc1cccc(cc1OC)C(=O)N(CCC((1C2C2######################################################################\n",
      "Predicted SMILES: C((CC)CCCC(=O)c1ccc(NC(=O)C2cccC(=O)(=O)N3CCOCC3)ccc2C2CCOCC2)cc1####################################\n",
      "Predicted SMILES: C1ccc(N(=O)NCC(=O)N2cccClnoC)c(C)cc1#################################################################\n",
      "Predicted SMILES: Cc1ccc(Cc2ccC(CCCCC3)c3ccccc(cc(CCNCO)N4444CCCC)C(=O)(=O)CCC)O)cc1###################################\n",
      "Predicted SMILES: C(C)CCCC11)C(=O)(=O)c1ccc(c(c1)C(CO)n(C(=O)N)c(2CC###################################################\n",
      "Predicted SMILES: C(C)CC(=O)N1ccc(cnH]c(-c3ccc(C((4ccccCc5cc6cccCl=O)N)CC)()ccc6[nH]5)cc4)cc3[nc2c1####################\n",
      "Predicted SMILES: C1cc((n(C)CC)C)nc(-c3cccC)cc3C)3ccccc3)nc12##########################################################\n",
      "Predicted SMILES: C(1ccc(cC(NCC(C=(=O)N)CC)c1##########################################################################\n",
      "Predicted SMILES: C(CC)=O)NO+])CN+]C([2C3cc(cC)CC)ccC=C(2C1c((C)C1#####################################################\n",
      "Predicted SMILES: Cc1ccc(Cc2ccnH]c3C(=)C3ccccc3)cc)cc1#################################################################\n",
      "Predicted SMILES: Cc(=O)C1ccc((1NC(=O)CSCCC(C(=O)c2ccc(CC)cc2)CC1######################################################\n",
      "Predicted SMILES: C(C1ccc(c1)C(=O)(=O)c1ccc(C()ccCl=O)NcC2cccc2)c1#####################################################\n",
      "Predicted SMILES: C(CO)NC1CCCOCC2(C)C3CCC3CCC)CO)CC2CCC1CO)C(CC########################################################\n",
      "Predicted SMILES: C(CO)Nc(COO)NcCCCC)c2ccccc2)CCCCCCC1#################################################################\n",
      "Predicted SMILES: C((=O)C1COOCCc1ccc(c1C(c1ccc(C()cc1Cl################################################################\n",
      "Predicted SMILES: C(C(=O)C1cC(=O)Nc1ccc(C(=O)(=O)N2CCCCC2)cc1##########################################################\n",
      "Predicted SMILES: CC(N)NCC1ccc(C()ccCl)c1##############################################################################\n",
      "Predicted SMILES: C1cc(ccCC3ccc(cCl)c3)ccn-3CCCCCC)CC3)nc2n1C1C)C######################################################\n",
      "Predicted SMILES: =C1OCCNN1C1nc(c2cnH]ccccccCCcc3c12###################################################################\n",
      "Predicted SMILES: =1ccc(c(c1)CCCC3cccO)ccOl)cc3CCN1C2##################################################################\n",
      "Predicted SMILES: =C(NCn+]1ccc(Cc2cccccccc3[c)cc)N1ccccCr)cc1##########################################################\n",
      "Predicted SMILES: C1cccCr)ccc1NC(=O)CSCc=O)(=O)c1ccc(cccnc12###########################################################\n",
      "Predicted SMILES: C((C1cc((Cc2cccc2)n1C=Cc1ccccOC)c(OCc1###############################################################\n",
      "Predicted SMILES: C1cccC)CCCNN2C(=O)C2ccc(cC)concccnc2#################################################################\n",
      "Predicted SMILES: C(1ccc(c(cCCC(NCCN(C4ccccClcc4)CC3)ccc12#############################################################\n",
      "Predicted SMILES: C(C)CCNCC(=O)CC(=Cc(CCc2ccccc2)C1=O##################################################################\n",
      "Predicted SMILES: C(C1ccc(C(CNCCCNCC22)cc1#C###########################################################################\n",
      "Predicted SMILES: CCc1CC(NCC2ccccc2)l)CC(=O)C(=C=)=O)=1c###############################################################\n",
      "Predicted SMILES: CCc1CC2ccccnCc3ccccccN3)CCCC4C(=O)N)cc)CCCCC1########################################################\n",
      "Predicted SMILES: CCCCC(=)=O)NCC(=)()C(=)CCC(=O)C(CCC=)C(=O)O##########################################################\n",
      "Predicted SMILES: C1ccc(-c2ccCl)cccc2Cl)c1CCC)C(=O)cc11ccccCCcCCCCC2)cc1###############################################\n",
      "Predicted SMILES: Cc1ccc(C(NCC(=O)C(CC22C)C)C)CC3(3ccccO)(CO)O)cc3)CC2CO)C2C)(C)C)NC2=O)C(C)CC)CC22=O)cc1##############\n",
      "Predicted SMILES: O-][n+]((C(CC2ccccClC3ccccCC(CNN+](CO-])C(C4Ccc3)ccc)CC(C############################################\n",
      "Predicted SMILES: C1cccC)ccCC(=O)CSC=)C=O)N)N2cccccccccc23)ccC)CO)OCCCCC(CC2CC)CC2)c1##################################\n",
      "Predicted SMILES: =C(N)C1ccccc(-c3ccccCl)cc3)nc(cnH]c##################################################################\n",
      "Predicted SMILES: C(C1ccc(CC2ccc(C()cc2CC(=O)CCCC(CCO2)cc1#############################################################\n",
      "Predicted SMILES: C((1nccc(cc1)C(C(C(=O)CC1ccccc(c1)OCC3)CC############################################################\n",
      "Predicted SMILES: C1ccc(cc(N)cc(c1C####################################################################################\n",
      "Predicted SMILES: 1ccc(Cc2cc3(CN3CCCC(CC3(C4)CC)nc2)cc1################################################################\n",
      "Predicted SMILES: C(CC(1cccccccCCCO2)C1ccccccc1Cr)OCOO2################################################################\n",
      "Predicted SMILES: C1nc2c(c1C(=O)N1C1ccccc1)CCCCC22#####################################################################\n",
      "Predicted SMILES: C1ccc(N(=O)Nc=CC=O)C(C2=2ccccC3C)C)cc2)cc1###########################################################\n",
      "Predicted SMILES: C1cc(C)c(C(=O)Nc=Cc2ccc(C3C)Cl)CCCl)cc2)\n",
      "Predicted SMILES: C(CCCCC=C1cc2C))c((CC2ccc(Cl=O)O3ccccCCcc3)cc2)n1)c(=O)OC############################################\n",
      "Predicted SMILES: =C1cc(-N2CCC(c(=O)(=O)c3ccccc3)CC2)cc2cccc12#########################################################\n",
      "Predicted SMILES: C((CC)CCC=)Cc(=O)C1c1ccc(CC)cc1######################################################################\n",
      "Predicted SMILES: Cc(CCC(CCCCCCOCC=O)C(C1C(CCC2(C)C(CC)CCC12###########################################################\n",
      "Predicted SMILES: =C(CCCcC2(CCCCC)CC(c2ccccc2)C1=CCN(Cc=1ccccc1)l)c1ccccc1)l)CC2#######################################\n",
      "Predicted SMILES: C1ccC)CCCCc2ncccc2)ccc2C(=O)NCCC)C)c1O###############################################################\n",
      "Predicted SMILES: C(C)CC)c1ccc(Cc2cc(ccNCCCO(C(5ccnH]c65)CC4)cccc3[nH]c)cc1############################################\n",
      "Predicted SMILES: =C(NC=)C1ccccc1)N1CCNCc2ccccC)cc2))CC1###############################################################\n",
      "Predicted SMILES: =C(N)CCCc(=O)NcCCC2ccccc2C1#(1CC=O)C2ccccc2C1=O######################################################\n",
      "Predicted SMILES: C1ccccccc2ccC)c1CCC(=O)NcCC)1ccccc1)C((=)C(Cc1ccccc1)NC(=O)CCcCCCCOCCC12#############################\n",
      "Predicted SMILES: =C(NCCc1ccccO)ccO)c1)NCCCCC(CC2ccccc2)CC1############################################################\n",
      "Predicted SMILES: Cc(=))(1ccccc1#######################################################################################\n",
      "Predicted SMILES: C1ccc(C(CCC#N)C(=O)NcC2cccc2)c1######################################################################\n",
      "Predicted SMILES: C(CO)NcCCCC(NC)CC(CO)C1C((=O)Nc1ccc(Cl=)()cc1########################################################\n",
      "Predicted SMILES: C(C((=O)C1ccc(Nc2cc3(Cc3ccccc3)l)n2C(C=O)NCC(N)N)CCC)cc1#############################################\n",
      "Predicted SMILES: C(CCONC(=O)N)c1cccCr)cccOC)c1#C#1ccccCl)cc1##########################################################\n",
      "Predicted SMILES: =C(NCCcCCCCCCC3ccccc3C2=O)N211)N11CCC1(=O)c1CcCCCCCCC3ccccc3C2=O)N2C1################################\n",
      "Predicted SMILES: =C(=O)(NC1ccccc1)N1CCC(2ccccc2C1#1ccnH]c2ccccc12#####################################################\n",
      "Predicted SMILES: C1ccC(2C)C)=O)c2Cc2cc(3ccc2CCCCCCC2(C(CC2)OCCO)N(Ccn2ccccc12#########################################\n",
      "Predicted SMILES: C(C)CCCC2ccccc2C(cO)N1CCC=O)NC1ccccc\n",
      "Predicted SMILES: Cc1ccc((Cc2ccc(c(c2)CCCCCC2C)=N2)CCCCCC)CCC)c1#######################################################\n",
      "Predicted SMILES: Cc1ccc(C(CC)CCN(C(CCC(C(=O)(=O)c4ccc(c4)l)CC3)CC2)cc1################################################\n",
      "Predicted SMILES: C(CO)NcCCC(2cc(C(=O)(=O)N3C)3ccccc3)CCC)C)ccc21######################################################\n",
      "Predicted SMILES: =C111nccc(cCc3ccccc3)ccc2nc1#########################################################################\n",
      "Predicted SMILES: C(CO)Nc(C1ccc(cc1ccCCCCCc3ccc(c(cccC(N5(=)=O)ccc3)cc12###############################################\n",
      "Predicted SMILES: C(C1ccc(CCCC=O)C((2=O)cc1############################################################################\n",
      "Predicted SMILES: C(CO)Nc(COO)Nc(CcC=)C)C(=O)NC(CCCCO)O)C(=O)NC(CCCC)C)C(=O)NC(CC1ccccc1)C(=O)N########################\n",
      "Predicted SMILES: Cc(=O)C1cccCC2cccccClc2)cc1##########################################################################\n",
      "Predicted SMILES: Cc1ccc(cnH]c(-c3ccc(CCCNNCCc4ccc(Cc5cc(cccCC)c(c6[nH]5)cc4)C)ccOC)c3ccc2cc###########################\n",
      "Predicted SMILES: 1ccc(c(((-CCCC3CCCCCN4ccnH]c54)CC3)cc2c1#############################################################\n",
      "Predicted SMILES: Cc(=O)C1CC)CCCC)C2C)C2O)(CO)CCCc2ccccOCccO)c2)C1#####################################################\n",
      "Predicted SMILES: =C(Nc1ccc(Cl)ccC(=O)(=O)N2CCCCC2)c1)c1cccccccc2[11=O#################################################\n",
      "Predicted SMILES: C((CC)CC=O)C1cc2NC(=O)cSC3ccccc3CC3ccccc32)ccC)=O)OCCC)C)c1C#########################################\n",
      "Predicted SMILES: =C1cnH]c(ccc)ccccOlC3CC3ccccCc4cccccCl5CC6ccccc6CC)cc)cc3Cccc1#######################################\n",
      "Predicted SMILES: C(CCCCCCCC(C)C(=O)NC#################################################################################\n",
      "Predicted SMILES: C(CCN(C(=O)(=O)c2CCCC(n3cnc4c(N)ncnc43)C(O)C2O)CC1###################################################\n",
      "Predicted SMILES: =1cc(N)cc2N)c1#######################################################################################\n",
      "Predicted SMILES: C1ccc(CC(C=O)Nc=Cc2ccc(O)CCO)c3cccc3)cc2)cc1#########################################################\n",
      "Predicted SMILES: C1ccc(CC(CCCC(C(=O)c3c3ncccc3)C2)cc1#################################################################\n",
      "Predicted SMILES: =CCNC(=Cc2ccc3ccNOCCCC4)nnH]c(-NC44ccccc4)4CCOCC4)nnH]ccc)C(O)=N1####################################\n",
      "Predicted SMILES: C(C1ccc(c1N##########################################################################################\n",
      "Predicted SMILES: C(C)CCCCC2CCCCC((CC2)CC=2ccccc2)C22CC(CCCCC3)CC1#####################################################\n",
      "Predicted SMILES: =C(Nc1ccc(-c2ccccCl)c2)\n",
      "Predicted SMILES: Cc(=O)C11ccc(NC(=)=NCC2ccccc2)cc1####################################################################\n",
      "Predicted SMILES: =C(Nc1ccc(c1)c1ccc((1NCCc1ccnH]c2ccccc12#############################################################\n",
      "Predicted SMILES: C(CO)NcCCC2cc(cCCC)=O)CCCc3ccccCl)cc3)CCCCC(C(4ccccc4)CC3Ccc21#######################################\n",
      "Predicted SMILES: =C1cnH]c(=O)n2cnH]c(-c3ccccc3)nc2\n",
      "Predicted SMILES: C(CO)Nc(CcCNC(=O)N)C(=O)NC(CC1ccccOl)cc1)C(=O)NCCC2ccccc2CC1C(=O)NCCC2ccccc2CC1C(=)=O################\n",
      "Predicted SMILES: =C((=O)NCCc2CCC(c3ccccc3)CC2)CC1Cc1ccccc1############################################################\n",
      "Predicted SMILES: Cc1ccc(c1C1(=O)Cc1cccc1CCCCC(C(=O)c2ccc(2)CC1########################################################\n",
      "Predicted SMILES: C1ccc(CC(=O)CS2C(N(C(CCCCC3)CCCO)C2)O)cc1############################################################\n",
      "Predicted SMILES: C(C)CC)1ccc(c1)()C(=O)NC#############################################################################\n",
      "Predicted SMILES: =C(Nc1ccc(cccccc12)c1ccc(CCCCC(C3ccccc3)CC)O)cc1#####################################################\n",
      "Predicted SMILES: C1ccc(C(=)=O)Nc2CCCCC)N2C)2ccccc2)C(=O)c2ccc(C)C)=O)c2C)c1###########################################\n",
      "Predicted SMILES: C(C)C1ccc(C(C2ccc(CCCO)NcCCCCCO3)n(C)=O)N)cc1########################################################\n",
      "Predicted SMILES: C(C(=O)C11C=(=O)cCcC)(C)C)C(=O)C1CCCNN1#(=O)NCcCcCNCC(N)N)C(=O)N(NO)NC((1ccccc1######################\n",
      "Predicted SMILES: C(C1ccc(Cc2cc(((CC(=)(=O)=O)cc)cc1#c1ccc(c(c)nc(N3nc2c1##############################################\n",
      "Predicted SMILES: CCCC(cCc2ccn32)C(CC2#ON1ccnn1########################################################################\n",
      "Predicted SMILES: C(CCCCCCC)=)CC)C)CCC2C)=2C2C#O#######################################################################\n",
      "Predicted SMILES: Cc1cccC(C2ccc(CCCCNCC3)ccCl=O)N)cc)cc(1OCC(=)=O######################################################\n",
      "Predicted SMILES: C1ccC(ncc(ccCCC3ccccClN)cc3)cc2nc1=O#################################################################\n",
      "Predicted SMILES: C(C)C=C(1ccc(CCCCNCC2)cc1############################################################################\n",
      "Predicted SMILES: C(CC(OC2C((3C2))(OC(CO)C(O)C(O)3=O3cccc3)C(OO)O)C(O)C(O)C(O)C1O######################################\n",
      "Predicted SMILES: C(C(=O)C1CC(C)C()2ccccc2)CCC(C)C))2ccccc2)N1cOcC)OCC)C1=1ccc(cON+](=O)[O-])c1########################\n",
      "Predicted SMILES: Cc1cccC(=O)Nc2cc(-)cc2)cc(1OCCCCCC1##################################################################\n",
      "Predicted SMILES: C1cccC)cc(NCC=C(c3=)CC)C)NC(cO)c1####################################################################\n",
      "Predicted SMILES: Cc1ccc(C(C(=O)C2CCCN(C3ncnccccc4\n",
      "Predicted SMILES: C1cccc1C(NNC(=O)Nc(1ccccc1###########################################################################\n",
      "Predicted SMILES: CC(N)NCCC=(C2ccccc2)C((1N((1ccccc1###################################################################\n",
      "Predicted SMILES: C(C)CCC(=O)CSCc(1ccccCl=)(C)C)cc1)c1C)(##############################################################\n",
      "Predicted SMILES: 1ccc(CCC2CC(c3ccccc3)=N2CcCCC4CC(CC(C4)C2)C3)cc1#####################################################\n",
      "Predicted SMILES: C1ccccCc2ccc((2CC(2ccccc2)lc1########################################################################\n",
      "Predicted SMILES: C(CCCCCC)=)CC)C)(OC(CO)C(O)C(O)C2O)C(1###############################################################\n",
      "Predicted SMILES: C1cccc(c1)C((C(CCCc1ccc(c1###########################################################################\n",
      "Predicted SMILES: =C(NC1(=O)c1CC2ccccc2CN)NCC1Nc#######################################################################\n",
      "Predicted SMILES: C1nc(c2c1n(-c1ccc(Cr)ccC)c1)cn2C1CC2ccccc2C1#########################################################\n",
      "Predicted SMILES: =CCcN2cCCCC)CCN(Cc2C2ccnH]c3ccccCc4ccnc4)cc23)CC1####################################################\n",
      "Predicted SMILES: C1ccC(=O)(=O)N22cccccnH]cccC(NCCCCC)(ccccccc2ccccCl)cc12#############################################\n",
      "Predicted SMILES: =1ccc(c(ccc2c1Cc1ccOC2ccccc2)n2c2ccccc12#############################################################\n",
      "Predicted SMILES: C1ccc((C(C22ccc(C)c2C(=O)(=O)N2CCCCC)=O)NCCCCCC33)CC2)c1#############################################\n",
      "Predicted SMILES: C1c((Cc2cc(N33CCC4c(Ccc4C4CC4)CC)cc2)cn1#############################################################\n",
      "Predicted SMILES: C1ccc(Cc2ccc(C(=)(=O)=O)cc2)cnH]n####################################################################\n",
      "Predicted SMILES: =C(NcCCc1ccccO)cc1)C(=O)N)c1ccccc1###################################################################\n",
      "Predicted SMILES: C(C)CCNNC((O)COc1ccCl=)(C)C)cccC(CC2ccc(c2)cc1O(=)(C)C###############################################\n",
      "Predicted SMILES: C1nc2c(c1Cc1cc3cccCl)ccc3[1)CCCC#####################################################################\n",
      "Predicted SMILES: Cc(NCCCN1C(=O)C2ccc(CC(=O)CCCC)C)ccC)c2)CC###########################################################\n",
      "Predicted SMILES: Cc1ccc(c(cc(c(ccc4n(cc(NCcc3cc#######################################################################\n",
      "Predicted SMILES: C(CC(=O)C(CC(=O)C(CCC(=O)C(CC(=O)C(Cc2ccnH]c3ccccc23)NC(=O###########################################\n",
      "Predicted SMILES: Cc(NCCCN(C2cccC(nccc(Nc4ccC)(NC)C5ccccOC)ccOl)c5)cccnH]c4cO)cnH]ccccCCCC#############################\n",
      "Predicted SMILES: C(C(=O)C1ccc(N(=O)(=O)N2CCC(C(=O)(=O)cCCCC2)cc1######################################################\n",
      "Predicted SMILES: Cc(=O)C1C)C(CCCCCCCCCC)C(C)CO)O(()C((CC5(C(COO)CC(C2cccc2)C4(C)CCC111(###############################\n",
      "Predicted SMILES: C(CCCC3C(CCC4CCC(=O)CCC43C)C1CCCCC1C1cc(((Cl)c1######################################################\n",
      "Predicted SMILES: CCc1CCC(=O)c22CC=O)CC3(CCC4ccccc43)CC)O)CCCCC1#######################################################\n",
      "Predicted SMILES: C1nc(NO)nc1##########################################################################################\n",
      "Predicted SMILES: C1cc(Cc2ccccc2)cccc(-r)c(Cr)ccc2=O###################################################################\n",
      "Predicted SMILES: C(C(=O)C1ccc(NC(=)(=O)cC2cccC)cc(C)c2)cc1############################################################\n",
      "Predicted SMILES: C1ccc((C(=O)NCC(=O)NcCCC(C(=O)c3cccc3)CC2)c1#########################################################\n",
      "Predicted SMILES: Cc1ccc(C(NC(=O)C2ccccccO)n(C)c(cccC))ccc4[([c)cc1#C##################################################\n",
      "Predicted SMILES: C1cccC)cc(NCC)N)C(2ccccc2)n1#########################################################################\n",
      "Predicted SMILES: CCCC(C2C)=))C)C)C2ccO)ccC)C)c(O)c(C)C)c(O)C((C)CCC3C)C)CC)C)CCC2#####################################\n",
      "Predicted SMILES: C(=O)(=O)c1ccc(N(NCC(2ccc3ccccc3c2=O)cc1#############################################################\n",
      "Predicted SMILES: C1cc((CN+](=O)[O-])n1CCC1c(nCc2ccccc2)nn1############################################################\n",
      "Predicted SMILES: C1cccC)ccCC(=O)C2cc3c2C(=O)(=O)N22cnc(C)c2C))ccC(=O)(=O)NCC)()cc#####################################\n",
      "Predicted SMILES: C(CCN(C2cc(Nc3ccccCl)ccCl)c3)cc3ccccc23)CC1##########################################################\n",
      "Predicted SMILES: CCC1ccc((CC2nccC)nc(ccc(CC(=O)cc4ccc(C5C))l)CCC4)cc4)cc23)c1#########################################\n",
      "Predicted SMILES: =C(NcCC)1ccc(c1)c1ccc-l=O)N2C2)2ccccc2)cccCN+](=O)[O-])c1############################################\n",
      "Predicted SMILES: C(CC)C(NC(=O)C1ccc(c1)C(=O)C1ccccCC)cc1)C(=O)NC(cN1ccnc1#############################################\n",
      "Predicted SMILES: CCCOc1cccC(CCCC(CCCC(3CCC3cccc(cc3C)OCO4)cc(1O#C#####################################################\n",
      "Predicted SMILES: C(C)CC=O)c1ccc((1NC1ncc(cnH]cc(-(=)CNC3C)(C)C)ccc1###################################################\n",
      "Predicted SMILES: C(1ccc(C(=O)(=O)N22ccc((2C(=)=C)C)cc1################################################################\n",
      "Predicted SMILES: C1cccC)cc(NCC(=O)NcC)2ccccClc2)C(CCC(=O)(=O)C2)c1####################################################\n",
      "Predicted SMILES: C(C(=O)C1CCCCCN+](C)(C)CCCCCCC=O)C2ccccc2C1=O########################################################\n",
      "Predicted SMILES: C(CCCCCCCCCCCCCCCCCC=C(C=O)OC(CCCCC=)C(=O)O)C(=O)NCC(=O)N############################################\n",
      "Predicted SMILES: C(CC)CCC=O)C2ccOcnH]c3Cc2ccccc2)C1###################################################################\n",
      "Predicted SMILES: CCCNCC)CCCOCC2(C)C3C)CC))C(OCC(OCC1((C)(C)CCCCOCCC2C#################################################\n",
      "Predicted SMILES: Cc1cccC(=O)NCCCNCC)3ccccc3)CC2)cc(1OCC(=)=O##########################################################\n",
      "Predicted SMILES: Cc(=O)C1ccc(Nc2cc(Cc3ccccc3)c(Cc3ccccc3)o2C)2cccC)(=O)Nc3cccC))ccc3Cl)nn2)cc1########################\n",
      "Predicted SMILES: C(CC(=O)C1Cc1ccccO)c2ccccc2)cc1)NC(=O)CCcC)(C)C#C(=O)NC(Cc1ccnH]cnccccc12)C(=O)NC(1ccccc1############\n",
      "Predicted SMILES: C1c(c2C(=O)(=O)N22ccc((C(3ccc(-)c4c3CCCC4)c2)cc######################################################\n",
      "Predicted SMILES: C(C)CC)c(=(=O)Nc1cc(\n",
      "Predicted SMILES: C(CC))C((1ncc((1CCCCO)CCC############################################################################\n",
      "Predicted SMILES: =C1cc2ccOr)ccB)ccc2c2O)c1Cr##########################################################################\n",
      "Predicted SMILES: Cc1ccc(C(C2nc(NCCCOCC)CC3)nc3ccCCc4ccccCC)cc4)ccnC4CCOCC)CC4)nc23)cc1################################\n",
      "Predicted SMILES: C(CC(=(CC)CC11=C)C1ccc(c1############################################################################\n",
      "Predicted SMILES: C(C((=1ccC))cccc1Cl)c1CC(CNC1ccC))cccc1Cl############################################################\n",
      "Predicted SMILES: C(CCCCCC1ccc(cC((CCC=CCC=)C(=O)OC(C=O)O)C(=)C(CCC=O)O)c1#############################################\n",
      "Predicted SMILES: C(CCO)NCC(=)cC=O)NCCN(CC)C###########################################################################\n",
      "Predicted SMILES: C1ncc(Nc2ccc(cc(N)CCOCC5CCCCC5)CC4)cc3c2)cc1#########################################################\n",
      "Predicted SMILES: C1ccc((cc(N(CcC=(=O)N(C)cnH]c12######################################################################\n",
      "Predicted SMILES: CCc1Nc(CCC2C2ccc3c(c(cnH]ccc4c32)CC1#################################################################\n",
      "Predicted SMILES: Cc1ccc(Cc2cc((C(N)cc2Nc2ccc(CC)cc2)cc1###############################################################\n",
      "Predicted SMILES: C1cccC))ccc1NCC(S)NcCCCCCC###########################################################################\n",
      "Predicted SMILES: Cc1ccc(c(c1)C(C1C1ccc(c1)C)N2#O######################################################################\n",
      "Predicted SMILES: Cc(CC(C(CCcC))Cl)C(CC)(2CCC4CCCCCCCCC((C)O)CCCCCC(C(C)C)C4(C)=O)O)CC1=###############################\n",
      "Predicted SMILES: C(C)CCNNCNc1ncccc1)=11ccc(C(NO)(=O)N2CCO)N2ccccC3CCO(C)4ccccc4)(C)(=O)=O)CC3)cc2)cc1#N+](=O)[O-]#####\n",
      "Predicted SMILES: =C(NCc1nn2ccccc2[1)NCCCCCCO1CcC2ccccc2)C1############################################################\n",
      "Predicted SMILES: Cc1ccc(c((Cr)ccc2c1C(CCC=O)C(=CCcN)c2CC=cC)C)CCCC)CCC2)CC2ccccc21####################################\n",
      "Predicted SMILES: C1ccc(C)c1C(=O)(=O)N1C)CC(CC2cccC(=O)c3CCCCC3)cccc2C1CO)N1C)C)CO)CC1C################################\n",
      "Predicted SMILES: =C1cnH]c(=O)[2(1CCOCCO)C(OO)(=O)(O)O)O1##############################################################\n",
      "Predicted SMILES: Cc(=O)C1cccCCC(2ccc(c2)Cccc1O########################################################################\n",
      "Predicted SMILES: Cc1ccc(C(=O)(=O)N2CCCCC2)cc1NC(=O)C1CCCNC1C(=O)(=O)c1ccc(c1##########################################\n",
      "Predicted SMILES: C1ccc((1CC(=O)Cc1ccc(c(c1)C(C1ccccc(c(N)c3c1-2#######################################################\n",
      "Predicted SMILES: C1ccc((CC(=O)CSCO)Nc=Cc2ccccc2)c1####################################################################\n",
      "Predicted SMILES: C1ccc((C(=O)(=O)N22cc(ccccc3\n",
      "Predicted SMILES: C(C(=O)C1c=O)(=O)ccCC1ccccc(ccC)=O)N)cc2c1)C1ccc(CC)CCC(C)=)COOCC2)cc1###############################\n",
      "Predicted SMILES: C(CC1cc(C(C=O)NCCC2C))CC)c2ccccc211=O################################################################\n",
      "Predicted SMILES: C(CCCCc1ccc(c(c1)C(=)(1(=)=O)NCC2####################################################################\n",
      "Predicted SMILES: =C(NcC1ccccc1)c1CC2cc[nH]c3ccccCr)cc23)C(CCCN(Cc3ccccc3)CC2)C1#######################################\n",
      "Predicted SMILES: C1ccc(C()ccCC(=O)CSC(=O)c2cc(C)c3CO)n3ccccc23)c1#####################################################\n",
      "Predicted SMILES: Cc1ccc(cCCCC=O)C2cc(cn2)C(C(=O)NC2CCCCC2)c2ccccC))cc2)c1#############################################\n",
      "Predicted SMILES: C(C)CCCCCC)=C)C1=O)Nc1CCC2C11#O######################################################################\n",
      "Predicted SMILES: Cc1ccc(c((C(=CCC(CCCC)CC)CC4=O)CC4cc(ccccN)c3c)C(CC)ccO))cc2cc#######################################\n",
      "Predicted SMILES: C(CC)C(N)CC1ccc(c1)CC(=O)C(CCCNC1C((=O)N1ccccc(c1)OCO2###############################################\n",
      "Predicted SMILES: Cc(=O)C1CCNO)NcC)C1ccc(cCC)2cc3ccccc3[2)c1###########################################################\n",
      "Predicted SMILES: C(C)C1ccc(CC(=)=NCCCCC4CC(CC(C4)C2)C3)cc1############################################################\n",
      "Predicted SMILES: Cc1cccCC)cc(C(CCCC(CCC3=O)N(3cccCC)CCC)ccc32)c1######################################################\n",
      "Predicted SMILES: C((=O)(=O)N1CCCCCcC1ccc((Cc2ccc(ccN2CCCNC3C(=O)N)c1##################################################\n",
      "Predicted SMILES: 1cccCNC22nccc3ccnCCCCc2cccc2)CC3)ccc1################################################################\n",
      "Predicted SMILES: C(CC)(C2ccccCCC)Cl)CCCl)cc2)CC(=O)N(1=O##############################################################\n",
      "Predicted SMILES: C1ncnH]c(cc(-C3ccc(c3)ncccc12)CCC(CC1ccccc1)C3#######################################################\n",
      "Predicted SMILES: C(CC)C2cccCCCCNCN4CCCCC4)CC3)ccC()cccC(=O)N2cccnH]c1cccClN)ccc21#####################################\n",
      "Predicted SMILES: Cc1ccc(Cc2cc(ccccc3n2)cc1#C(=O)C1c1cccC)cc(C)c1######################################################\n",
      "Predicted SMILES: Cc1ccc(C(CCCN(C(=O)(=O)c3ccc(CC(=)=O)cc3)CC2)cc1#####################################################\n",
      "Predicted SMILES: C(C)CC)cC1ncCc2ccccCl=O)N)cc2)cc2ccccc12#############################################################\n",
      "Predicted SMILES: C(C)CC(=O)C1c1ccc(c(c1)C(=O)N((C)(C)C2###############################################################\n",
      "Predicted SMILES: C(=O)c1Cc1ccccc1)NC(=O)C(Cc1ccnH]c2ccccc12)NC(=O)C(C)Cc1ccnH]c2ccccc12###############################\n",
      "Predicted SMILES: Cc1ccc(c1C(C(=O)CCC1cc((11N#CO)NC1ccc(Cr)cc1#########################################################\n",
      "Predicted SMILES: Cc1ccc(Cc2c(Cc3ccccC(=)(=O)=O)cc3)nc(C(C=O)N)C(CCcN+](=O)[O-])c3C)cc1################################\n",
      "Predicted SMILES: C(CO)NCC(=O)N1ccc(OC(=O)(=O)c2ccc(C))ccCl)c2)cc1#####################################################\n",
      "Predicted SMILES: C1cccc(1Cc1cccc(c(NcCCO)cCCCC)nccn(1#################################################################\n",
      "Predicted SMILES: =C(NCCC(O)C(=O)N(CcCC2ccnc2)C1c1ccccc1)N+](=O)[O-]#c1ccccc1##########################################\n",
      "Predicted SMILES: CCCC)C1=)C11c(O)ccC(CO)C=C)C))c(O)c2c1Cc1ccO)=O)OCC)C)CccO)ccC)=C(C)C)ccO)cc2########################\n",
      "Predicted SMILES: Cc1ccc(c1C1(=O)C1ccc(C(=O)(=O)N2C)C2ccccc2)C)cc1#####################################################\n",
      "Predicted SMILES: Cc1cccC(C3cc4c(cc3C(NC(3cccccCN+](=O)[O-])c3)C3COC(=O)C33)OCO4)cc(OC)c1OC############################\n",
      "Predicted SMILES: C(=O)ccCCCCCCCCCC2ccccc2CN1CC(CCCC2ccccc21###########################################################\n",
      "Predicted SMILES: Cc1cccC(CC)(CC2)C(=)(=O)O)C2ccccCl)ccCl)c2)ccc1O(C(1CC=O)CCC1=O######################################\n",
      "Predicted SMILES: Cc1ccc(C(CC3ccccc3C(=O)N2CcC2ccccOl)cc2)l)cc1#l#1ccccCC(=)=O)cc1#####################################\n",
      "Predicted SMILES: =C(N)CCc1ccc(C()cc1C(CCCC(C(=O)(=O)c2ccccc2)CC1######################################################\n",
      "Predicted SMILES: C(CC2ccC))cccClC=O)N)cc2C(C(#########################################################################\n",
      "Predicted SMILES: C(Cc1nc(NCC)C)n2(1C(=O)NCCCCCC3CC(CC(CCCC3)C2########################################################\n",
      "Predicted SMILES: rc1ccc((1CCCCNC1ccc2ccccc21##########################################################################\n",
      "Predicted SMILES: C(CONC1nc(ccccc2\n",
      "Predicted SMILES: C(C1cc(C)c(c(CCC)C)=O)cCCcc(ccccCC)cc3c12############################################################\n",
      "Predicted SMILES: =C(N)C1ccnH]c(c1c-l)ccCc3ccccClCCCO)C(Ccc3)cc12######################################################\n",
      "Predicted SMILES: Cc1ccc(cC(=O)NcC)2cccccCl)c2)C2CCNCC)3C)=O)cc3ccccc3)C3cccccCC)(4CCOCC4)c3)cC2)c1####################\n",
      "Predicted SMILES: C(CC((=O)C1cc2ccccC(=O)(=O)N3CCCCC)cc2c1C############################################################\n",
      "Predicted SMILES: C1cccC)C(C2CCCCC2)ccc1NC(=O)C1c1ccc(Cl)cc1#l=O)N1cccCl)cccClN)c1#####################################\n",
      "Predicted SMILES: C1nc(c(ccn2C2OC(COO)((=O)(O)O)C(O)C(O)c(=O)[nH]1#####################################################\n",
      "Predicted SMILES: CC(N)N1ccc(C(C(=O)CCCCCNCC)(=O)NCCCC3ccccc3C)cc1#####################################################\n",
      "Predicted SMILES: C(C)CCCC1(CC2cccccccc3o2)CCCCC1######################################################################\n",
      "Predicted SMILES: C1cccC)cc(Nc2cc(C(cc2CC(=O)C22CCCCCC)C2)c1###########################################################\n",
      "Predicted SMILES: C1c(=O)c2c(ccc2n2=O)n1CCC1CN+]=[N-]##################################################################\n",
      "Predicted SMILES: Cc1ccc(C(=O)(=O)NCCC(=O)Nc)CCC(C(CNc3ccccc3)CC2)cc1##################################################\n",
      "Predicted SMILES: C(CCN(C(CN((=O)c(C3ccccCl)cc3)C(=O)CC1###############################################################\n",
      "Predicted SMILES: C1ccc(C()cc1NCCCN(C(=O)C2ccc(cCcCO)c4cccCl)ccc4nc23)CC1##############################################\n",
      "Predicted SMILES: Cc1ccc(Nc2ccc((2)(=)()nc1NC(1ccccCc2ccccc2)cc1#######################################################\n",
      "Predicted SMILES: Cc1ccc(C(CCC(3CCCCC3)=C=O)N2c2ccccc2)cc1#############################################################\n",
      "Predicted SMILES: CC(N)NC1ccc(C(C(=O)CCCC=O)N)CCCCCCC)(=O)CCC(=O)CC33ccccCC(=O)N)cc3)C222)cc1##########################\n",
      "Predicted SMILES: =C(N1cc2ccccc2c1Cl)N1Cc1cccc1)C1CCC(=O)(=O)C1########################################################\n",
      "Predicted SMILES: =C((=O)NCC2ccccc2N1CcCCC(CcCCCCCCCCC3C2)CC1##########################################################\n",
      "Predicted SMILES: C(C(=O)C1CC)=O)NCC)CCc))=C=O)N(c=C1ccCCccccccC(=))Cl)cccCc3ccccc3)nc2)CN+](=O)[O-]###################\n",
      "Predicted SMILES: Cc(CCC2((CC112C(=O)(=O)cCCC1#########################################################################\n",
      "Predicted SMILES: C(CCCCCCCCCCCCCCCCCOC(C)CC)C)C(=O)C(C(C))C1=O########################################################\n",
      "Predicted SMILES: C(CCC(O)Nc1ccc(Cc2ccnc2)cc1)c(=)(C)C#################################################################\n",
      "Predicted SMILES: C(=O)(=O)c1ccc(N(NC(=O)C2CCCC22ccncC)c(=O)ccCcc1#####################################################\n",
      "Predicted SMILES: C1ccC(=O)N)C(C2ccc(c2)cnH]c2ccCC=O)cCC2##############################################################\n",
      "Predicted SMILES: C(C)CNC)(c1cc(NC2ccc(C(N)(O)cc2)nc(1Cr###############################################################\n",
      "Predicted SMILES: =C(NC1CCCCCCN22ccccc2)C1)N111ccccc1##################################################################\n",
      "Predicted SMILES: C1cccCC(=O)C2ccc(Cl=)()((O)C)cc2)co1C#1cccCl)ccc1CCC(=)C#############################################\n",
      "Predicted SMILES: =C(NcC1ccccCc2cccn2)cc1)c1cccCl)cccCl)c1#############################################################\n",
      "Predicted SMILES: C(1c((CC(=O)Cc2C2CCCC3ccccc32)cn1####################################################################\n",
      "Predicted SMILES: Cc1ccc(c1C(=O)Nc1cc(ccccC(=O)(=O)N3CCCCC)cc2\n",
      "Predicted SMILES: C1cccC)C(C2ccCl=O)NC(=O)(=O)c3ccccc3)cnH]c3ccCc4ccC)co(C)c4C)ccC))ccc33)cccC)c1O#####################\n",
      "Predicted SMILES: =C(Nc)c1CCCCCCN)CC(1c(=O)N1CCCCc2ccccc2)CC1##########################################################\n",
      "Predicted SMILES: C((=)C(=)CNc1Cc=O)NCCC2ccccc2C1)(=)CNC1cccccccCcn2C)C(C)C############################################\n",
      "Predicted SMILES: Cc1cccc(ccOC)c1OC)Cc1cccc3c(c1OC)CCO3)C(CC)((C)(C)C2###CO)C1ccccc1###################################\n",
      "Predicted SMILES: C(CO)NC1CCCO)C2CCCCC)CCC(=O)C4ccccc4)C2(C)C1CC(=O)C1cccc1)C(O)(C)OC##################################\n",
      "Predicted SMILES: C1cc((CN+](=O)[O-])n1CCCc1ncc(-c2cccc2)n1############################################################\n",
      "Predicted SMILES: C(CCc1ccc(C(=O)Nc2ccc(Cc3cc4ccccc4[3)cc2))cc1########################################################\n",
      "Predicted SMILES: =C(Nc1ccc(c1)c1ccc(CC(2cc3\n",
      "Predicted SMILES: C((CC)C(=O)(=O)c1ccc(c(c1)Cc(CCC(=O)NcCCCC)n2Cc1ccccc1#C#############################################\n",
      "Predicted SMILES: C1ccc(Cc2cccCCCC((=O)C4ccccc4C3=O)cn2)cc1############################################################\n",
      "Predicted SMILES: Cc(NC1nccC(=O)NCcc2ccCc3cccccCl))c3)cnn-)CCOCC3)nc12#################################################\n",
      "Predicted SMILES: Cc1ccc(cCC2nc(NCCCO(C(CC3)nc3cccCC(33)c1#############################################################\n",
      "Predicted SMILES: C1ccc(C(=O)(=O)NCCC2(=O)C(c2ccccc2)N2cccc2)cc1#######################################################\n",
      "Predicted SMILES: C(C(=O)C1CCC(C2cccCO)n(Cc3ccccCC)cc3)c3=O)[nH]c)CC1##################################################\n",
      "Predicted SMILES: Cc1cccCc2ccc(c(c2)CC2ccccCl()4ccc(CCCCNCC5)cc4)cccC(3=O)cc(1ON+](=O)[O-]#############################\n",
      "Predicted SMILES: =C1OC(nC2ccc(Cc3ccc4cnH]ccc4c3)cc2)l)C(O)C(O)C1O#####################################################\n",
      "Predicted SMILES: C(1c(CO)c2c(cC(=O)NCCCCCC3)cc2n2ccccc21##############################################################\n",
      "Predicted SMILES: Cc1ccc(CCCCN(C(=O)C3ccc(c3CC(=O)(=O)c3ccccC)cc3)CC2)cc1##############################################\n",
      "Predicted SMILES: C1nc(N)c2c((CN33ccc(C(=O)NCCCCCN)(=N)C4ccccc4)l=O)O)c(OO)O3cc3)ccc2n1C###############################\n",
      "Predicted SMILES: Cc1ccc(cC(=O)NcCCC(C3ccc(c3)CC2)c1###################################################################\n",
      "Predicted SMILES: C(C)CCCC((=O)(=O)c2cc(C()ccc1########################################################################\n",
      "Predicted SMILES: Cc1ccc(C(=O)NcC2ccc(Cc3cccC)(4ccnc4)c(ccccc34)n2)ccOC)c1#C###########################################\n",
      "Predicted SMILES: C1c(=O)c2c(nc32CC2C2CCC(CcCCc3ccccc3)CC2)n(C)c1=O####################################################\n",
      "Predicted SMILES: C(C)CC)cC(=O)C1C1ccccc1)N1C(=O)C1CCCCCO)C1)C1ccccc1##################################################\n",
      "Predicted SMILES: =C(NCC=cC1cccc1)N1ccccC)cc1)N1cccc1##################################################################\n",
      "Predicted SMILES: C(CCCCCCCCCC1c((n+](CCCC(CC)cc#######################################################################\n",
      "Predicted SMILES: =C(N)CCCO)Nc1cc2c(c1C(=O)N)CCCCCCC)CCCO1#############################################################\n",
      "Predicted SMILES: =C(NCCCCCC)(=O)N1CCCC1)(=O)N)c1ccccc1################################################################\n",
      "Predicted SMILES: C1cccC(=)(=O)=O)ccc1NC(=O)C1cccCC(CCCCC2)ncn1########################################################\n",
      "Predicted SMILES: Cc1ccc(C(N=O)Nc2cccn2CCCCOCC)O)cc1###################################################################\n",
      "Predicted SMILES: C(CC(C(=O)c2CC)CCC)C))Cl)CCCC)(1#####################################################################\n",
      "Predicted SMILES: C(C)CC(((C)C1CCC2C3CCCC4CC(O)(CCCCCCCCC(COC(O)C(O)C5O)CCC4(C)CCCCC12C################################\n",
      "Predicted SMILES: C(CO)NcCCC(NC(2ccccc2)2C)C)2ccccc2)CC1###############################################################\n",
      "Predicted SMILES: C(C)C1ccccc1)NC(CO)C1cccccCN+](=O)[O-])c1############################################################\n",
      "Predicted SMILES: Cc1ccc(CC(=O)C2ccc(c(cCCccc3c2)cc1###################################################################\n",
      "Predicted SMILES: =C(C2cccc(cc2CCC1C(11ccccc1)CC=O)N(CCCC1C3###########################################################\n",
      "Predicted SMILES: C(CC))CCC(=O)C(=C(=O)NCNC2c2cccccCl)c2)C1c1ccc(Cl)cc1################################################\n",
      "Predicted SMILES: =C(NCCC=O)NcCCCC1)N11ccc(-2CC2CC2)\n",
      "Predicted SMILES: C1cccC)ccnc(C(=O)N)C(=O)N3ccccc3)l)nc2c1#############################################################\n",
      "Predicted SMILES: C1ccc((1CC1ncCN+](=O)[O-])cccCN+](=O)[O-])ccccccc12##################################################\n",
      "Predicted SMILES: =1ccc(c(c1)CC1ccccc1C2c1CCC(C1)CN2###################################################################\n",
      "Predicted SMILES: Cc1cccC(CC(=O)N=Cc2ccc(cccccc23)cc(1O#C1cc(CcC2CC=O)CC=C)c3cccCl)ccc32)cn1###########################\n",
      "Predicted SMILES: Cc1ccc(C(CC(=O)NCCC)C(2c(=N+](=O)[O-])cnc2C)cc1######################################################\n",
      "Predicted SMILES: Cc1ccc(C(CC(=O)NCC(CCcN+](=O)[O-])cc1#C#CO)CCCC=)C#CCC2C3CC=)CC4CC(O)CCC4(C)C3CCC12C#################\n",
      "Predicted SMILES: CC(N)N1ccc((N((NC(=O)(=O)c2ccc(c(ccc3c2)C(=O)NCCC3ccccc3CC2C(=O)N)c2ccccc2)c1########################\n",
      "Predicted SMILES: C1ccc(C(CC)C(=O)C2cccc2)cc1##########################################################################\n",
      "Predicted SMILES: C(C)CC(((C)C1CCC2C3CCC4CCCC(CO)CCC5(C)CCCCC12C#######################################################\n",
      "Predicted SMILES: Cc(NNCC(O)Nc1ccc(CCCCNCC2)cc1########################################################################\n",
      "Predicted SMILES: C1ccc(c((Cc3cccCCC)C)c(ccnc(N)c34)ccc2c1#############################################################\n",
      "Predicted SMILES: C1cccC(=O)(=O)N2CCO)N2ccc(CCCCO(C)4ccccc4)c4ccccCl)cc4)CC3)ccc[ccc1C1(=)C1C)C)C((1ccccc1#############\n",
      "Predicted SMILES: C(CCCCCCCCCCCCCCCCCCOC2ccccOl)cc2)CC(C(C(C2c1ncc2=O##################################################\n",
      "Predicted SMILES: =C(NCn+]1ccccccccccO)c21)c1ccccCl)cc1################################################################\n",
      "Predicted SMILES: CCCN1C(NC)((C(=2ccccCl=)=O)cc2)c2ccc(cCC)c2)CC1=#####################################################\n",
      "Predicted SMILES: Cc1cccC(CC(C(N3ccccc(c3)OCCC4)(CC)cc(OC)c1OC#########################################################\n",
      "Predicted SMILES: C(CCCCC(=O)Cc1cc(c2c1ncn2C1OC(CO)(=O)(O)O)C(OC(COCC3ccccc3)CC11######################################\n",
      "Predicted SMILES: C1ccc((Cc2ccnH]c(CO)n2CCCc2ccccClCCCC(=O)NCCCC)4ccccc4)C(=O)O)CC=O)cc2)c1############################\n",
      "Predicted SMILES: Cc1ccc((CNc2cccccnH]ccc3c2)N2ccnc2)c1################################################################\n",
      "Predicted SMILES: Cc1ccc(Cc2c((C(=O)N3cccCC)c(OC)c(OC)c3)cn2)cc1#######################################################\n",
      "Predicted SMILES: C1ccc(C(=O)Nc2ccc(C(=O)N)C3cccCO)n4cccccc4n3)CCCC5)cc2)cc1###########################################\n",
      "Predicted SMILES: C((CC)CCCNNCc(=O)C1Cc(C1ccccc1)c1CCCCC1##############################################################\n",
      "Predicted SMILES: C(=cCC=O)NC(Cc)C=c)C1ccccc1)C(=O)OC(C=O)O)C(=O)O#####################################################\n",
      "Predicted SMILES: Cc1ccc(cC(=O)Nc=Cc2cccOr)ccc2O)c1####################################################################\n",
      "Predicted SMILES: Cc1ccc(Cc2cc3ccccc3c2C(=O)N2cccOC)c(OC)c(OC)c2)ccON+](=O)[O-])cc#####################################\n",
      "Predicted SMILES: Cc(=O)C1CCCCCCN)CCNN(=O)NC)N1#(=O)NCCCC(CC2ccccc2)C11################################################\n",
      "Predicted SMILES: C(CCCCCC=O)CCCC=O)NCC)=O)NcCCCCC1))c1ccN)n(CCC))c(=O)[nH]c(CO########################################\n",
      "Predicted SMILES: C1ccnH]c2C(2C)C(=O)c2ccc(cc(C)4ccccCl)cc4)nc3c2)cc###################################################\n",
      "Predicted SMILES: =C1ccCc2cccc2)cnH]([O-])c2ccccc2n1C#c1ccccc1#N+](=O)[O-]#############################################\n",
      "Predicted SMILES: C(C)CCNN1c(C)c(C(N)c2cc(-lN)c(C#N)cc21###############################################################\n",
      "Predicted SMILES: C(CO)Nc1ccc(c(c1)C(=O)(=O)c1ccccc1N2=O###############################################################\n",
      "Predicted SMILES: Cc1c(c(ccc2c2cc(C(CC3ccccc(c3)OccccOl5ccccc(c6)Occcccc5n4C))ccc3nccCCccc3c###########################\n",
      "Predicted SMILES: C1ccc(Cc2ccC(CCCCC)n3ccccCl=O)NCCC)CC)C)=O)NC4ccccClCC(=O)O)cc4)cc3n2CCcc1###########################\n",
      "Predicted SMILES: Cc1ccC(ccC)(CCCC22cccc3cccCl)ccc23)c(11=O############################################################\n",
      "Predicted SMILES: C(C)CC(N((C((CCCCC(C=O)C2CC)N2CC2ccccc2)CC=O)N1CC)N1#C1ccccc1########################################\n",
      "Predicted SMILES: C1ncc(C)cc1C(=O)NCCC=O)NcCCCC(Cc2ccccCl)cc2)CC#######################################################\n",
      "Predicted SMILES: C(C(=)=C1C(C)=NC(C)=C(C(=O)OC))2(=O)c2ccccc2)C1c1ccc(cON+](=O)[O-])c1################################\n",
      "Predicted SMILES: C1ccc(NC(=O)C2CCCCCC2)n1#############################################################################\n",
      "Predicted SMILES: Cc1ccc(c1C1CCC(=O)(=O)c1ccc(N(=O)NcCCCC3ccccc32)cc1##################################################\n",
      "Predicted SMILES: C(Cc1ncc(-CCCC4CC(CC(C4)C2)C3)\n",
      "Predicted SMILES: C(1ccc(C()cc1C(C(=O)c1CcCN=O)O)NC(=O)C(CcC1cccccn+]1[O-])NC(=O)(=O)cc1ccccc1#########################\n",
      "Predicted SMILES: C(C)CC)cC(=O)N1CCC(N2ccC(=O)NCCCC(C(CCCCC4)CC3)ccn2Cc2cccccCl)c2)CC1#################################\n",
      "Predicted SMILES: Cc1ccc(C(CC2cccOC)c(OC)c(OC)c2)cc1#C#CO)CCC(=O)O#####################################################\n",
      "Predicted SMILES: =1ccc(C2CCC(CCC3ccccO)ccOr)c3)CC2)cc1################################################################\n",
      "Predicted SMILES: C1ccc(Cc2ccc(Sc3ccc(c3)o2CC2cc(ccccCl)cc3\n",
      "Predicted SMILES: C(CCCCCCCCCCCCCC=O)NC1ccc(C(=O)(=O)N)ccccccc12#######################################################\n",
      "Predicted SMILES: =C(NC1ccccc1)N+](=O)[O-])NCCCCC(Cc2ccccc2)CC1########################################################\n",
      "Predicted SMILES: Cc1ccc(cc1C(=O)C(=CN)=2#C############################################################################\n",
      "Predicted SMILES: C(CCCCC1CCc((1ccccc1)CCC1ccccCl)cc1)C2###############################################################\n",
      "Predicted SMILES: C(C((=O)C1C1cccC(=)(C)C)ccO)c(C(=)(C)C)c1############################################################\n",
      "Predicted SMILES: C1cc(ccccc2n1CC1ccc(c(c1)O(N1ccccc1-2################################################################\n",
      "Predicted SMILES: =C(N)C1ccc-CC(2ccccc2))cccCl=O)O)c1##################################################################\n",
      "Predicted SMILES: =CN+]([O-])c1ccc(c1NNCC(N1###########################################################################\n",
      "Predicted SMILES: C(C(=O)C11(C1C(=)CO)N(=O)Nc1cc(\n",
      "Predicted SMILES: C(=O)c1CCCN1C(=O)C1Cc1ccccON+](=O)[O-])cc1)NC(=O)C(C(=O)C(Cc)C=O)(=O)c)NC(=O)C(C)Cc1ccccO)cc1########\n",
      "Predicted SMILES: C1cccCc2ccnH]c(ccc(C(=)=NCCCCCCC))C4ccccc4)ccc3)ccc1#################################################\n",
      "Predicted SMILES: Cc(=O)C1Cc1ccccO))(C2ccccc(c2)CC(C3)cc1)N(=O)N#######################################################\n",
      "Predicted SMILES: C(CCCCCC=O)NC(C(=O)C1cc(-c2ccccCl)cc2)l)c(Cc2ccccCl)cc2)n1C##########################################\n",
      "Predicted SMILES: Cc1cccC(N2ccc(OCc(2)cccOC)c1O########################################################################\n",
      "Predicted SMILES: CCCNC1ccc(c(c1)C((CCCCCC3C)(C)=O)O1C1C22#############################################################\n",
      "Predicted SMILES: C(CCC)C1c((c1C(CC(=O)NCCc1ccc(ccccc1c1=O#############################################################\n",
      "Predicted SMILES: Cc1ccc(cCC)(N2cccC(N)ccc2)c1#########################################################################\n",
      "Predicted SMILES: C1cccCCCC(O)C(COC3(=O)CCr)O2)c(=O)[nH]c1=O###########################################################\n",
      "Predicted SMILES: C(C(=O)C1CCCC(C2cc((ccccc32)C2ccccc2C1=O)N1=O########################################################\n",
      "Predicted SMILES: C(C(=O)C1CC(C)NCC2\n",
      "Predicted SMILES: C(CC)CCCCC1(C)(=O)(=O)N1CCC3(CC14ccccc43)CC1)CCC1(=O)c11ccc(-)nc)C2##################################\n",
      "Predicted SMILES: Cc1ccc(c1Cc1c(Cc2cccc2)nc2ccccc211=O#################################################################\n",
      "Predicted SMILES: C((=O)(=O)N11ccc(c(c1)C(=O)N(CCC(2C))C2C)C((C)(CC1CC)CC=)C22#########################################\n",
      "Predicted SMILES: C(C)CCCC=O)N1(CO)CCCO)Cc1ccc(C(ccC)c1################################################################\n",
      "Predicted SMILES: C1ccc(CCCC(=O)N)CCC(C(3cc4ccccc4c3C(CC2)c1###########################################################\n",
      "Predicted SMILES: C(1nccc(C)c(n((C(nc2c2C(=O)(=O)N1ccc(c1##############################################################\n",
      "Predicted SMILES: C1cccCCC)C)ccc(cccCCC3ccCl)ccccCCC)C)=O)CC4(=O)c4Cc4ccccCl=O)NCC)C)cc4)c3n(2ccn1#####################\n",
      "Predicted SMILES: Cc1ccc(C(cc1NC(=O)CSCCCNN1#(=O)N#####################################################################\n",
      "Predicted SMILES: C(=cCc=)(=O)=O)C(=)=(=O)NCCCc1ccccO)cc1)C(=O)NC(Cc1ccnH]cn1)C(=O)N###################################\n",
      "Predicted SMILES: C(CCCCCCN+](C)(C)CC1cccO(n+]2ccc(c2)cccC(N+](C)(C)C)CCCCCCCc1########################################\n",
      "Predicted SMILES: C(C)CCNNc1ccc(Cc2ccc(cc((ccc3c2)CcCCCCCCC4)c(=O)n(C)cc1##############################################\n",
      "Predicted SMILES: CCCN1C(=O)C(C3CC(CCCC)CC3=CC(=1C1c###=O)N1ccccc1#####################################################\n",
      "Predicted SMILES: C(C(=O)C1CC(C)c=O)(=O)c2ccccc2)CC(=O)NC1c1ccc(c1#C###################################################\n",
      "Predicted SMILES: C((CC)CC=O)C1C1ccC)ccc2c1ccc12#######################################################################\n",
      "Predicted SMILES: C1ncc(C(=O)Nc2ccc(c(c)cccC(=O)(=O)N)cccc2)cc1########################################################\n",
      "Predicted SMILES: Cc1ccc(cCc2c(CCC(=O)Nc3ccccc(c3)OCCC)nc3ccccc3c2=O)c1################################################\n",
      "Predicted SMILES: Cc1ccc(Cc2cnH]cc3ccCC=O)C2ccNC(=O)cC4ccccCCcc4)cccc2-3)cc1###########################################\n",
      "Predicted SMILES: Cc(=O)C1CCCCC(=O)c2CC(=O)C(CC)C(C)(C)C)NC(=O)C(C)C2cccccccccc23)CCC)(CC11C)=O)O))C1##################\n",
      "Predicted SMILES: C1ccc(CC(=O)CSc2nc3N)c3ccnH]cc3n2)cc1################################################################\n",
      "Predicted SMILES: Cc1ccc(C(C(=O)C22ccc(ccccc23)cc1#####################################################################\n",
      "Predicted SMILES: Cc1ccc(cCC)c1C(CCNNNCO)N1CC1cccC))cccCc2ccccc2)c1####################################################\n",
      "Predicted SMILES: Cc1ccc(C(NCC3ccccc3C(C)C(=O)(=O)c3ccccc32)cc1########################################################\n",
      "Predicted SMILES: Cc1ccc(cCC)2cc(ccCC)cccOc4cccnH]c4)ccc[(=O)[nH]2)c1##################################################\n",
      "Predicted SMILES: C(C1c(=O)cnH]c2=O)c2cnH]c(c2c########################################################################\n",
      "Predicted SMILES: C((CC1ccccc1)C(=O)C1C(=O)CCCCCN1C(=O)C1ccc(1#########################################################\n",
      "Predicted SMILES: C(CCC(CCC3cccOC)c(OC)cc3C2C11C((C2cccOC)ccOC)cc2CCN1C(=O)CC11ccccCl)cc1##############################\n",
      "Predicted SMILES: C(CCN(C)C=)=O)O)C(CCCCC2)CNC1CO)C1=##################################################################\n",
      "Predicted SMILES: 1ccc(Cc2ccc(CNCCC5CC(CC(C5)C3)C4)n2)cc1##############################################################\n",
      "Predicted SMILES: C(CO)Nc1ccc(C(=O)(=O)N2CCC(C(3ccccc3)CC2)cc1#########################################################\n",
      "Predicted SMILES: Cc1ccc(c(c1)C(=CCCC(C(CC1)CC1ccccc1C2################################################################\n",
      "Predicted SMILES: C1cccC)cc(NCCC=O)C2cccn2)C2C)=O)NC2C)(C)C)c2ccccc2)c1################################################\n",
      "Predicted SMILES: C(=O)(=O)cC1ccc(CC(=O)CcCC2ccccc2)c2ccccc2)cc1#######################################################\n",
      "Predicted SMILES: C1c(=N=O)NCCCCC)cc2cccCC(C1ccccn1)C2#################################################################\n",
      "Predicted SMILES: Cc1ccc(C(=O)(=O)N2ccc(C(=O)(=O)N3CC)CNc3ccccc3)C(=O)N)c2)cc1#########################################\n",
      "Predicted SMILES: C(CCCCCCCCCCCCCCCCCCCO)C1cccccccccc12################################################################\n",
      "Predicted SMILES: Cc1cccc(ccOCCC)CO)c3CCCC(=)=O)CCC2###################################################################\n",
      "Predicted SMILES: Cc1ccc(C(CNC(=O)C2cccc2))cc1#C#######################################################################\n",
      "Predicted SMILES: =1cc(cccCCc=)=NCCCCCCC3)ccc2[nH]1####################################################################\n",
      "Predicted SMILES: Cc=C(C(c1ccc((C(=)NC)CC(=O)cc2ccc(c(ccc3c2)c1########################################################\n",
      "Predicted SMILES: Cc1cccC(=)2ccc(c2)N2ccnC(=)=O)c3NO)[33C(2ccccc2)cn(CO)c1#############################################\n",
      "Predicted SMILES: Cc1ccc(C(CCC(=O)NC(C2c2cc1Or#########################################################################\n",
      "Predicted SMILES: C(CC(C(=O)c2ccccc2)CCN1C1ncc(Cc2ccccc2)\n",
      "Predicted SMILES: 1ccc(cc(NCCCNC4cc5cc4C4CCOCCC4C55)CC)CC)ccccc1#######################################################\n",
      "Predicted SMILES: C(1ccc(CC(=O)CS2ccc(NOC3ccc(C)N)cc3)n2C)C)cc1########################################################\n",
      "Predicted SMILES: C1ccc(C(=O)(=O)N2CCC(C)CC((C(=)C)cc1#################################################################\n",
      "Predicted SMILES: C(1ccc(cCC(=O)CSC(=O)NcCCCC3ccccc32)c1###############################################################\n",
      "Predicted SMILES: Cc1ccc(CCCCN(CCC3CCCCcc4ccccc4)CC3)CC2)cc1###########################################################\n",
      "Predicted SMILES: C(CC(C(=2ccccc2)c2ccccc2)CCN1C(=O)(=O)c1ccc(Cl=)(C)C)cc1#############################################\n",
      "Predicted SMILES: =C1OC(n2cn-)nc3cccCl)ccCl)cc3c)C(O)C1O###############################################################\n",
      "Predicted SMILES: =C(NC1cccccCC(=O)c2CCCN2S(=O)c3CCCCC3)C2)cc)N11cccccCl=O)N2CCCCC2)c1#################################\n",
      "Predicted SMILES: C(C(=O)(OCCC(CC(nOCC(O)C(O###########################################################################\n",
      "Predicted SMILES: C1cccC)cc(NC(=O)C2ccCc3ccC))cccc3Cl)noc2C)c1#########################################################\n",
      "Predicted SMILES: Cc1ccc(Cc2ccc(CNCCC(C3)n2)cc1#C######################################################################\n",
      "Predicted SMILES: Cc(=O)C1cccCr)ccc1N1CCN(C2(CCCCC2)))CC1##############################################################\n",
      "Predicted SMILES: C(CO)NC1CCO2(=O)C2ccccc2)CC(22CC)C(CCC1C3CCC2(C)C(CCC1((=)(CC)C######################################\n",
      "Predicted SMILES: CCCC(C2C(C)C3(4C)(C)=O)O)CCCCC33C)C1CCCC#############################################################\n",
      "Predicted SMILES: Cc1ccc(C(C(=O)C2CCC=(NNCC)N(2C(=O)O)cc1#C############################################################\n",
      "Predicted SMILES: =C(NcC1cccCN+](=O)[O-])ccc1O)c1ccccc1#C1ccccc1#l#####################################################\n",
      "Predicted SMILES: C((=)C(=)CNc1CCC2ccccc2N1Cc2ccccc2)C)C1=O############################################################\n",
      "Predicted SMILES: C(C1cc(2c(Cc1ccC))cc(Cl)ccC222#######################################################################\n",
      "Predicted SMILES: C(((CC(C(CCcN+](=O)[O-])CC=O)(=O)C2cccC(=)(=O)=O)ccc1################################################\n",
      "Predicted SMILES: C1ccc(C(=O)NcCCC(CCNNC(C)CCCCC5CC)C(C(C)C4CCCC((O)cc1################################################\n",
      "Predicted SMILES: C(COCCc(=O)(O)O)(=O)(O)O)C(C(1ccccClCO)O2ccccc2)cc1##################################################\n",
      "Predicted SMILES: =C1cccc3ccccc3ccccCC2ccccc2)c2=O)n(Cc1ccccc(c1)OCO2##################################################\n",
      "Predicted SMILES: C(1cccCC(=O)NcCC)C)(2ccccc2)c(CO)n2cccc(cC)cccc3nc2##################################################\n",
      "Predicted SMILES: C(CC)C(NC(=)=O)C(=O)NC1ccc(CC(=)=O)cc1###############################################################\n",
      "Predicted SMILES: CCCC(CCCOCC3(4(C)CCC((O)(CC(=O)CC5ccc\n",
      "Predicted SMILES: CCCCr)C(=O)Nc1ccc((Cc2ccccc(Cc4ccccCC)cc4)nc3nc)c1###################################################\n",
      "Predicted SMILES: CCCNc1nc(Nc2ccccCC)cc2)c2C(N)c(NO)n1C#CCc############################################################\n",
      "Predicted SMILES: C(CCCC(=O)C(1ccc(N(=O)(=O)N2CCCCC2)c1################################################################\n",
      "Predicted SMILES: C1cccc1SC1cccCC(=O)c2ccccCN+](=O)[O-])cc2)ccc1C######################################################\n",
      "Predicted SMILES: C(CCCCCCCCCCCCC1cc2Cc2ccccCC)cc2)c2Cc2ccccOC)cc2)nnH]1)C(=O)cC1ccccc1################################\n",
      "Predicted SMILES: C(CCCC(=O)C(CCCNC1)C(=O)NC###########################################################################\n",
      "Predicted SMILES: C(C)CC(=O)C1CC)2ccccc2)c2ccccc2)CCCC11###############################################################\n",
      "Predicted SMILES: =C(Nc1ccc(cccccc12)c11CCC2cccCr)ccc2C1#N1ccccc1######################################################\n",
      "Predicted SMILES: C1ccc(CCC(=O)N2ccC)n(Ccc3=O)n(C)c2CO)ccCN+](=O)[O-])c1###############################################\n",
      "Predicted SMILES: C(CC(C2cc(c(2C(N)CCN1C(=O)c1CCC3CC(CC(C3)C1)C2#######################################################\n",
      "Predicted SMILES: C1ccc(CCCC=O)CC(=O)C(=Ccc(CNCCCCCC3)C2=O)cc1#########################################################\n",
      "Predicted SMILES: 1ccc(c(c1)CC(CCCCCCC4ccccc4CC4ccccc4C3CC)CC##########################################################\n",
      "Predicted SMILES: C(CCCCCCc1ccc(C(C(CC(=O)(O)O)cc1#l###################################################################\n",
      "Predicted SMILES: CCc1ccc(C(c2ncc(Cc3ccccc3)o2Cc2cccc2)cc1#############################################################\n",
      "Predicted SMILES: C(C(=O)C1CCC(C(=O)C2cccC(=O)(=O)N3CCC4ccccc4C)ccc2CC)CC1#############################################\n",
      "Predicted SMILES: C(CC)CCCC2ccc(Cc3ccc(c(cC(=O)N)ccc4c3)cc21###########################################################\n",
      "Predicted SMILES: C(COCCC(C)CCCC)(=O)CCCc(CO)O)C(CCCCC)CCC=C(C)C##(=O)CCCc(CO)O########################################\n",
      "Predicted SMILES: =CN+]([O-])c1ccc((NCCCCcCCOcc1#######################################################################\n",
      "Predicted SMILES: C(1ccc(C(N(C=)C=O)NC)N(=O)NC(CCCCCCCC2)C(=O)NC(C2ccccc2)cc1##########################################\n",
      "Predicted SMILES: Cc1ccc(cCC(=O)Cc2ccc(cCC3ccccClcc3)c2CO)c1###########################################################\n",
      "Predicted SMILES: C(C(=O)C1CC)Nc1cc(-c2cccCC)c((2OC)c\n",
      "Predicted SMILES: Cc1cccC(CC=O)C2ccc(Cc3ccccc3)c2)cc(OC)c1OC###########################################################\n",
      "Predicted SMILES: C(C)C(CC)CC2CC3CCCCC5CC(O)CCC5(C)C4CCC3(C)C2CC()C(C(OC(CO)C(O)C(O)C1O################################\n",
      "Predicted SMILES: C(C)C1ccccOc2ccccCO)[nH]c2)cc1)NN(=)CNC)c(=)(=O)=O###################################################\n",
      "Predicted SMILES: C1ccnH]c(C)c(C(=1ccccCc2cccccCl)c2)c1)N1ccClnonH]c1C#################################################\n",
      "Predicted SMILES: Cc1cccC(CC(=)=NC(C(=C2C(=O)Nc2ccc(C)cc2)ccc1O########################################################\n",
      "Predicted SMILES: =C(CCCc(C2ccccc2)Nc2ccccc2)NC1c)=C1Cc1ccccc1#l=CCCC1#################################################\n",
      "Predicted SMILES: C1cccC)ccCC2cccCC3ccc(CN+](=O)[O-])cc3)ccnH]c2=O)ccC)c1##############################################\n",
      "Predicted SMILES: C(CO)NC1cccc(cc1O()C(=1cccOl=O)O)ccc1OlCO)O)C1cccO))ccC)CC)=O)cc1O2##################################\n",
      "Predicted SMILES: C1ccc((1C(CCCN(C2ccc(C(=O)Nc(=O)(=O)c3ccccCC(=)NCC)C)CC(4ccccc4)ccCN+](=O)[O-])c3)cc2)CC1############\n",
      "Predicted SMILES: Cc1ccc(c(c1)C((=OcC(=O)N(3ccccc31)C(=O###############################################################\n",
      "Predicted SMILES: =C(Nc)c1CC(n2ccccClNc3Cc3ccccc3)cc2)C(O)C(O##########################################################\n",
      "Predicted SMILES: C(C1cnH]cc(c1C(=OOCC(C2##############################################################################\n",
      "Predicted SMILES: C(CCc1ccc(C(CC(=O)NCC(Ccc1###########################################################################\n",
      "Predicted SMILES: C(C)Cc1ccc(Cc2cc(Cc3cccccccCCCO44)co2)cc1#l##########################################################\n",
      "Predicted SMILES: CCc1ccc((1NCC(=)CN1(C1(=O)cc1ccccCr)cn1##############################################################\n",
      "Predicted SMILES: C(C)CC(NC(=O)C(CC2cccnH]c3ccccc23)CNC3ccccc3CC=O)N12)c(=O)NC(cCCCO1##################################\n",
      "Predicted SMILES: C1cccC)=O)Nc2ccnH]c(ccCC(C(=O)CCCCCCCC2(C22))CC)C)CCccC)n1###########################################\n",
      "Predicted SMILES: C(=cCC=O)NC1ccccc1)((1ccccc1)C(=O)O##################################################################\n",
      "Predicted SMILES: =C(CCCc2cccccCN+](=O)[O-])c2)N2cccc(cc2C1CCCO3#######################################################\n",
      "Predicted SMILES: =C(Nc1ccc(Cl)ccCl)c1)N11ccc(cc(c(Nc3ccccCl)cc3)c2c1##################################################\n",
      "Predicted SMILES: =C(CC((C2ccccc2)C(=CCN(CcC3ccccc3Cc3ccccc31)CC2######################################################\n",
      "Predicted SMILES: Cc1ccc(CCCCN(C(C=O)N3ccc(CCcc3))CC2)cc1##############################################################\n",
      "Predicted SMILES: C1ccccc(NC3ccCN+](=O)[O-])cc(N)n3C)3ccccc3)nnH]cccc1C################################################\n",
      "Predicted SMILES: C(C)CCc1ccc((C(2cccCCCCO)c3=O)[nH]c2)O)c1############################################################\n",
      "Predicted SMILES: C(CCNCCCCN(C1ccc(Nc2ccccccnH]ccc23)cc1###############################################################\n",
      "Predicted SMILES: C(CCc1ccc(Cc2c((c2))cc1C#############################################################################\n",
      "Predicted SMILES: CCc1=Cc1cccC)ccO)c(O)c1)C(=O)OCCCCC1(=O)cCCcN)=Cc1cccO)ccO)c(O)c1####################################\n",
      "Predicted SMILES: 1cccc(cC3CC3CCC(ccCC44cc5cccc5ncCccc45)CCC)ncncccc3ccc1##############################################\n",
      "Predicted SMILES: C(CC)C(NC(=O)C(CC)(=))Cll)C(=O)O(=)1ccccc1)NC(=O)C(CCNC(=O)CCcC)(C)C#C(=O)NC(CC=O)N))C(C)C###########\n",
      "Predicted SMILES: Cn+]([)C1ccc(Cc2cc3-(CCC(C(=O)cCc44CCOCC4)CC3)cc2C(2ccccCl)cc2)cc1###################################\n",
      "Predicted SMILES: C(CNC2ccccc2C(1C1ccc(c1##############################################################################\n",
      "Predicted SMILES: C1ncCc2ccccCl)cc2)ccnH]c1-(=O)NCC=C=O)C(CcO##########################################################\n",
      "Predicted SMILES: C(1cccCc2ccc(Cc3cc(C))c(ccCCCCC)CC)C4)n2)cccC)c1OC#(=)CO1(CO)c1c#####################################\n",
      "Predicted SMILES: =C(N1cccccc1)CCCCC)N1CCC(c2ccccc2)CC1################################################################\n",
      "Predicted SMILES: C1nc(N)c2c(n)CCCCCCC)cccc2n1#########################################################################\n",
      "Predicted SMILES: C(CO)N1CC((CC(CCC(=O)C((3(C)C2C######################################################################\n",
      "Predicted SMILES: CCc1CC2cc(c2C1(CCN(C(3CC3CC3)CC2)C1##################################################################\n",
      "Predicted SMILES: C1nc2c(c1C(=O)N11ccccc1)CCCCC2#######################################################################\n",
      "Predicted SMILES: CCc1ccc(CCC2cnH]ccC)CCCC33)ON)cccC(=O)N)cc1##########################################################\n",
      "Predicted SMILES: =C(CCCC2cc(CNNc3ccccc3)ccc21#########################################################################\n",
      "Predicted SMILES: C(CO)Nc(1ccc(C((=O)NcC)CCC)2CCCC2)C2ccccc2)cc1#######################################################\n",
      "Predicted SMILES: C1ccc((1C(c1ccc((C(CNC(=O)c2cccC)ccO)c(O)c2)c1#######################################################\n",
      "Predicted SMILES: C(C)CC1nccCc2ccc3cccClN)ccc32)ccn1Cl=)CNC1CCCCC(=)(=O)=O)CC1#########################################\n",
      "Predicted SMILES: Cc1ccc(cC(=)=O)NC2CCCCC)N2C(=O)c2ccc(2)C2cccccC)=)(O)cc)c1#C#########################################\n",
      "Predicted SMILES: Cc1ccc(C(CC2ccCN+](=O)[O-])ccOO)n(C)c3=O)n2C)ccOC)c1#C###############################################\n",
      "Predicted SMILES: Cc1ccc((Cc2ccc((Cc3cc(ccN(=)=O)cccc4c3Cc2)c1#########################################################\n",
      "Predicted SMILES: CCc1cc(N(Cc2ccccc2)cc1CC#############################################################################\n",
      "Predicted SMILES: C(CCCO)NCCCC)=O)OCcCCCC(3CCC4CCC(=O)CCC4(C)C3CCO)CCC1C###############################################\n",
      "Predicted SMILES: C(CCCCCCCCCCCCCCCC=O)N1ccO)ncC)CCCO)O)c(C)CCCCc1C####################################################\n",
      "Predicted SMILES: C(CC)CCC=(22cc(c3[2Ccn3C2OC(CO)C(O)C1O)C(O)(C)O1#O-]#################################################\n",
      "Predicted SMILES: C1c(SC2ccccC(=O)(=O)Nc)cc2)ncc1-c1ccccc1#############################################################\n",
      "Predicted SMILES: C(C)1ccccc1)C(1CC(NCO(Cc=O)c3CCC)CCC21###############################################################\n"
     ]
    },
    {
     "ename": "KeyboardInterrupt",
     "evalue": "",
     "output_type": "error",
     "traceback": [
      "\u001b[1;31m---------------------------------------------------------------------------\u001b[0m",
      "\u001b[1;31mKeyboardInterrupt\u001b[0m                         Traceback (most recent call last)",
      "Cell \u001b[1;32mIn[43], line 17\u001b[0m\n\u001b[0;32m     15\u001b[0m valid_count \u001b[39m=\u001b[39m \u001b[39m0\u001b[39m\n\u001b[0;32m     16\u001b[0m \u001b[39mfor\u001b[39;00m input_smiles \u001b[39min\u001b[39;00m val_data:\n\u001b[1;32m---> 17\u001b[0m     predicted_smiles \u001b[39m=\u001b[39m predict(model, input_smiles, charset, max_length)\n\u001b[0;32m     18\u001b[0m     \u001b[39mprint\u001b[39m(\u001b[39mf\u001b[39m\u001b[39m\"\u001b[39m\u001b[39mPredicted SMILES: \u001b[39m\u001b[39m{\u001b[39;00mpredicted_smiles\u001b[39m}\u001b[39;00m\u001b[39m\"\u001b[39m)\n\u001b[0;32m     19\u001b[0m     \u001b[39mif\u001b[39;00m predicted_smiles \u001b[39mis\u001b[39;00m \u001b[39mnot\u001b[39;00m \u001b[39mNone\u001b[39;00m \u001b[39mand\u001b[39;00m is_valid_smiles(predicted_smiles):\n",
      "Cell \u001b[1;32mIn[43], line 6\u001b[0m, in \u001b[0;36mpredict\u001b[1;34m(model, input_smiles, charset, max_length)\u001b[0m\n\u001b[0;32m      4\u001b[0m data \u001b[39m=\u001b[39m vectorize_smiles(input_smiles, charset, max_length)\n\u001b[0;32m      5\u001b[0m one_hot_data \u001b[39m=\u001b[39m torch\u001b[39m.\u001b[39mzeros(\u001b[39m1\u001b[39m, data[\u001b[39m0\u001b[39m]\u001b[39m.\u001b[39msize(\u001b[39m0\u001b[39m), \u001b[39mlen\u001b[39m(charset))\u001b[39m.\u001b[39mto(device)\n\u001b[1;32m----> 6\u001b[0m one_hot_data\u001b[39m.\u001b[39mscatter_(\u001b[39m2\u001b[39m, data[\u001b[39m0\u001b[39;49m]\u001b[39m.\u001b[39;49mto(\n\u001b[0;32m      7\u001b[0m     device)\u001b[39m.\u001b[39munsqueeze(\u001b[39m0\u001b[39m)\u001b[39m.\u001b[39munsqueeze(\u001b[39m2\u001b[39m), \u001b[39m1\u001b[39m)\n\u001b[0;32m      8\u001b[0m output \u001b[39m=\u001b[39m model(one_hot_data\u001b[39m.\u001b[39mfloat())\n\u001b[0;32m      9\u001b[0m pred_indices \u001b[39m=\u001b[39m output\u001b[39m.\u001b[39margmax(dim\u001b[39m=\u001b[39m\u001b[39m2\u001b[39m)\u001b[39m.\u001b[39msqueeze(\u001b[39m0\u001b[39m)\u001b[39m.\u001b[39mcpu()\u001b[39m.\u001b[39mtolist()\n",
      "\u001b[1;31mKeyboardInterrupt\u001b[0m: "
     ]
    }
   ],
   "source": [
    "def predict(model, input_smiles, charset, max_length):\n",
    "    model.eval()\n",
    "    with torch.no_grad():\n",
    "        data = vectorize_smiles(input_smiles, charset, max_length)\n",
    "        one_hot_data = torch.zeros(1, data[0].size(0), len(charset)).to(device)\n",
    "        one_hot_data.scatter_(2, data[0].to(\n",
    "            device).unsqueeze(0).unsqueeze(2), 1)\n",
    "        output = model(one_hot_data.float())\n",
    "        pred_indices = output.argmax(dim=2).squeeze(0).cpu().tolist()\n",
    "        predicted_smiles = unvectorize_smiles(pred_indices, charset)\n",
    "    return predicted_smiles\n",
    "\n",
    "\n",
    "with open(\"predictions_lstm.txt\", \"w\") as f:\n",
    "    valid_count = 0\n",
    "    for input_smiles in val_data:\n",
    "        predicted_smiles = predict(model, input_smiles, charset, max_length)\n",
    "        print(f\"Predicted SMILES: {predicted_smiles}\")\n",
    "        if predicted_smiles is not None and is_valid_smiles(predicted_smiles):\n",
    "            f.write(predicted_smiles + \"\\n\")\n",
    "            valid_count += 1\n",
    "            if valid_count >= 10:\n",
    "                break\n"
   ]
  },
  {
   "cell_type": "code",
   "execution_count": null,
   "metadata": {},
   "outputs": [],
   "source": []
  },
  {
   "cell_type": "code",
   "execution_count": null,
   "metadata": {},
   "outputs": [],
   "source": []
  }
 ],
 "metadata": {
  "kernelspec": {
   "display_name": "ails-fcd",
   "language": "python",
   "name": "python3"
  },
  "language_info": {
   "codemirror_mode": {
    "name": "ipython",
    "version": 3
   },
   "file_extension": ".py",
   "mimetype": "text/x-python",
   "name": "python",
   "nbconvert_exporter": "python",
   "pygments_lexer": "ipython3",
   "version": "3.10.9"
  },
  "orig_nbformat": 4
 },
 "nbformat": 4,
 "nbformat_minor": 2
}
